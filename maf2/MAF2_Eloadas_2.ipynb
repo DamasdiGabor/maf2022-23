{
 "cells": [
  {
   "cell_type": "markdown",
   "metadata": {
    "slideshow": {
     "slide_type": "slide"
    }
   },
   "source": [
    "# Matematikai Algoritmusok és Felfedezések II.\n",
    "\n",
    "## 2. Python csomagok, virtuális környezetek.\n",
    "\n",
    "### 2023 március 07."
   ]
  },
  {
   "cell_type": "markdown",
   "metadata": {
    "slideshow": {
     "slide_type": "subslide"
    }
   },
   "source": [
    "## Kitérő: `PATH` változó\n",
    "\n",
    "Ha el akarunk indítani egy programot, akkor az operációs rendszer alapvetően abban a mappában keresi a programot, ahol kiadtuk az indítási parancsot. Ha szeretnénk, hogy máshol is keressen akkor a `PATH` változóban kell megadni a keresési mappákat."
   ]
  },
  {
   "cell_type": "code",
   "execution_count": 4,
   "metadata": {},
   "outputs": [
    {
     "name": "stdout",
     "output_type": "stream",
     "text": [
      "C:\\Users\\User\\AppData\\Roaming\\Python\\Python37\\site-packages\\pywin32_system32;C:\\Users\\User\\Anaconda3;C:\\Users\\User\\Anaconda3\\Library\\mingw-w64\\bin;C:\\Users\\User\\Anaconda3\\Library\\usr\\bin;C:\\Users\\User\\Anaconda3\\Library\\bin;C:\\Users\\User\\Anaconda3\\Scripts;C:\\Program Files (x86)\\NVIDIA Corporation\\PhysX\\Common;C:\\Program Files (x86)\\Common Files\\Oracle\\Java\\javapath;C:\\ProgramData\\Oracle\\Java\\javapath;C:\\WINDOWS\\system32;C:\\WINDOWS;C:\\WINDOWS\\System32\\Wbem;C:\\WINDOWS\\System32\\WindowsPowerShell\\v1.0\\;C:\\Program Files\\MiKTeX 2.9\\miktex\\bin\\x64\\;C:\\Program Files (x86)\\GtkSharp\\2.12\\bin;C:\\Program Files (x86)\\Calibre2\\;C:\\WINDOWS\\System32\\OpenSSH\\;C:\\Android;C:\\Windows\\System32;C:\\Program Files\\PuTTY\\;C:\\Program Files\\TortoiseSVN\\bin;C:\\Program Files\\nodejs\\;C:\\Program Files (x86)\\Wolfram Research\\WolframScript\\;C:\\Program Files\\Git\\cmd;C:\\ProgramData\\chocolatey\\bin;C:\\Program Files\\MATLAB\\R2022a\\bin;C:\\Users\\User\\AppData\\Local\\Microsoft\\WindowsApps;C:\\Users\\User\\AppData\\Roaming\\npm;C:\\Users\\User\\AppData\\Local\\GitHubDesktop\\bin;C:\\Users\\User\\Desktop\\glfw-3.3.2.bin.WIN64\\glfw-3.3.2.bin.WIN64\\lib-mingw-w64;C:\\Users\\User\\Desktop\\ffmpeg-20200429-280383a-win64-static\\bin;C:\\Users\\User\\AppData\\Local\\Microsoft\\WindowsApps;C:\\Users\\User\\Desktop\\majdszemet\\chromedriver_win32\n"
     ]
    }
   ],
   "source": [
    "!echo %PATH%"
   ]
  },
  {
   "cell_type": "code",
   "execution_count": 5,
   "metadata": {},
   "outputs": [
    {
     "name": "stdout",
     "output_type": "stream",
     "text": [
      "C:\\Users\\User\\AppData\\Roaming\\Python\\Python37\\site-packages\\pywin32_system32\n",
      "C:\\Users\\User\\Anaconda3\n",
      "C:\\Users\\User\\Anaconda3\\Library\\mingw-w64\\bin\n",
      "C:\\Users\\User\\Anaconda3\\Library\\usr\\bin\n",
      "C:\\Users\\User\\Anaconda3\\Library\\bin\n",
      "C:\\Users\\User\\Anaconda3\\Scripts\n",
      "C:\\Program Files (x86)\\NVIDIA Corporation\\PhysX\\Common\n",
      "C:\\Program Files (x86)\\Common Files\\Oracle\\Java\\javapath\n",
      "C:\\ProgramData\\Oracle\\Java\\javapath\n",
      "C:\\WINDOWS\\system32\n",
      "C:\\WINDOWS\n",
      "C:\\WINDOWS\\System32\\Wbem\n",
      "C:\\WINDOWS\\System32\\WindowsPowerShell\\v1.0\\\n",
      "C:\\Program Files\\MiKTeX 2.9\\miktex\\bin\\x64\\\n",
      "C:\\Program Files (x86)\\GtkSharp\\2.12\\bin\n",
      "C:\\Program Files (x86)\\Calibre2\\\n",
      "C:\\WINDOWS\\System32\\OpenSSH\\\n",
      "C:\\Android\n",
      "C:\\Windows\\System32\n",
      "C:\\Program Files\\PuTTY\\\n",
      "C:\\Program Files\\TortoiseSVN\\bin\n",
      "C:\\Program Files\\nodejs\\\n",
      "C:\\Program Files (x86)\\Wolfram Research\\WolframScript\\\n",
      "C:\\Program Files\\Git\\cmd\n",
      "C:\\ProgramData\\chocolatey\\bin\n",
      "C:\\Program Files\\MATLAB\\R2022a\\bin\n",
      "C:\\Users\\User\\AppData\\Local\\Microsoft\\WindowsApps\n",
      "C:\\Users\\User\\AppData\\Roaming\\npm\n",
      "C:\\Users\\User\\AppData\\Local\\GitHubDesktop\\bin\n",
      "C:\\Users\\User\\Desktop\\glfw-3.3.2.bin.WIN64\\glfw-3.3.2.bin.WIN64\\lib-mingw-w64\n",
      "C:\\Users\\User\\Desktop\\ffmpeg-20200429-280383a-win64-static\\bin\n",
      "C:\\Users\\User\\AppData\\Local\\Microsoft\\WindowsApps\n",
      "C:\\Users\\User\\Desktop\\majdszemet\\chromedriver_win32\n"
     ]
    }
   ],
   "source": [
    "!echo %PATH:;=&echo.%"
   ]
  },
  {
   "cell_type": "markdown",
   "metadata": {},
   "source": [
    "Egy pythonosabb megoldás:"
   ]
  },
  {
   "cell_type": "code",
   "execution_count": 3,
   "metadata": {},
   "outputs": [
    {
     "data": {
      "text/plain": [
       "'C:\\\\Users\\\\User\\\\AppData\\\\Roaming\\\\Python\\\\Python37\\\\site-packages\\\\pywin32_system32;C:\\\\Users\\\\User\\\\Anaconda3;C:\\\\Users\\\\User\\\\Anaconda3\\\\Library\\\\mingw-w64\\\\bin;C:\\\\Users\\\\User\\\\Anaconda3\\\\Library\\\\usr\\\\bin;C:\\\\Users\\\\User\\\\Anaconda3\\\\Library\\\\bin;C:\\\\Users\\\\User\\\\Anaconda3\\\\Scripts;C:\\\\Program Files (x86)\\\\NVIDIA Corporation\\\\PhysX\\\\Common;C:\\\\Program Files (x86)\\\\Common Files\\\\Oracle\\\\Java\\\\javapath;C:\\\\ProgramData\\\\Oracle\\\\Java\\\\javapath;C:\\\\WINDOWS\\\\system32;C:\\\\WINDOWS;C:\\\\WINDOWS\\\\System32\\\\Wbem;C:\\\\WINDOWS\\\\System32\\\\WindowsPowerShell\\\\v1.0\\\\;C:\\\\Program Files\\\\MiKTeX 2.9\\\\miktex\\\\bin\\\\x64\\\\;C:\\\\Program Files (x86)\\\\GtkSharp\\\\2.12\\\\bin;C:\\\\Program Files (x86)\\\\Calibre2\\\\;C:\\\\WINDOWS\\\\System32\\\\OpenSSH\\\\;C:\\\\Android;C:\\\\Windows\\\\System32;C:\\\\Program Files\\\\PuTTY\\\\;C:\\\\Program Files\\\\TortoiseSVN\\\\bin;C:\\\\Program Files\\\\nodejs\\\\;C:\\\\Program Files (x86)\\\\Wolfram Research\\\\WolframScript\\\\;C:\\\\Program Files\\\\Git\\\\cmd;C:\\\\ProgramData\\\\chocolatey\\\\bin;C:\\\\Program Files\\\\MATLAB\\\\R2022a\\\\bin;C:\\\\Users\\\\User\\\\AppData\\\\Local\\\\Microsoft\\\\WindowsApps;C:\\\\Users\\\\User\\\\AppData\\\\Roaming\\\\npm;C:\\\\Users\\\\User\\\\AppData\\\\Local\\\\GitHubDesktop\\\\bin;C:\\\\Users\\\\User\\\\Desktop\\\\glfw-3.3.2.bin.WIN64\\\\glfw-3.3.2.bin.WIN64\\\\lib-mingw-w64;C:\\\\Users\\\\User\\\\Desktop\\\\ffmpeg-20200429-280383a-win64-static\\\\bin;C:\\\\Users\\\\User\\\\AppData\\\\Local\\\\Microsoft\\\\WindowsApps;C:\\\\Users\\\\User\\\\Desktop\\\\majdszemet\\\\chromedriver_win32'"
      ]
     },
     "execution_count": 3,
     "metadata": {},
     "output_type": "execute_result"
    }
   ],
   "source": [
    "import os\n",
    "os.environ['PATH']"
   ]
  },
  {
   "cell_type": "markdown",
   "metadata": {
    "slideshow": {
     "slide_type": "subslide"
    }
   },
   "source": [
    "### Példa: FFmpeg\n",
    " \n",
    " - FFmpeg egy videó szerkesztéshez használt könyvtár, sok program használja\n",
    " \n",
    " "
   ]
  },
  {
   "cell_type": "markdown",
   "metadata": {
    "slideshow": {
     "slide_type": "subslide"
    }
   },
   "source": [
    "## Programozás Jupyter nélkül\n",
    "\n"
   ]
  },
  {
   "cell_type": "markdown",
   "metadata": {},
   "source": [
    "### Python scriptek\n",
    "\n",
    "Általában a kiterjesztés `.py`\n",
    "\n",
    "Futtatás: `python file.py` vagy `python3 file.py` \n",
    "\n",
    "Eredmény fájlba írása: `python file.py > kimenet.txt`"
   ]
  },
  {
   "cell_type": "markdown",
   "metadata": {
    "slideshow": {
     "slide_type": "-"
    }
   },
   "source": [
    "### Parancssori argumentumokat \n",
    "\n",
    "\n",
    "A sys modult használhatjuk, egy listát kapunk melyhez `sys.argv` módon férhetünk hozzá.\n",
    "\n",
    "\n",
    "A parancssori argumentumokat stringként olvassa be!\n",
    " \n",
    " "
   ]
  },
  {
   "cell_type": "markdown",
   "metadata": {
    "slideshow": {
     "slide_type": "subslide"
    }
   },
   "source": [
    "## Program futatása szerveren\n",
    "- putty: Ingyenes ssh kapcsolatot létrehozó program, ezzel jelentkezhetünk be.\n",
    "- WinSCP: Grafikus bejelentkezés szerverre\n",
    "- Hasznos parancsok: top, kill, nohup\n",
    "- Időzített futtatások: crontab"
   ]
  },
  {
   "cell_type": "markdown",
   "metadata": {
    "slideshow": {
     "slide_type": "subslide"
    }
   },
   "source": [
    "## Saját modul írása\n",
    "\n",
    "Egy `module` semmi más csak egy python script. \n",
    "\n",
    "Egy csomag (`package`) több modulból álló rendszer."
   ]
  },
  {
   "cell_type": "markdown",
   "metadata": {
    "slideshow": {
     "slide_type": "fragment"
    }
   },
   "source": [
    "### Modulok használata\n",
    "\n",
    "#### Module Search Path\n",
    "\n",
    "Nagyjából úgy működik mint a szokásos PATH változó, a megadott helyeken keresi a python modulokat. Három helyen keres:\n",
    "\n",
    "- Az adott mappa\n",
    "- A PYTHONPATH környezeti változóba elmentett mappákban\n",
    "- Python instalálástól függő beállított mappákban\n"
   ]
  },
  {
   "cell_type": "code",
   "execution_count": 8,
   "metadata": {
    "slideshow": {
     "slide_type": "subslide"
    }
   },
   "outputs": [
    {
     "data": {
      "text/plain": [
       "['C:\\\\Users\\\\User\\\\Desktop\\\\maf2022-23\\\\maf2',\n",
       " 'C:\\\\Users\\\\User\\\\Anaconda3\\\\python37.zip',\n",
       " 'C:\\\\Users\\\\User\\\\Anaconda3\\\\DLLs',\n",
       " 'C:\\\\Users\\\\User\\\\Anaconda3\\\\lib',\n",
       " 'C:\\\\Users\\\\User\\\\Anaconda3',\n",
       " '',\n",
       " 'C:\\\\Users\\\\User\\\\AppData\\\\Roaming\\\\Python\\\\Python37\\\\site-packages',\n",
       " 'C:\\\\Users\\\\User\\\\AppData\\\\Roaming\\\\Python\\\\Python37\\\\site-packages\\\\win32',\n",
       " 'C:\\\\Users\\\\User\\\\AppData\\\\Roaming\\\\Python\\\\Python37\\\\site-packages\\\\win32\\\\lib',\n",
       " 'C:\\\\Users\\\\User\\\\AppData\\\\Roaming\\\\Python\\\\Python37\\\\site-packages\\\\Pythonwin',\n",
       " 'C:\\\\Users\\\\User\\\\Anaconda3\\\\lib\\\\site-packages',\n",
       " 'C:\\\\Users\\\\User\\\\Anaconda3\\\\lib\\\\site-packages\\\\win32',\n",
       " 'C:\\\\Users\\\\User\\\\Anaconda3\\\\lib\\\\site-packages\\\\win32\\\\lib',\n",
       " 'C:\\\\Users\\\\User\\\\Anaconda3\\\\lib\\\\site-packages\\\\Pythonwin',\n",
       " 'C:\\\\Users\\\\User\\\\Anaconda3\\\\lib\\\\site-packages\\\\IPython\\\\extensions',\n",
       " 'C:\\\\Users\\\\User\\\\.ipython']"
      ]
     },
     "execution_count": 8,
     "metadata": {},
     "output_type": "execute_result"
    }
   ],
   "source": [
    "import sys\n",
    "sys.path"
   ]
  },
  {
   "cell_type": "markdown",
   "metadata": {},
   "source": [
    "A 'PYTHONPATH' a PATH változóval azonos módon beállítható. \n",
    "\n",
    "```import os\n",
    "os.environ['PYTHONPATH']```"
   ]
  },
  {
   "cell_type": "markdown",
   "metadata": {
    "slideshow": {
     "slide_type": "subslide"
    }
   },
   "source": [
    "####  `__name__` használata \n",
    "\n",
    "A `__name__` változó a modul nevére állítódik be, kivéve ha közvetlenül a modult futtatjuk. Ekkor `__main__` lesz. Így megadhatunk olyan kódot, ami importáláskor nem fut le:\n",
    "\n",
    "`if __name__ == \"__main__\":`"
   ]
  },
  {
   "cell_type": "markdown",
   "metadata": {
    "slideshow": {
     "slide_type": "slide"
    }
   },
   "source": [
    "## Saját package létrehozás\n",
    "\n",
    "Tutorial: https://packaging.python.org/tutorials/packaging-projects/\n"
   ]
  },
  {
   "cell_type": "markdown",
   "metadata": {
    "slideshow": {
     "slide_type": "subslide"
    }
   },
   "source": [
    "# Virtuális környezetek (virtual environment)\n",
    "https://conda.io/projects/conda/en/latest/user-guide/tasks/manage-environments.html\n",
    "\n",
    "\n",
    "A virtuális környezetek lényege, hogy könnyebben tudjuk a packageket/modulokat rendszerezni és használni. Minden egyes környezetben a többitől függetlenül lehetnek csomagjaink. Így például nem okoz gondot, ha különböző projektek egy adott csomagnak különböző verziót használják.\n",
    "\n",
    "Több lehetőség van környezetek létrehozására, mi most a `conda`-t nézzük meg."
   ]
  },
  {
   "cell_type": "markdown",
   "metadata": {
    "slideshow": {
     "slide_type": "subslide"
    }
   },
   "source": [
    "Alapvetően az `envs` mappába instalálódnak a környezetek."
   ]
  },
  {
   "cell_type": "markdown",
   "metadata": {},
   "source": [
    "- Létrehozás: `!conda create --name korny_nev`\n",
    "\n",
    "- `conda create -n myenv python=3.6 scipy=0.15.0 astroid babel`\n",
    "\n",
    "- Váltás adott környezetre: `conda activate korny_nev`\n",
    "\n",
    "- Kikapcsolás `conda deactivate`\n",
    "\n",
    "- [Cheat sheet](https://docs.conda.io/projects/conda/en/4.6.0/_downloads/52a95608c49671267e40c689e0bc00ca/conda-cheatsheet.pdf)\n"
   ]
  },
  {
   "cell_type": "markdown",
   "metadata": {
    "slideshow": {
     "slide_type": "subslide"
    }
   },
   "source": [
    "Környezetek listája:\n"
   ]
  },
  {
   "cell_type": "code",
   "execution_count": 11,
   "metadata": {},
   "outputs": [
    {
     "name": "stdout",
     "output_type": "stream",
     "text": [
      "# conda environments:\n",
      "#\n",
      "base                  *  C:\\Users\\User\\Anaconda3\n",
      "clean2021                C:\\Users\\User\\Anaconda3\\envs\\clean2021\n",
      "myenv                    C:\\Users\\User\\Anaconda3\\envs\\myenv\n",
      "proba1                   C:\\Users\\User\\Anaconda3\\envs\\proba1\n",
      "py5coding                C:\\Users\\User\\Anaconda3\\envs\\py5coding\n",
      "ujenv                    C:\\Users\\User\\Anaconda3\\envs\\ujenv\n",
      "\n"
     ]
    }
   ],
   "source": [
    "!conda env list"
   ]
  },
  {
   "cell_type": "markdown",
   "metadata": {
    "slideshow": {
     "slide_type": "subslide"
    }
   },
   "source": [
    "Adott környezet moduljai:"
   ]
  },
  {
   "cell_type": "code",
   "execution_count": 7,
   "metadata": {},
   "outputs": [
    {
     "name": "stdout",
     "output_type": "stream",
     "text": [
      "# packages in environment at C:\\Users\\User\\Anaconda3:\n",
      "#\n",
      "# Name                    Version                   Build  Channel\n",
      "_ipyw_jlab_nb_ext_conf    0.1.0                    py37_0  \n",
      "absl-py                   0.11.0                   pypi_0    pypi\n",
      "aiohttp                   3.6.3                    pypi_0    pypi\n",
      "alabaster                 0.7.12                   py37_0  \n",
      "anaconda                  2019.10                  py37_0  \n",
      "anaconda-client           1.7.2                    py37_0  \n",
      "anaconda-navigator        1.9.7                    py37_0  \n",
      "anaconda-project          0.8.3                      py_0  \n",
      "appdirs                   1.4.4                    pypi_0    pypi\n",
      "argparse                  1.4.0                    pypi_0    pypi\n",
      "asn1crypto                1.0.1                    py37_0  \n",
      "astor                     0.8.1                    pypi_0    pypi\n",
      "astroid                   2.3.1                    py37_0  \n",
      "astropy                   3.2.1            py37he774522_0  \n",
      "async-timeout             3.0.1                    pypi_0    pypi\n",
      "atomicwrites              1.3.0                    py37_1  \n",
      "attrs                     20.3.0                   pypi_0    pypi\n",
      "audioread                 2.1.8                    pypi_0    pypi\n",
      "babel                     2.7.0                      py_0  \n",
      "backcall                  0.1.0                    py37_0  \n",
      "backports                 1.0                        py_2  \n",
      "backports.functools_lru_cache 1.6.1                      py_0  \n",
      "backports.os              0.1.1                    py37_0  \n",
      "backports.shutil_get_terminal_size 1.0.0                    py37_2  \n",
      "backports.tempfile        1.0                        py_1  \n",
      "backports.weakref         1.0.post1                  py_1  \n",
      "beautifulsoup4            4.8.0                    py37_0  \n",
      "bidict                    0.21.2                   pypi_0    pypi\n",
      "bing-image-downloader     1.1.2                    pypi_0    pypi\n",
      "bing-images               0.2.2                    pypi_0    pypi\n",
      "bitarray                  1.0.1            py37he774522_0  \n",
      "bkcharts                  0.2                      py37_0  \n",
      "blas                      1.0                         mkl  \n",
      "bleach                    3.1.0                    py37_0  \n",
      "blosc                     1.16.3               h7bd577a_0  \n",
      "bokeh                     1.3.4                    py37_0  \n",
      "boto                      2.49.0                   py37_0  \n",
      "bottleneck                1.2.1            py37h452e1ab_1  \n",
      "branca                    0.4.0                    pypi_0    pypi\n",
      "bs4                       0.0.1                    pypi_0    pypi\n",
      "bzip2                     1.0.8                he774522_0  \n",
      "ca-certificates           2019.8.28                     0  \n",
      "cachetools                4.0.0                    pypi_0    pypi\n",
      "cairocffi                 1.1.0                    pypi_0    pypi\n",
      "cairosvg                  2.4.2                    pypi_0    pypi\n",
      "calysto                   1.0.6                    pypi_0    pypi\n",
      "certifi                   2022.12.7                pypi_0    pypi\n",
      "cffi                      1.12.3           py37h7a1dbc1_0  \n",
      "chardet                   3.0.4                 py37_1003  \n",
      "charset-normalizer        3.0.1                    pypi_0    pypi\n",
      "click                     7.1.2                    pypi_0    pypi\n",
      "click-default-group       1.2.2                    pypi_0    pypi\n",
      "cloudpickle               1.2.2                      py_0  \n",
      "cloup                     0.7.1                    pypi_0    pypi\n",
      "clyent                    1.2.2                    py37_1  \n",
      "colorama                  0.4.1                    py37_0  \n",
      "colour                    0.1.5                    pypi_0    pypi\n",
      "commonmark                0.9.1                    pypi_0    pypi\n",
      "comtypes                  1.1.7                    py37_0  \n",
      "conda                     4.8.5                    py37_0  \n",
      "conda-build               3.18.9                   py37_3  \n",
      "conda-env                 2.6.0                         1  \n",
      "conda-package-handling    1.6.1            py37h62dcd97_0  \n",
      "conda-verify              3.4.2                      py_1  \n",
      "console_shortcut          0.1.1                         3  \n",
      "contextlib2               0.6.0                      py_0  \n",
      "coverage                  3.7.1                    pypi_0    pypi\n",
      "coveralls                 1.1                      pypi_0    pypi\n",
      "cryptography              2.7              py37h7a1dbc1_0  \n",
      "cssselect                 1.2.0                    pypi_0    pypi\n",
      "cssselect2                0.3.0                    pypi_0    pypi\n",
      "curl                      7.65.3               h2a8f88b_0  \n",
      "cycler                    0.10.0                   py37_0  \n",
      "cython                    0.29.13          py37ha925a31_0  \n",
      "cytoolz                   0.10.0           py37he774522_0  \n",
      "dask                      2.5.2                      py_0  \n",
      "dask-core                 2.5.2                      py_0  \n",
      "decorator                 4.4.0                    py37_1  \n",
      "defusedxml                0.6.0                      py_0  \n",
      "discord-py                1.5.1                    pypi_0    pypi\n",
      "distributed               2.5.2                      py_0  \n",
      "docopt                    0.6.2                    pypi_0    pypi\n",
      "docutils                  0.15.2                   py37_0  \n",
      "emoji                     0.5.4                    pypi_0    pypi\n",
      "entrypoints               0.3                      py37_0  \n",
      "et_xmlfile                1.0.1                    py37_0  \n",
      "fake-useragent            1.1.1                    pypi_0    pypi\n",
      "fastcache                 1.1.0            py37he774522_0  \n",
      "filelock                  3.0.12                     py_0  \n",
      "flask                     1.1.1                      py_0  \n",
      "folium                    0.10.1                   pypi_0    pypi\n",
      "freetype                  2.9.1                ha9979f8_1  \n",
      "freetype-py               2.1.0.post1              pypi_0    pypi\n",
      "fsspec                    0.5.2                      py_0  \n",
      "funcy                     1.16                     pypi_0    pypi\n",
      "future                    0.18.2                   py37_1  \n",
      "gast                      0.2.2                    pypi_0    pypi\n",
      "geojson                   2.5.0                    pypi_0    pypi\n",
      "get_terminal_size         1.0.0                h38e98db_0  \n",
      "gevent                    1.4.0            py37he774522_0  \n",
      "glcontext                 2.3.3                    pypi_0    pypi\n",
      "glfw                      1.11.0                   pypi_0    pypi\n",
      "glob2                     0.7                        py_0  \n",
      "gmaps                     0.9.0                    pypi_0    pypi\n",
      "google-auth               1.11.3                   pypi_0    pypi\n",
      "google-auth-oauthlib      0.4.1                    pypi_0    pypi\n",
      "google-images-download    2.8.0                    pypi_0    pypi\n",
      "google-pasta              0.2.0                    pypi_0    pypi\n",
      "greenlet                  0.4.15           py37hfa6e2cd_0  \n",
      "grinpy                    19.7a0                   pypi_0    pypi\n",
      "grpcio                    1.27.2                   pypi_0    pypi\n",
      "h5py                      2.9.0            py37h5e291fa_0  \n",
      "hdf5                      1.10.4               h7ebc959_0  \n",
      "heapdict                  1.0.1                      py_0  \n",
      "html5lib                  1.0.1                    py37_0  \n",
      "icc_rt                    2019.0.0             h0cc432a_1  \n",
      "icu                       58.2                 ha66f8fd_1  \n",
      "idna                      2.8                      py37_0  \n",
      "imageio                   2.6.0                    py37_0  \n",
      "imageio-ffmpeg            0.4.1                    pypi_0    pypi\n",
      "imagesize                 1.1.0                    py37_0  \n",
      "importlib-metadata        4.13.0                   pypi_0    pypi\n",
      "importlib-resources       5.12.0                   pypi_0    pypi\n",
      "intel-openmp              2019.4                      245  \n",
      "ipykernel                 5.1.2            py37h39e3cac_0  \n",
      "ipympl                    0.5.7                    pypi_0    pypi\n",
      "ipython                   7.8.0            py37h39e3cac_0  \n",
      "ipython_genutils          0.2.0                    py37_0  \n",
      "ipywidgets                7.5.1                      py_0  \n",
      "isort                     4.3.21                   py37_0  \n",
      "itsdangerous              1.1.0                    py37_0  \n",
      "jdcal                     1.4.1                      py_0  \n",
      "jedi                      0.15.1                   py37_0  \n",
      "jinja2                    2.10.3                     py_0  \n",
      "joblib                    0.13.2                   py37_0  \n",
      "jpeg                      9b                   hb83a4c4_2  \n",
      "json5                     0.8.5                      py_0  \n",
      "jsonschema                3.0.2                    py37_0  \n",
      "jupyter                   1.0.0                    py37_7  \n",
      "jupyter-contrib-core      0.3.3                    pypi_0    pypi\n",
      "jupyter-contrib-nbextensions 0.5.1                    pypi_0    pypi\n",
      "jupyter-highlight-selected-word 0.2.0                    pypi_0    pypi\n",
      "jupyter-latex-envs        1.4.6                    pypi_0    pypi\n",
      "jupyter-manim             1.3                      pypi_0    pypi\n",
      "jupyter-nbextensions-configurator 0.4.1                    pypi_0    pypi\n",
      "jupyter_client            5.3.3                    py37_1  \n",
      "jupyter_console           6.0.0                    py37_0  \n",
      "jupyter_core              4.5.0                      py_0  \n",
      "jupyterlab                1.1.4              pyhf63ae98_0  \n",
      "jupyterlab_server         1.0.6                      py_0  \n",
      "jupyterthemes             0.20.0                   pypi_0    pypi\n",
      "keras-applications        1.0.8                    pypi_0    pypi\n",
      "keras-preprocessing       1.1.0                    pypi_0    pypi\n",
      "keyring                   18.0.0                   py37_0  \n",
      "kiwisolver                1.1.0            py37ha925a31_0  \n",
      "krb5                      1.16.1               hc04afaa_7  \n",
      "lazy-object-proxy         1.4.2            py37he774522_0  \n",
      "lesscpy                   0.14.0                   pypi_0    pypi\n",
      "libarchive                3.3.3                h0643e63_5  \n",
      "libcurl                   7.65.3               h2a8f88b_0  \n",
      "libiconv                  1.15                 h1df5818_7  \n",
      "liblief                   0.9.0                ha925a31_2  \n",
      "libpng                    1.6.37               h2a8f88b_0  \n",
      "librosa                   0.7.2                    pypi_0    pypi\n",
      "libsodium                 1.0.16               h9d3ae62_0  \n",
      "libssh2                   1.8.2                h7a1dbc1_0  \n",
      "libtiff                   4.0.10               hb898794_2  \n",
      "libxml2                   2.9.9                h464c3ec_0  \n",
      "libxslt                   1.1.33               h579f668_0  \n",
      "llvmlite                  0.29.0           py37ha925a31_0  \n",
      "locket                    0.2.0                    py37_1  \n",
      "lxml                      4.4.1            py37h1350720_0  \n",
      "lz4-c                     1.8.1.2              h2fa13f4_0  \n",
      "lzo                       2.10                 h6df0209_2  \n",
      "m2w64-gcc-libgfortran     5.3.0                         6  \n",
      "m2w64-gcc-libs            5.3.0                         7  \n",
      "m2w64-gcc-libs-core       5.3.0                         7  \n",
      "m2w64-gmp                 6.1.0                         2  \n",
      "m2w64-libwinpthread-git   5.0.0.4634.697f757               2  \n",
      "manim                     0.6.0                    pypi_0    pypi\n",
      "manimlib                  0.2.0                    pypi_0    pypi\n",
      "manimpango                0.2.6                    pypi_0    pypi\n",
      "mapbox-earcut             0.12.10                  pypi_0    pypi\n",
      "markdown                  3.2.1                    pypi_0    pypi\n",
      "markupsafe                1.1.1            py37he774522_0  \n",
      "matplotlib                3.1.1            py37hc8f65d3_0  \n",
      "mccabe                    0.6.1                    py37_1  \n",
      "menuinst                  1.4.16           py37he774522_0  \n",
      "mistune                   0.8.4            py37he774522_0  \n",
      "mkl                       2019.4                      245  \n",
      "mkl-service               2.3.0            py37hb782905_0  \n",
      "mkl_fft                   1.0.14           py37h14836fe_0  \n",
      "mkl_random                1.1.0            py37h675688f_0  \n",
      "mock                      3.0.5                    py37_0  \n",
      "moderngl                  5.6.4                    pypi_0    pypi\n",
      "moderngl-window           2.3.0                    pypi_0    pypi\n",
      "more-itertools            7.2.0                    py37_0  \n",
      "moviepy                   1.0.1                    pypi_0    pypi\n",
      "mpmath                    1.1.0                    py37_0  \n",
      "msgpack-python            0.6.1            py37h74a9793_1  \n",
      "msys2-conda-epoch         20160418                      1  \n",
      "multidict                 4.7.6                    pypi_0    pypi\n",
      "multipledispatch          0.6.0                    py37_0  \n",
      "navigator-updater         0.2.1                    py37_0  \n",
      "nbconvert                 5.6.0                    py37_1  \n",
      "nbformat                  4.4.0                    py37_0  \n",
      "nbopen                    0.6                      pypi_0    pypi\n",
      "networkx                  2.5.1                    pypi_0    pypi\n",
      "nltk                      3.4.5                    py37_0  \n",
      "noisereduce               1.1.0                    pypi_0    pypi\n",
      "nose                      1.3.7                    py37_2  \n",
      "notebook                  6.0.1                    py37_0  \n",
      "numba                     0.45.1           py37hf9181ef_0  \n",
      "numexpr                   2.7.0            py37hdce8814_0  \n",
      "numpy                     1.16.5                   pypi_0    pypi\n",
      "numpydoc                  0.9.1                      py_0  \n",
      "oauthlib                  3.1.0                    pypi_0    pypi\n",
      "olefile                   0.46                     py37_0  \n",
      "opencv-python             3.4.2.17                 pypi_0    pypi\n",
      "openpyxl                  3.0.0                      py_0  \n",
      "openssl                   1.1.1d               he774522_2  \n",
      "opt-einsum                3.2.0                    pypi_0    pypi\n",
      "ortools                   8.1.8487                 pypi_0    pypi\n",
      "p5                        0.6.0                    pypi_0    pypi\n",
      "packaging                 19.2                       py_0  \n",
      "pandas                    0.25.1           py37ha925a31_0  \n",
      "pandoc                    2.2.3.2                       0  \n",
      "pandocfilters             1.4.2                    py37_1  \n",
      "parse                     1.19.0                   pypi_0    pypi\n",
      "parsimonious              0.8.1                    pypi_0    pypi\n",
      "parso                     0.5.1                      py_0  \n",
      "partd                     1.0.0                      py_0  \n",
      "path.py                   12.0.1                     py_0  \n",
      "pathlib2                  2.3.5                    py37_0  \n",
      "patsy                     0.5.1                    py37_0  \n",
      "pep8                      1.7.1                    py37_0  \n",
      "pickleshare               0.7.5                    py37_0  \n",
      "pillow                    9.4.0                    pypi_0    pypi\n",
      "pip                       19.2.3                   py37_0  \n",
      "pkginfo                   1.5.0.1                  py37_0  \n",
      "pluggy                    0.13.0                   py37_0  \n",
      "ply                       3.11                     py37_0  \n",
      "powershell_shortcut       0.0.1                         2  \n",
      "proglog                   0.1.9                    pypi_0    pypi\n",
      "progressbar               2.5                      pypi_0    pypi\n",
      "prometheus_client         0.7.1                      py_0  \n",
      "prompt_toolkit            2.0.10                     py_0  \n",
      "protobuf                  3.14.0                   pypi_0    pypi\n",
      "psutil                    5.6.3            py37he774522_0  \n",
      "pulp                      2.1                      pypi_0    pypi\n",
      "py                        1.8.0                    py37_0  \n",
      "py-lief                   0.9.0            py37ha925a31_2  \n",
      "pyasn1                    0.4.8                    pypi_0    pypi\n",
      "pyasn1-modules            0.2.8                    pypi_0    pypi\n",
      "pycairo                   1.19.1                   pypi_0    pypi\n",
      "pycares                   3.1.1                    pypi_0    pypi\n",
      "pycodestyle               2.5.0                    py37_0  \n",
      "pycosat                   0.6.3            py37hfa6e2cd_0  \n",
      "pycparser                 2.19                     py37_0  \n",
      "pycrypto                  2.6.1            py37hfa6e2cd_9  \n",
      "pycurl                    7.43.0.3         py37h7a1dbc1_0  \n",
      "pydub                     0.24.1                   pypi_0    pypi\n",
      "pyee                      8.2.2                    pypi_0    pypi\n",
      "pyflakes                  2.1.1                    py37_0  \n",
      "pygame                    1.9.6                    pypi_0    pypi\n",
      "pyglet                    1.5.16                   pypi_0    pypi\n",
      "pygments                  2.4.2                      py_0  \n",
      "pylint                    2.4.2                    py37_0  \n",
      "pyodbc                    4.0.27           py37ha925a31_0  \n",
      "pyopenssl                 19.0.0                   py37_0  \n",
      "pyparsing                 2.4.2                      py_0  \n",
      "pypiwin32                 223                      pypi_0    pypi\n",
      "pyppeteer                 1.0.2                    pypi_0    pypi\n",
      "pyqt                      5.9.2            py37h6538335_2  \n",
      "pyquery                   2.0.0                    pypi_0    pypi\n",
      "pyreadline                2.1                      py37_1  \n",
      "pyrr                      0.10.3                   pypi_0    pypi\n",
      "pyrsistent                0.15.4                   pypi_0    pypi\n",
      "pysimplegui               4.60.4                   pypi_0    pypi\n",
      "pysocks                   1.7.1                    py37_0  \n",
      "pytables                  3.5.2            py37h1da0976_1  \n",
      "pytest                    5.2.1                    py37_0  \n",
      "pytest-arraydiff          0.3              py37h39e3cac_0  \n",
      "pytest-astropy            0.5.0                    py37_0  \n",
      "pytest-cov                2.5.1                    pypi_0    pypi\n",
      "pytest-doctestplus        0.4.0                      py_0  \n",
      "pytest-openfiles          0.4.0                      py_0  \n",
      "pytest-remotedata         0.3.2                    py37_0  \n",
      "python                    3.7.4                h5263a28_0  \n",
      "python-dateutil           2.8.0                    py37_0  \n",
      "python-docx               0.8.11                   pypi_0    pypi\n",
      "python-dotenv             0.15.0                   pypi_0    pypi\n",
      "python-graphviz           0.14.1                   pypi_0    pypi\n",
      "python-libarchive-c       2.8                     py37_13  \n",
      "python-pptx               0.6.18                   pypi_0    pypi\n",
      "pyttsx3                   2.90                     pypi_0    pypi\n",
      "pytz                      2019.3                     py_0  \n",
      "pywavelets                1.0.3            py37h8c2d366_1  \n",
      "pywin32                   227                      pypi_0    pypi\n",
      "pywinpty                  0.5.5                 py37_1000  \n",
      "pyyaml                    5.1.2            py37he774522_0  \n",
      "pyzmq                     18.1.0           py37ha925a31_0  \n",
      "qt                        5.9.7            vc14h73c81de_0  \n",
      "qtawesome                 0.6.0                      py_0  \n",
      "qtconsole                 4.5.5                      py_0  \n",
      "qtpy                      1.9.0                      py_0  \n",
      "requests                  2.28.2                   pypi_0    pypi\n",
      "requests-html             0.10.0                   pypi_0    pypi\n",
      "requests-oauthlib         1.3.0                    pypi_0    pypi\n",
      "resampy                   0.2.2                    pypi_0    pypi\n",
      "rich                      6.2.0                    pypi_0    pypi\n",
      "rise                      5.7.1                    pypi_0    pypi\n",
      "rope                      0.14.0                     py_0  \n",
      "rsa                       4.0                      pypi_0    pypi\n",
      "ruamel_yaml               0.15.46          py37hfa6e2cd_0  \n",
      "scikit-image              0.15.0           py37ha925a31_0  \n",
      "scikit-learn              0.21.3           py37h6288b17_0  \n",
      "scipy                     1.1.0                    pypi_0    pypi\n",
      "seaborn                   0.9.0                    py37_0  \n",
      "selenium                  3.141.0                  pypi_0    pypi\n",
      "send2trash                1.5.0                    py37_0  \n",
      "setuptools                41.4.0                   py37_0  \n",
      "simplegeneric             0.8.1                    py37_2  \n",
      "singledispatch            3.4.0.3                  py37_0  \n",
      "sip                       4.19.8           py37h6538335_0  \n",
      "six                       1.14.0                   pypi_0    pypi\n",
      "snakeviz                  2.1.0                    pypi_0    pypi\n",
      "snappy                    1.1.7                h777316e_3  \n",
      "snowballstemmer           2.0.0                      py_0  \n",
      "sortedcollections         1.1.2                    py37_0  \n",
      "sortedcontainers          2.1.0                    py37_0  \n",
      "soundfile                 0.10.3.post1             pypi_0    pypi\n",
      "soupsieve                 1.9.3                    py37_0  \n",
      "speechrecognition         3.8.1                    pypi_0    pypi\n",
      "sphinx                    2.2.0                      py_0  \n",
      "sphinxcontrib             1.0                      py37_1  \n",
      "sphinxcontrib-applehelp   1.0.1                      py_0  \n",
      "sphinxcontrib-devhelp     1.0.1                      py_0  \n",
      "sphinxcontrib-htmlhelp    1.0.2                      py_0  \n",
      "sphinxcontrib-jsmath      1.0.1                      py_0  \n",
      "sphinxcontrib-qthelp      1.0.2                      py_0  \n",
      "sphinxcontrib-serializinghtml 1.1.3                      py_0  \n",
      "sphinxcontrib-websupport  1.1.2                      py_0  \n",
      "spyder                    3.3.6                    py37_0  \n",
      "spyder-kernels            0.5.2                    py37_0  \n",
      "sqlalchemy                1.3.9            py37he774522_0  \n",
      "sqlite                    3.30.0               he774522_0  \n",
      "statsmodels               0.10.1           py37h8c2d366_0  \n",
      "style                     1.1.0                    pypi_0    pypi\n",
      "svgwrite                  1.4                      pypi_0    pypi\n",
      "sympy                     1.4                      py37_0  \n",
      "tabulate                  0.8.7                    pypi_0    pypi\n",
      "tbb                       2019.4               h74a9793_0  \n",
      "tblib                     1.4.0                      py_0  \n",
      "tensorboard               2.1.1                    pypi_0    pypi\n",
      "tensorflow                2.1.0                    pypi_0    pypi\n",
      "tensorflow-estimator      2.1.0                    pypi_0    pypi\n",
      "termcolor                 1.1.0                    pypi_0    pypi\n",
      "terminado                 0.8.2                    py37_0  \n",
      "testpath                  0.4.2                    py37_0  \n",
      "texsoup                   0.2.0                    pypi_0    pypi\n",
      "tinycss2                  1.0.2                    pypi_0    pypi\n",
      "tk                        8.6.8                hfa6e2cd_0  \n",
      "toolz                     0.10.0                     py_0  \n",
      "toposort                  1.6                      pypi_0    pypi\n",
      "tornado                   6.0.3            py37he774522_0  \n",
      "tqdm                      4.64.1                   pypi_0    pypi\n",
      "traitlets                 4.3.3                    py37_0  \n",
      "triangle                  20200424                 pypi_0    pypi\n",
      "typing-extensions         3.7.4.3                  pypi_0    pypi\n",
      "unicodecsv                0.14.1                   py37_0  \n",
      "update                    0.0.1                    pypi_0    pypi\n",
      "urllib3                   1.26.14                  pypi_0    pypi\n",
      "vc                        14.1                 h0510ff6_4  \n",
      "vispy                     0.6.4                    pypi_0    pypi\n",
      "vs2015_runtime            14.16.27012          hf0eaf9b_0  \n",
      "w3lib                     2.1.1                    pypi_0    pypi\n",
      "wand                      0.6.3                    pypi_0    pypi\n",
      "watchdog                  2.1.0                    pypi_0    pypi\n",
      "wcwidth                   0.1.7                    py37_0  \n",
      "webbot                    0.1.4                    pypi_0    pypi\n",
      "webdriver-manager         3.8.5                    pypi_0    pypi\n",
      "webencodings              0.5.1                    py37_1  \n",
      "websockets                10.4                     pypi_0    pypi\n",
      "werkzeug                  0.16.0                     py_0  \n",
      "wheel                     0.33.6                   py37_0  \n",
      "widgetsnbextension        3.5.1                    py37_0  \n",
      "wikidata                  0.7.0                    pypi_0    pypi\n",
      "wikipedia                 1.4.0                    pypi_0    pypi\n",
      "win_inet_pton             1.1.0                    py37_0  \n",
      "win_unicode_console       0.5                      py37_0  \n",
      "wincertstore              0.2                      py37_0  \n",
      "windows-curses            2.3.1                    pypi_0    pypi\n",
      "winpty                    0.4.3                         4  \n",
      "wrapt                     1.11.2           py37he774522_0  \n",
      "wtfpython                 0.2.1                    pypi_0    pypi\n",
      "xlrd                      1.2.0                    py37_0  \n",
      "xlsxwriter                1.2.1                      py_0  \n",
      "xlwings                   0.15.10                  py37_0  \n",
      "xlwt                      1.3.0                    py37_0  \n",
      "xz                        5.2.4                h2fa13f4_4  \n",
      "yaml                      0.1.7                hc54c509_2  \n",
      "yarl                      1.5.1                    pypi_0    pypi\n",
      "zeromq                    4.3.1                h33f27b4_3  \n",
      "zict                      1.0.0                      py_0  \n",
      "zipp                      0.6.0                      py_0  \n",
      "zlib                      1.2.11               h62dcd97_3  \n",
      "zstd                      1.3.7                h508b16e_0  \n"
     ]
    }
   ],
   "source": [
    "!conda list -n base"
   ]
  },
  {
   "cell_type": "markdown",
   "metadata": {
    "slideshow": {
     "slide_type": "subslide"
    }
   },
   "source": [
    "Mindeféle egyebeket is lehet, például:\n",
    "\n",
    "- környezet másolása\n",
    "- előre megadott csomagok instalálása\n",
    "- sok gépen azonos környezet létrehozása"
   ]
  },
  {
   "cell_type": "markdown",
   "metadata": {
    "slideshow": {
     "slide_type": "subslide"
    }
   },
   "source": [
    "# Mit tehetek ha mégis egy szokásos \"programot\" szeretnék fordítani?\n",
    "\n",
    "Ez akkor lehet hasznos, ha olyan gépen szeretnénk futtatni, ahol nincs python.\n",
    "\n",
    "`PyInstaller` \n",
    "\n",
    "Használat: \n",
    "\n",
    "`pyinstaller --onefile  myscript.py`"
   ]
  },
  {
   "cell_type": "markdown",
   "metadata": {
    "slideshow": {
     "slide_type": "subslide"
    }
   },
   "source": [
    "# Github"
   ]
  },
  {
   "cell_type": "markdown",
   "metadata": {
    "slideshow": {
     "slide_type": "subslide"
    }
   },
   "source": [
    "<img src=\"filenames.png\" alt=\"Drawing\" style=\"width: 600px;\"/>"
   ]
  },
  {
   "cell_type": "markdown",
   "metadata": {
    "slideshow": {
     "slide_type": "subslide"
    }
   },
   "source": [
    "## Verziókövetés \n",
    "\n",
    "Egy verziókövető rendszer alatt olyan eszözök összeségét értjük, melyek segítségével fájlok állapotának előzményeit tudjuk tárolni. Tehát egy verziókövető rendszer segítségével bármikor elmentheted a fájlaid aktuális állapotát és a korábbi állapotokat bármikor visszaállíthatod. \n",
    "\n",
    "- **Repository:** Egy tároló, ami tartalmazza a munkánk minden korábbi mentett változatát. \n",
    "- **Working directory:** Ahol éppen dolgozunk."
   ]
  },
  {
   "cell_type": "markdown",
   "metadata": {
    "slideshow": {
     "slide_type": "subslide"
    }
   },
   "source": [
    "Az SVN-ek tipikus műveletei: \n",
    "<img src=\"svn.png\" alt=\"Drawing\" style=\"width: 1000px;\"/>"
   ]
  },
  {
   "cell_type": "markdown",
   "metadata": {
    "slideshow": {
     "slide_type": "subslide"
    }
   },
   "source": [
    " - `add`: fájl hozzáadása\n",
    " - `commit`: változtatás fájlokon, a wroking directory állapotát elmenjük a repositoryba\n",
    " - `delete`: fájl törlése\n",
    "    \n",
    "    \n",
    " - `diff`: egy fájl összehasonlítása a repositoryban szereplő verzióval\n",
    " - `status`: egész repository összehasonlítása a working directoryval\n",
    " - `log`: eddigi változtatások listája\n",
    " \n",
    " \n",
    " - `checkout`: working directory létrehozás a repository egy megadott verziója alapján \n",
    " - `update`: a working directory frissítése  a repository alapján\n",
    " - `revert`: a working directory visszaállítása hogy egyező legyen a repository egy megadott állapotával"
   ]
  },
  {
   "cell_type": "markdown",
   "metadata": {
    "slideshow": {
     "slide_type": "subslide"
    }
   },
   "source": [
    "## Elosztott verziókövetés\n",
    "\n",
    "Több repository van, cél, hogy mind ugyanazt tartalmazza. \n",
    "\n",
    "Egy lehetőség, hogy van egy központi repository. Ez többféle gondhoz is vezethet.\n",
    "\n",
    "A Git nem ezt a modelt követi, hanem minden felhasználó rendelkezik a repository teljes másolatával. Így könnyű offline dolgozni, viszont időnként nehéz összehangolni a repositorykat. \n"
   ]
  },
  {
   "cell_type": "markdown",
   "metadata": {
    "slideshow": {
     "slide_type": "subslide"
    }
   },
   "source": [
    "### Git (még nem Hub)\n",
    "\n",
    "Tutorial: https://realpython.com/python-git-github-intro/\n",
    "\n",
    "Interaktív vizualizáció: https://learngitbranching.js.org/"
   ]
  },
  {
   "cell_type": "markdown",
   "metadata": {
    "slideshow": {
     "slide_type": "subslide"
    }
   },
   "source": [
    "\n",
    "<img src=\"https://imgs.xkcd.com/comics/git.png\" alt=\"Drawing\" style=\"width: 400px;\"/>\n"
   ]
  },
  {
   "cell_type": "markdown",
   "metadata": {
    "slideshow": {
     "slide_type": "subslide"
    }
   },
   "source": [
    "### .gitignore\n",
    "\n",
    "A .gitignore egy szöveges fájl amiben megjelölhetjük, hogy mely fájlokat ne vegye figyelembe a git.\n",
    "Például:\n",
    "\n",
    "```\n",
    "__pycache__\n",
    "venv\n",
    "env\n",
    ".pytest_cache\n",
    ".coverage```"
   ]
  },
  {
   "cell_type": "markdown",
   "metadata": {
    "slideshow": {
     "slide_type": "fragment"
    }
   },
   "source": [
    "#### Mit ne adjunk hozzá a repositoryhoz?"
   ]
  },
  {
   "cell_type": "markdown",
   "metadata": {
    "slideshow": {
     "slide_type": "fragment"
    }
   },
   "source": [
    "- Generált fájlokat (Túl nagyon és nem hatékony)\n",
    "- Bizalmas információt. (Néha nem is gondolnál rá!!)"
   ]
  },
  {
   "cell_type": "markdown",
   "metadata": {
    "slideshow": {
     "slide_type": "subslide"
    }
   },
   "source": [
    "## GitHub\n",
    "\n",
    "A gitre épülő rendszer, mely a távoli repositoryk fentartására lehet használni.\n",
    "\n"
   ]
  },
  {
   "cell_type": "markdown",
   "metadata": {
    "slideshow": {
     "slide_type": "fragment"
    }
   },
   "source": [
    "### Dolgozás távoli repositorykal \n",
    "A fő parancsok:\n",
    "\n",
    "- `git clone`  Távoli repository alapján új repository\n",
    "- `git fetch`  Távoli repository alapján megfelelő branchek frissítése\n",
    "- `git pull`   Távoli repository alapján megfelelő branchek frissítése majd merge \n",
    "- `git push`   Távoli repository frissítése saját alapján"
   ]
  }
 ],
 "metadata": {
  "celltoolbar": "Slideshow",
  "kernelspec": {
   "display_name": "Python 3",
   "language": "python",
   "name": "python3"
  },
  "language_info": {
   "codemirror_mode": {
    "name": "ipython",
    "version": 3
   },
   "file_extension": ".py",
   "mimetype": "text/x-python",
   "name": "python",
   "nbconvert_exporter": "python",
   "pygments_lexer": "ipython3",
   "version": "3.7.4"
  }
 },
 "nbformat": 4,
 "nbformat_minor": 2
}
