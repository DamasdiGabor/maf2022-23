{
 "cells": [
  {
   "cell_type": "markdown",
   "metadata": {
    "slideshow": {
     "slide_type": "slide"
    }
   },
   "source": [
    "# Matematikai Algoritmusok és Felfedezések II.\n",
    "\n",
    "## 8. Párhuzamos számítások\n",
    "\n",
    "### 2023 április 26."
   ]
  },
  {
   "cell_type": "markdown",
   "metadata": {
    "slideshow": {
     "slide_type": "subslide"
    }
   },
   "source": [
    "# Párhuzamos számítások\n",
    "\n",
    "Ez az óra ezt a tutorialt követi: https://realpython.com/python-concurrency/"
   ]
  },
  {
   "cell_type": "markdown",
   "metadata": {
    "slideshow": {
     "slide_type": "-"
    }
   },
   "source": [
    "#### Motiváció\n",
    "\n",
    "Szeretnénk kihasználni, hogy több processzorunk van, és gyorsabb programokat létrehozni."
   ]
  },
  {
   "cell_type": "markdown",
   "metadata": {
    "slideshow": {
     "slide_type": "slide"
    }
   },
   "source": [
    "# Bevezető\n",
    "\n",
    "Mit értünk párhuzamosság alatt?\n",
    "\n",
    "- Valódi párhuzamosság: két különböző processzor azonos időben dolgozik. (**Paralellism**)\n",
    "- Látszólagos párhuzamosság: egy processzor több porgram futását váltogatja gyorsan (**Concurency**)\n"
   ]
  },
  {
   "cell_type": "markdown",
   "metadata": {
    "slideshow": {
     "slide_type": "fragment"
    }
   },
   "source": [
    "## Mutitasking típusai\n",
    " - **pre-emptive**: A programok 'nem tudnak róla', hogy párhuzamosan futnak, egy külső rendszer felelős a párhuzamosításért.\n",
    " - **cooperative**: A programok maguk mondják meg, hogy mikor lehet őket leállítani és elindítani. "
   ]
  },
  {
   "cell_type": "markdown",
   "metadata": {
    "slideshow": {
     "slide_type": "subslide"
    }
   },
   "source": [
    "| Concurrency Type                     | Switching Decision                                                    | Number of Processors |\n",
    "|--------------------------------------|-----------------------------------------------------------------------|----------------------|\n",
    "| Pre-emptive multitasking (`threading`) | Az operációs rendszer dönti el, hogy mikor váltson a feladatok között.| 1                    |\n",
    "| Cooperative multitasking (`asyncio`)   | A feladatok döntik el, hogy mikor adják át az irányítást.             | 1                    |\n",
    "| Multiprocessing (`multiprocessing`)    | A feladatok párhuzamosan futnak különböző processzorokon              | sok                |"
   ]
  },
  {
   "cell_type": "markdown",
   "metadata": {
    "slideshow": {
     "slide_type": "subslide"
    }
   },
   "source": [
    "# Mikor hasznos a párhuzamosítás?\n",
    "\n",
    "| I/O-Bound Process                                                                                                     | CPU-Bound Process                                                                        |\n",
    "|-----------------------------------------------------------------------------------------------------------------------|------------------------------------------------------------------------------------------|\n",
    "| A program az ideje nagy részét azzal tölti, hogy lassú folyamatokkal kommunikál, mint egy hálózati kapcsolat vagy hard drive | A program az idő nagy részében számításokat végez a CPU-n.\n",
    "| A várakozási idők átfedésével gyorsítjuk fel.| Több számítás egyidejű elvégézésével gyorsítjuk fel.  "
   ]
  },
  {
   "cell_type": "markdown",
   "metadata": {
    "slideshow": {
     "slide_type": "subslide"
    }
   },
   "source": [
    "# I/O bound példa\n",
    "\n",
    "Néhány honlapot szeretnénk letölteni. "
   ]
  },
  {
   "cell_type": "code",
   "execution_count": 4,
   "metadata": {},
   "outputs": [
    {
     "name": "stdout",
     "output_type": "stream",
     "text": [
      "Read 10782 from https://www.jython.org\n",
      "Read 274 from http://olympus.realpython.org/dice\n",
      "Read 10782 from https://www.jython.org\n",
      "Read 274 from http://olympus.realpython.org/dice\n",
      "Read 10782 from https://www.jython.org\n",
      "Read 274 from http://olympus.realpython.org/dice\n",
      "Read 10782 from https://www.jython.org\n",
      "Read 274 from http://olympus.realpython.org/dice\n",
      "Read 10782 from https://www.jython.org\n",
      "Read 274 from http://olympus.realpython.org/dice\n",
      "Read 10782 from https://www.jython.org\n",
      "Read 274 from http://olympus.realpython.org/dice\n",
      "Read 10782 from https://www.jython.org\n",
      "Read 274 from http://olympus.realpython.org/dice\n",
      "Read 10782 from https://www.jython.org\n",
      "Read 274 from http://olympus.realpython.org/dice\n",
      "Read 10782 from https://www.jython.org\n",
      "Read 274 from http://olympus.realpython.org/dice\n",
      "Read 10782 from https://www.jython.org\n",
      "Read 274 from http://olympus.realpython.org/dice\n",
      "Read 10782 from https://www.jython.org\n",
      "Read 274 from http://olympus.realpython.org/dice\n",
      "Read 10782 from https://www.jython.org\n",
      "Read 274 from http://olympus.realpython.org/dice\n",
      "Read 10782 from https://www.jython.org\n",
      "Read 274 from http://olympus.realpython.org/dice\n",
      "Read 10782 from https://www.jython.org\n",
      "Read 274 from http://olympus.realpython.org/dice\n",
      "Read 10782 from https://www.jython.org\n",
      "Read 274 from http://olympus.realpython.org/dice\n",
      "Read 10782 from https://www.jython.org\n",
      "Read 274 from http://olympus.realpython.org/dice\n",
      "Read 10782 from https://www.jython.org\n",
      "Read 274 from http://olympus.realpython.org/dice\n",
      "Read 10782 from https://www.jython.org\n",
      "Read 274 from http://olympus.realpython.org/dice\n",
      "Read 10782 from https://www.jython.org\n",
      "Read 274 from http://olympus.realpython.org/dice\n",
      "Read 10782 from https://www.jython.org\n",
      "Read 274 from http://olympus.realpython.org/dice\n",
      "Read 10782 from https://www.jython.org\n",
      "Read 274 from http://olympus.realpython.org/dice\n",
      "Read 10782 from https://www.jython.org\n",
      "Read 274 from http://olympus.realpython.org/dice\n",
      "Read 10782 from https://www.jython.org\n",
      "Read 274 from http://olympus.realpython.org/dice\n",
      "Read 10782 from https://www.jython.org\n",
      "Read 274 from http://olympus.realpython.org/dice\n",
      "Read 10782 from https://www.jython.org\n",
      "Read 274 from http://olympus.realpython.org/dice\n",
      "Read 10782 from https://www.jython.org\n",
      "Read 274 from http://olympus.realpython.org/dice\n",
      "Read 10782 from https://www.jython.org\n",
      "Read 274 from http://olympus.realpython.org/dice\n",
      "Read 10782 from https://www.jython.org\n",
      "Read 274 from http://olympus.realpython.org/dice\n",
      "Read 10782 from https://www.jython.org\n",
      "Read 274 from http://olympus.realpython.org/dice\n",
      "Read 10782 from https://www.jython.org\n",
      "Read 274 from http://olympus.realpython.org/dice\n",
      "Read 10782 from https://www.jython.org\n",
      "Read 274 from http://olympus.realpython.org/dice\n",
      "Read 10782 from https://www.jython.org\n",
      "Read 274 from http://olympus.realpython.org/dice\n",
      "Read 10782 from https://www.jython.org\n",
      "Read 274 from http://olympus.realpython.org/dice\n",
      "Read 10782 from https://www.jython.org\n",
      "Read 274 from http://olympus.realpython.org/dice\n",
      "Read 10782 from https://www.jython.org\n",
      "Read 274 from http://olympus.realpython.org/dice\n",
      "Read 10782 from https://www.jython.org\n",
      "Read 274 from http://olympus.realpython.org/dice\n",
      "Read 10782 from https://www.jython.org\n",
      "Read 274 from http://olympus.realpython.org/dice\n",
      "Read 10782 from https://www.jython.org\n",
      "Read 274 from http://olympus.realpython.org/dice\n",
      "Read 10782 from https://www.jython.org\n",
      "Read 274 from http://olympus.realpython.org/dice\n",
      "Read 10782 from https://www.jython.org\n",
      "Read 274 from http://olympus.realpython.org/dice\n",
      "Read 10782 from https://www.jython.org\n",
      "Read 274 from http://olympus.realpython.org/dice\n",
      "Read 10782 from https://www.jython.org\n",
      "Read 274 from http://olympus.realpython.org/dice\n",
      "Read 10782 from https://www.jython.org\n",
      "Read 274 from http://olympus.realpython.org/dice\n",
      "Read 10782 from https://www.jython.org\n",
      "Read 274 from http://olympus.realpython.org/dice\n",
      "Read 10782 from https://www.jython.org\n",
      "Read 274 from http://olympus.realpython.org/dice\n",
      "Read 10782 from https://www.jython.org\n",
      "Read 274 from http://olympus.realpython.org/dice\n",
      "Read 10782 from https://www.jython.org\n",
      "Read 274 from http://olympus.realpython.org/dice\n",
      "Read 10782 from https://www.jython.org\n",
      "Read 274 from http://olympus.realpython.org/dice\n",
      "Read 10782 from https://www.jython.org\n",
      "Read 274 from http://olympus.realpython.org/dice\n",
      "Read 10782 from https://www.jython.org\n",
      "Read 274 from http://olympus.realpython.org/dice\n",
      "Read 10782 from https://www.jython.org\n",
      "Read 274 from http://olympus.realpython.org/dice\n",
      "Read 10782 from https://www.jython.org\n",
      "Read 274 from http://olympus.realpython.org/dice\n",
      "Read 10782 from https://www.jython.org\n",
      "Read 274 from http://olympus.realpython.org/dice\n",
      "Read 10782 from https://www.jython.org\n",
      "Read 274 from http://olympus.realpython.org/dice\n",
      "Read 10782 from https://www.jython.org\n",
      "Read 274 from http://olympus.realpython.org/dice\n",
      "Read 10782 from https://www.jython.org\n",
      "Read 274 from http://olympus.realpython.org/dice\n",
      "Read 10782 from https://www.jython.org\n",
      "Read 274 from http://olympus.realpython.org/dice\n",
      "Read 10782 from https://www.jython.org\n",
      "Read 274 from http://olympus.realpython.org/dice\n",
      "Read 10782 from https://www.jython.org\n",
      "Read 274 from http://olympus.realpython.org/dice\n",
      "Read 10782 from https://www.jython.org\n",
      "Read 274 from http://olympus.realpython.org/dice\n",
      "Read 10782 from https://www.jython.org\n",
      "Read 274 from http://olympus.realpython.org/dice\n",
      "Read 10782 from https://www.jython.org\n",
      "Read 274 from http://olympus.realpython.org/dice\n",
      "Read 10782 from https://www.jython.org\n",
      "Read 274 from http://olympus.realpython.org/dice\n",
      "Read 10782 from https://www.jython.org\n",
      "Read 274 from http://olympus.realpython.org/dice\n",
      "Read 10782 from https://www.jython.org\n",
      "Read 274 from http://olympus.realpython.org/dice\n",
      "Read 10782 from https://www.jython.org\n",
      "Read 274 from http://olympus.realpython.org/dice\n",
      "Read 10782 from https://www.jython.org\n",
      "Read 274 from http://olympus.realpython.org/dice\n",
      "Read 10782 from https://www.jython.org\n",
      "Read 274 from http://olympus.realpython.org/dice\n",
      "Read 10782 from https://www.jython.org\n",
      "Read 274 from http://olympus.realpython.org/dice\n",
      "Read 10782 from https://www.jython.org\n",
      "Read 274 from http://olympus.realpython.org/dice\n",
      "Read 10782 from https://www.jython.org\n",
      "Read 274 from http://olympus.realpython.org/dice\n",
      "Read 10782 from https://www.jython.org\n",
      "Read 274 from http://olympus.realpython.org/dice\n",
      "Read 10782 from https://www.jython.org\n",
      "Read 274 from http://olympus.realpython.org/dice\n",
      "Read 10782 from https://www.jython.org\n",
      "Read 274 from http://olympus.realpython.org/dice\n",
      "Read 10782 from https://www.jython.org\n",
      "Read 274 from http://olympus.realpython.org/dice\n",
      "Read 10782 from https://www.jython.org\n",
      "Read 274 from http://olympus.realpython.org/dice\n",
      "Read 10782 from https://www.jython.org\n",
      "Read 274 from http://olympus.realpython.org/dice\n",
      "Read 10782 from https://www.jython.org\n",
      "Read 274 from http://olympus.realpython.org/dice\n",
      "Read 10782 from https://www.jython.org\n",
      "Read 274 from http://olympus.realpython.org/dice\n",
      "Read 10782 from https://www.jython.org\n",
      "Read 274 from http://olympus.realpython.org/dice\n",
      "Downloaded 160 in 16.733198881149292 seconds\n"
     ]
    }
   ],
   "source": [
    "import requests #egy  könyvtár HTTP lekérdezésekhez\n",
    "import time\n",
    "\n",
    "\n",
    "def download_site(url, session):\n",
    "    with session.get(url) as response:\n",
    "        print(f\"Read {len(response.content)} from {url}\")\n",
    "\n",
    "\n",
    "def download_all_sites(sites):\n",
    "    with requests.Session() as session:               # egy session segítségével gyorsabban tudunk több lekérdezést elvégezni \n",
    "        for url in sites:\n",
    "            download_site(url, session)\n",
    "\n",
    "\n",
    "sites = [\n",
    "    \"https://www.jython.org\",\n",
    "    \"http://olympus.realpython.org/dice\",\n",
    "] * 80\n",
    "start_time = time.time()\n",
    "download_all_sites(sites)\n",
    "duration = time.time() - start_time\n",
    "print(f\"Downloaded {len(sites)} in {duration} seconds\")"
   ]
  },
  {
   "cell_type": "markdown",
   "metadata": {
    "slideshow": {
     "slide_type": "subslide"
    }
   },
   "source": [
    "Ez a program így fut:\n",
    "\n",
    "<img src=\"https://files.realpython.com/media/IOBound.4810a888b457.png\" width='700px'>"
   ]
  },
  {
   "cell_type": "markdown",
   "metadata": {},
   "source": [
    "Előnyök:\n",
    " - könnyű programozni\n",
    " - könnyű átgondolni\n",
    " \n",
    "Hátrányok:\n",
    " - lassú\n",
    "\n"
   ]
  },
  {
   "cell_type": "markdown",
   "metadata": {
    "slideshow": {
     "slide_type": "subslide"
    }
   },
   "source": [
    "## threading javítás\n",
    "\n",
    "A `threading` modult használjuk. "
   ]
  },
  {
   "cell_type": "code",
   "execution_count": 9,
   "metadata": {},
   "outputs": [
    {
     "name": "stdout",
     "output_type": "stream",
     "text": [
      "Read 10782 from https://www.jython.orgRead 10782 from https://www.jython.org\n",
      "Read 10782 from https://www.jython.org\n",
      "\n",
      "Read 10782 from https://www.jython.org\n",
      "Read 10782 from https://www.jython.org\n",
      "Read 274 from http://olympus.realpython.org/diceRead 274 from http://olympus.realpython.org/dice\n",
      "\n",
      "Read 274 from http://olympus.realpython.org/dice\n",
      "Read 274 from http://olympus.realpython.org/dice\n",
      "Read 10782 from https://www.jython.org\n",
      "Read 274 from http://olympus.realpython.org/dice\n",
      "Read 10782 from https://www.jython.orgRead 274 from http://olympus.realpython.org/dice\n",
      "\n",
      "Read 10782 from https://www.jython.org\n",
      "Read 10782 from https://www.jython.org\n",
      "Read 10782 from https://www.jython.org\n",
      "Read 10782 from https://www.jython.org\n",
      "Read 274 from http://olympus.realpython.org/dice\n",
      "Read 10782 from https://www.jython.org\n",
      "Read 274 from http://olympus.realpython.org/dice\n",
      "Read 274 from http://olympus.realpython.org/dice\n",
      "Read 274 from http://olympus.realpython.org/dice\n",
      "Read 10782 from https://www.jython.org\n",
      "Read 274 from http://olympus.realpython.org/dice\n",
      "Read 10782 from https://www.jython.org\n",
      "Read 274 from http://olympus.realpython.org/dice\n",
      "Read 10782 from https://www.jython.org\n",
      "Read 10782 from https://www.jython.org\n",
      "Read 274 from http://olympus.realpython.org/dice\n",
      "Read 10782 from https://www.jython.org\n",
      "Read 10782 from https://www.jython.org\n",
      "Read 274 from http://olympus.realpython.org/dice\n",
      "Read 10782 from https://www.jython.org\n",
      "Read 274 from http://olympus.realpython.org/dice\n",
      "Read 10782 from https://www.jython.org\n",
      "Read 274 from http://olympus.realpython.org/dice\n",
      "Read 274 from http://olympus.realpython.org/dice\n",
      "Read 10782 from https://www.jython.org\n",
      "Read 274 from http://olympus.realpython.org/dice\n",
      "Read 10782 from https://www.jython.org\n",
      "Read 10782 from https://www.jython.org\n",
      "Read 274 from http://olympus.realpython.org/dice\n",
      "Read 274 from http://olympus.realpython.org/diceRead 10782 from https://www.jython.org\n",
      "\n",
      "Read 10782 from https://www.jython.org\n",
      "Read 274 from http://olympus.realpython.org/dice\n",
      "Read 274 from http://olympus.realpython.org/dice\n",
      "Read 10782 from https://www.jython.org\n",
      "Read 274 from http://olympus.realpython.org/dice\n",
      "Read 10782 from https://www.jython.org\n",
      "Read 10782 from https://www.jython.org\n",
      "Read 274 from http://olympus.realpython.org/dice\n",
      "Read 10782 from https://www.jython.orgRead 274 from http://olympus.realpython.org/dice\n",
      "\n",
      "Read 274 from http://olympus.realpython.org/dice\n",
      "Read 10782 from https://www.jython.org\n",
      "Read 274 from http://olympus.realpython.org/dice\n",
      "Read 10782 from https://www.jython.org\n",
      "Read 10782 from https://www.jython.org\n",
      "Read 274 from http://olympus.realpython.org/dice\n",
      "Read 274 from http://olympus.realpython.org/diceRead 10782 from https://www.jython.org\n",
      "\n",
      "Read 274 from http://olympus.realpython.org/dice\n",
      "Read 10782 from https://www.jython.org\n",
      "Read 274 from http://olympus.realpython.org/dice\n",
      "Read 10782 from https://www.jython.org\n",
      "Read 274 from http://olympus.realpython.org/dice\n",
      "Read 10782 from https://www.jython.org\n",
      "Read 10782 from https://www.jython.org\n",
      "Read 274 from http://olympus.realpython.org/dice\n",
      "Read 274 from http://olympus.realpython.org/dice\n",
      "Read 10782 from https://www.jython.org\n",
      "Read 274 from http://olympus.realpython.org/dice\n",
      "Read 10782 from https://www.jython.org\n",
      "Read 274 from http://olympus.realpython.org/dice\n",
      "Read 10782 from https://www.jython.org\n",
      "Read 10782 from https://www.jython.org\n",
      "Read 274 from http://olympus.realpython.org/dice\n",
      "Read 274 from http://olympus.realpython.org/dice\n",
      "Read 10782 from https://www.jython.org\n",
      "Read 10782 from https://www.jython.org\n",
      "Read 274 from http://olympus.realpython.org/dice\n",
      "Read 274 from http://olympus.realpython.org/diceRead 274 from http://olympus.realpython.org/dice\n",
      "\n",
      "Read 274 from http://olympus.realpython.org/dice\n",
      "Read 274 from http://olympus.realpython.org/dice\n",
      "Read 10782 from https://www.jython.org\n",
      "Read 10782 from https://www.jython.org\n",
      "Read 10782 from https://www.jython.org\n",
      "Read 274 from http://olympus.realpython.org/diceRead 274 from http://olympus.realpython.org/dice\n",
      "\n",
      "Read 274 from http://olympus.realpython.org/dice\n",
      "Read 10782 from https://www.jython.org\n",
      "Read 10782 from https://www.jython.org\n",
      "Read 274 from http://olympus.realpython.org/dice\n",
      "Read 10782 from https://www.jython.org\n",
      "Read 10782 from https://www.jython.org\n",
      "Read 10782 from https://www.jython.org\n",
      "Read 274 from http://olympus.realpython.org/dice\n",
      "Read 10782 from https://www.jython.org\n",
      "Read 274 from http://olympus.realpython.org/dice\n",
      "Read 10782 from https://www.jython.org\n",
      "Read 10782 from https://www.jython.org\n",
      "Read 274 from http://olympus.realpython.org/dice\n",
      "Read 10782 from https://www.jython.org\n",
      "Read 274 from http://olympus.realpython.org/dice\n",
      "Read 274 from http://olympus.realpython.org/dice\n",
      "Read 10782 from https://www.jython.org\n",
      "Read 10782 from https://www.jython.org\n",
      "Read 274 from http://olympus.realpython.org/dice\n",
      "Read 10782 from https://www.jython.org\n",
      "Read 274 from http://olympus.realpython.org/dice\n",
      "Read 10782 from https://www.jython.orgRead 274 from http://olympus.realpython.org/dice\n",
      "\n",
      "Read 10782 from https://www.jython.org\n",
      "Read 274 from http://olympus.realpython.org/dice\n",
      "Read 10782 from https://www.jython.org\n",
      "Read 274 from http://olympus.realpython.org/dice\n",
      "Read 10782 from https://www.jython.org\n",
      "Read 274 from http://olympus.realpython.org/dice\n",
      "Read 10782 from https://www.jython.org\n",
      "Read 274 from http://olympus.realpython.org/dice\n",
      "Read 10782 from https://www.jython.orgRead 274 from http://olympus.realpython.org/dice\n",
      "\n",
      "Read 10782 from https://www.jython.org\n",
      "Read 274 from http://olympus.realpython.org/dice\n",
      "Read 10782 from https://www.jython.org\n",
      "Read 274 from http://olympus.realpython.org/dice\n",
      "Read 10782 from https://www.jython.org\n",
      "Read 274 from http://olympus.realpython.org/dice\n",
      "Read 10782 from https://www.jython.org\n",
      "Read 274 from http://olympus.realpython.org/dice\n",
      "Read 274 from http://olympus.realpython.org/dice\n",
      "Read 10782 from https://www.jython.org\n",
      "Read 274 from http://olympus.realpython.org/dice\n",
      "Read 10782 from https://www.jython.org\n",
      "Read 274 from http://olympus.realpython.org/dice\n",
      "Read 274 from http://olympus.realpython.org/dice\n",
      "Read 10782 from https://www.jython.org\n",
      "Read 274 from http://olympus.realpython.org/dice\n",
      "Read 10782 from https://www.jython.org\n",
      "Read 10782 from https://www.jython.org\n",
      "Read 10782 from https://www.jython.org\n",
      "Read 274 from http://olympus.realpython.org/dice\n",
      "Read 10782 from https://www.jython.org\n",
      "Read 274 from http://olympus.realpython.org/dice\n",
      "Read 10782 from https://www.jython.org\n",
      "Read 274 from http://olympus.realpython.org/dice\n",
      "Read 274 from http://olympus.realpython.org/dice\n",
      "Read 274 from http://olympus.realpython.org/dice\n",
      "Read 274 from http://olympus.realpython.org/dice\n",
      "Read 10782 from https://www.jython.org\n",
      "Read 10782 from https://www.jython.org\n",
      "Read 274 from http://olympus.realpython.org/dice\n",
      "Read 10782 from https://www.jython.org\n",
      "Read 10782 from https://www.jython.org\n",
      "Read 274 from http://olympus.realpython.org/dice\n",
      "Read 274 from http://olympus.realpython.org/dice\n",
      "Read 274 from http://olympus.realpython.org/dice\n",
      "Read 274 from http://olympus.realpython.org/dice\n",
      "Downloaded 160 in 2.9204823970794678 seconds\n"
     ]
    }
   ],
   "source": [
    "import concurrent.futures\n",
    "import requests\n",
    "import threading\n",
    "import time\n",
    "\n",
    "\n",
    "thread_local = threading.local()  # ezzel a biztosítjuk, hogy a program 'thread safe'. Minden threadnek kell egy saját session\n",
    "\n",
    "\n",
    "def get_session():\n",
    "    if not hasattr(thread_local, \"session\"):\n",
    "        thread_local.session = requests.Session()\n",
    "    return thread_local.session\n",
    "\n",
    "\n",
    "def download_site(url):\n",
    "    session = get_session()\n",
    "    with session.get(url) as response:\n",
    "        print(f\"Read {len(response.content)} from {url}\")\n",
    "\n",
    "\n",
    "def download_all_sites(sites):\n",
    "    with concurrent.futures.ThreadPoolExecutor(max_workers=5) as executor: # az executor irányítja helyettünk, hogy a threadek hogyan dolgozzanak\n",
    "        executor.map(download_site, sites)   # szétosztjuk a munkát\n",
    "\n",
    "\n",
    "sites = [\n",
    "    \"https://www.jython.org\",\n",
    "    \"http://olympus.realpython.org/dice\",\n",
    "] * 80\n",
    "start_time = time.time()\n",
    "download_all_sites(sites)\n",
    "duration = time.time() - start_time\n",
    "print(f\"Downloaded {len(sites)} in {duration} seconds\")"
   ]
  },
  {
   "cell_type": "markdown",
   "metadata": {
    "slideshow": {
     "slide_type": "subslide"
    }
   },
   "source": [
    "Ez a program így fut:\n",
    "\n",
    "<img src=\"https://files.realpython.com/media/Threading.3eef48da829e.png\" width='700px'>\n",
    "\n",
    "\n",
    "A threadek számát nem triviális jól megválasztani, kisérletezni kell. "
   ]
  },
  {
   "cell_type": "markdown",
   "metadata": {},
   "source": [
    "Előnyök:\n",
    " - gyorsabb\n",
    " \n",
    "Hátrányok:\n",
    " - nehezebb átgondolni\n",
    " - fura hibák előjöhetnek, nehéz őket kezelni\n"
   ]
  },
  {
   "cell_type": "markdown",
   "metadata": {
    "slideshow": {
     "slide_type": "subslide"
    }
   },
   "source": [
    "## Race conditions\n"
   ]
  },
  {
   "cell_type": "code",
   "execution_count": 6,
   "metadata": {},
   "outputs": [
    {
     "data": {
      "text/plain": [
       "500000"
      ]
     },
     "execution_count": 6,
     "metadata": {},
     "output_type": "execute_result"
    }
   ],
   "source": [
    "import concurrent.futures\n",
    "\n",
    "\n",
    "counter = 0\n",
    "\n",
    "\n",
    "def increment_counter(fake_value):\n",
    "    global counter\n",
    "    for _ in range(100):\n",
    "        counter += 1\n",
    "\n",
    "\n",
    "fake_data = [x for x in range(5000)]\n",
    "counter = 0\n",
    "with concurrent.futures.ThreadPoolExecutor(max_workers=5000) as executor:\n",
    "    executor.map(increment_counter, fake_data)\n",
    "counter"
   ]
  },
  {
   "cell_type": "markdown",
   "metadata": {
    "slideshow": {
     "slide_type": "fragment"
    }
   },
   "source": [
    "Mivel a váltás bármikor történhet, akár a `counter += 1` közben is, lehetséges, hogy egy thread kiolvassa a counter értékét és mielőtt a megnövelt értéket beírná egy másik thread megnöveli azt, így elveszik a növelés. \n",
    "\n",
    "Ennek kicsi az esélye de előfordul!"
   ]
  },
  {
   "cell_type": "markdown",
   "metadata": {
    "slideshow": {
     "slide_type": "subslide"
    }
   },
   "source": [
    "## `asyncio` megoldás\n",
    "\n",
    "- Egy python objektum az ˙event loop˙ irányít mindent.\n",
    "- Ismeri a feladatokat és hogy melyik milyen állapotban van. \n",
    "- Felületesen: két lista, egyikben futtatható feladatok, másikben várakozóak.\n",
    "- Mindig futtatja a legrégebbi futtathatót, majd ellenőrzi, hogy a várakozóak közül lett-e valaki futtatható\n",
    "- Fontos, hogy egy feladattól nem vehető el az irányítás, csak önként adhatja fel."
   ]
  },
  {
   "cell_type": "markdown",
   "metadata": {
    "slideshow": {
     "slide_type": "subslide"
    }
   },
   "source": [
    "### `async` és `await`\n",
    " - `await` jelzi az irányítás feladását.\n",
    " - `async` jelzi, hogy a függvény használ await-et, tehát az eventloopnak figyelnie kell rá. "
   ]
  },
  {
   "cell_type": "code",
   "execution_count": 7,
   "metadata": {
    "slideshow": {
     "slide_type": "subslide"
    }
   },
   "outputs": [
    {
     "ename": "RuntimeError",
     "evalue": "This event loop is already running",
     "output_type": "error",
     "traceback": [
      "\u001b[1;31m---------------------------------------------------------------------------\u001b[0m",
      "\u001b[1;31mRuntimeError\u001b[0m                              Traceback (most recent call last)",
      "\u001b[1;32m<ipython-input-7-08530c4894fc>\u001b[0m in \u001b[0;36m<module>\u001b[1;34m\u001b[0m\n\u001b[0;32m     25\u001b[0m     ] * 80\n\u001b[0;32m     26\u001b[0m     \u001b[0mstart_time\u001b[0m \u001b[1;33m=\u001b[0m \u001b[0mtime\u001b[0m\u001b[1;33m.\u001b[0m\u001b[0mtime\u001b[0m\u001b[1;33m(\u001b[0m\u001b[1;33m)\u001b[0m\u001b[1;33m\u001b[0m\u001b[1;33m\u001b[0m\u001b[0m\n\u001b[1;32m---> 27\u001b[1;33m     \u001b[0masyncio\u001b[0m\u001b[1;33m.\u001b[0m\u001b[0mget_event_loop\u001b[0m\u001b[1;33m(\u001b[0m\u001b[1;33m)\u001b[0m\u001b[1;33m.\u001b[0m\u001b[0mrun_until_complete\u001b[0m\u001b[1;33m(\u001b[0m\u001b[0mdownload_all_sites\u001b[0m\u001b[1;33m(\u001b[0m\u001b[0msites\u001b[0m\u001b[1;33m)\u001b[0m\u001b[1;33m)\u001b[0m   \u001b[1;31m#futtatjuk az event loopot, még minden feladat véget nem ér\u001b[0m\u001b[1;33m\u001b[0m\u001b[1;33m\u001b[0m\u001b[0m\n\u001b[0m\u001b[0;32m     28\u001b[0m     \u001b[0mduration\u001b[0m \u001b[1;33m=\u001b[0m \u001b[0mtime\u001b[0m\u001b[1;33m.\u001b[0m\u001b[0mtime\u001b[0m\u001b[1;33m(\u001b[0m\u001b[1;33m)\u001b[0m \u001b[1;33m-\u001b[0m \u001b[0mstart_time\u001b[0m\u001b[1;33m\u001b[0m\u001b[1;33m\u001b[0m\u001b[0m\n\u001b[0;32m     29\u001b[0m     \u001b[0mprint\u001b[0m\u001b[1;33m(\u001b[0m\u001b[1;34mf\"Downloaded {len(sites)} sites in {duration} seconds\"\u001b[0m\u001b[1;33m)\u001b[0m\u001b[1;33m\u001b[0m\u001b[1;33m\u001b[0m\u001b[0m\n",
      "\u001b[1;32mC:\\ProgramData\\Anaconda3\\lib\\asyncio\\base_events.py\u001b[0m in \u001b[0;36mrun_until_complete\u001b[1;34m(self, future)\u001b[0m\n\u001b[0;32m    564\u001b[0m         \u001b[0mfuture\u001b[0m\u001b[1;33m.\u001b[0m\u001b[0madd_done_callback\u001b[0m\u001b[1;33m(\u001b[0m\u001b[0m_run_until_complete_cb\u001b[0m\u001b[1;33m)\u001b[0m\u001b[1;33m\u001b[0m\u001b[1;33m\u001b[0m\u001b[0m\n\u001b[0;32m    565\u001b[0m         \u001b[1;32mtry\u001b[0m\u001b[1;33m:\u001b[0m\u001b[1;33m\u001b[0m\u001b[1;33m\u001b[0m\u001b[0m\n\u001b[1;32m--> 566\u001b[1;33m             \u001b[0mself\u001b[0m\u001b[1;33m.\u001b[0m\u001b[0mrun_forever\u001b[0m\u001b[1;33m(\u001b[0m\u001b[1;33m)\u001b[0m\u001b[1;33m\u001b[0m\u001b[1;33m\u001b[0m\u001b[0m\n\u001b[0m\u001b[0;32m    567\u001b[0m         \u001b[1;32mexcept\u001b[0m\u001b[1;33m:\u001b[0m\u001b[1;33m\u001b[0m\u001b[1;33m\u001b[0m\u001b[0m\n\u001b[0;32m    568\u001b[0m             \u001b[1;32mif\u001b[0m \u001b[0mnew_task\u001b[0m \u001b[1;32mand\u001b[0m \u001b[0mfuture\u001b[0m\u001b[1;33m.\u001b[0m\u001b[0mdone\u001b[0m\u001b[1;33m(\u001b[0m\u001b[1;33m)\u001b[0m \u001b[1;32mand\u001b[0m \u001b[1;32mnot\u001b[0m \u001b[0mfuture\u001b[0m\u001b[1;33m.\u001b[0m\u001b[0mcancelled\u001b[0m\u001b[1;33m(\u001b[0m\u001b[1;33m)\u001b[0m\u001b[1;33m:\u001b[0m\u001b[1;33m\u001b[0m\u001b[1;33m\u001b[0m\u001b[0m\n",
      "\u001b[1;32mC:\\ProgramData\\Anaconda3\\lib\\asyncio\\base_events.py\u001b[0m in \u001b[0;36mrun_forever\u001b[1;34m(self)\u001b[0m\n\u001b[0;32m    519\u001b[0m         \u001b[0mself\u001b[0m\u001b[1;33m.\u001b[0m\u001b[0m_check_closed\u001b[0m\u001b[1;33m(\u001b[0m\u001b[1;33m)\u001b[0m\u001b[1;33m\u001b[0m\u001b[1;33m\u001b[0m\u001b[0m\n\u001b[0;32m    520\u001b[0m         \u001b[1;32mif\u001b[0m \u001b[0mself\u001b[0m\u001b[1;33m.\u001b[0m\u001b[0mis_running\u001b[0m\u001b[1;33m(\u001b[0m\u001b[1;33m)\u001b[0m\u001b[1;33m:\u001b[0m\u001b[1;33m\u001b[0m\u001b[1;33m\u001b[0m\u001b[0m\n\u001b[1;32m--> 521\u001b[1;33m             \u001b[1;32mraise\u001b[0m \u001b[0mRuntimeError\u001b[0m\u001b[1;33m(\u001b[0m\u001b[1;34m'This event loop is already running'\u001b[0m\u001b[1;33m)\u001b[0m\u001b[1;33m\u001b[0m\u001b[1;33m\u001b[0m\u001b[0m\n\u001b[0m\u001b[0;32m    522\u001b[0m         \u001b[1;32mif\u001b[0m \u001b[0mevents\u001b[0m\u001b[1;33m.\u001b[0m\u001b[0m_get_running_loop\u001b[0m\u001b[1;33m(\u001b[0m\u001b[1;33m)\u001b[0m \u001b[1;32mis\u001b[0m \u001b[1;32mnot\u001b[0m \u001b[1;32mNone\u001b[0m\u001b[1;33m:\u001b[0m\u001b[1;33m\u001b[0m\u001b[1;33m\u001b[0m\u001b[0m\n\u001b[0;32m    523\u001b[0m             raise RuntimeError(\n",
      "\u001b[1;31mRuntimeError\u001b[0m: This event loop is already running"
     ]
    },
    {
     "name": "stdout",
     "output_type": "stream",
     "text": [
      "Read 3721 from https://www.jython.org\n",
      "Read 3721 from https://www.jython.org\n",
      "Read 3721 from https://www.jython.org\n",
      "Read 3721 from https://www.jython.org\n",
      "Read 3721 from https://www.jython.org\n",
      "Read 3721 from https://www.jython.org\n",
      "Read 3721 from https://www.jython.org\n",
      "Read 3721 from https://www.jython.org\n",
      "Read 3721 from https://www.jython.org\n",
      "Read 3721 from https://www.jython.org\n",
      "Read 3721 from https://www.jython.org\n",
      "Read 3721 from https://www.jython.org\n",
      "Read 3721 from https://www.jython.org\n",
      "Read 3721 from https://www.jython.org\n",
      "Read 3721 from https://www.jython.org\n",
      "Read 3721 from https://www.jython.org\n",
      "Read 3721 from https://www.jython.org\n",
      "Read 3721 from https://www.jython.org\n",
      "Read 3721 from https://www.jython.org\n",
      "Read 3721 from https://www.jython.org\n",
      "Read 3721 from https://www.jython.org\n",
      "Read 3721 from https://www.jython.org\n",
      "Read 3721 from https://www.jython.org\n",
      "Read 3721 from https://www.jython.org\n",
      "Read 3721 from https://www.jython.org\n",
      "Read 3721 from https://www.jython.org\n",
      "Read 3721 from https://www.jython.org\n",
      "Read 3721 from https://www.jython.org\n",
      "Read 3721 from https://www.jython.org\n",
      "Read 3721 from https://www.jython.org\n",
      "Read 3721 from https://www.jython.org\n",
      "Read 3721 from https://www.jython.org\n",
      "Read 3721 from https://www.jython.org\n",
      "Read 3721 from https://www.jython.org\n",
      "Read 3721 from https://www.jython.org\n",
      "Read 3721 from https://www.jython.org\n",
      "Read 3721 from https://www.jython.org\n",
      "Read 3721 from https://www.jython.org\n",
      "Read 3721 from https://www.jython.org\n",
      "Read 3721 from https://www.jython.org\n",
      "Read 3721 from https://www.jython.org\n",
      "Read 3721 from https://www.jython.org\n",
      "Read 3721 from https://www.jython.org\n",
      "Read 3721 from https://www.jython.org\n",
      "Read 3721 from https://www.jython.org\n",
      "Read 3721 from https://www.jython.org\n",
      "Read 3721 from https://www.jython.org\n",
      "Read 3721 from https://www.jython.org\n",
      "Read 3721 from https://www.jython.org\n",
      "Read 3721 from https://www.jython.org\n",
      "Read 3721 from https://www.jython.org\n",
      "Read 3721 from https://www.jython.org\n",
      "Read 3721 from https://www.jython.org\n",
      "Read 3721 from https://www.jython.org\n",
      "Read 3721 from https://www.jython.org\n",
      "Read 3721 from https://www.jython.org\n",
      "Read 3721 from https://www.jython.org\n",
      "Read 3721 from https://www.jython.org\n",
      "Read 3721 from https://www.jython.org\n",
      "Read 3721 from https://www.jython.org\n",
      "Read 3721 from https://www.jython.org\n",
      "Read 3721 from https://www.jython.org\n",
      "Read 3721 from https://www.jython.org\n",
      "Read 3721 from https://www.jython.org\n",
      "Read 3721 from https://www.jython.org\n",
      "Read 3721 from https://www.jython.org\n",
      "Read 3721 from https://www.jython.org\n",
      "Read 3721 from https://www.jython.org\n",
      "Read 3721 from https://www.jython.org\n",
      "Read 3721 from https://www.jython.org\n",
      "Read 3721 from https://www.jython.org\n",
      "Read 3721 from https://www.jython.org\n",
      "Read 3721 from https://www.jython.org\n",
      "Read 3721 from https://www.jython.org\n",
      "Read 3721 from https://www.jython.org\n",
      "Read 3721 from https://www.jython.org\n",
      "Read 3721 from https://www.jython.org\n",
      "Read 3721 from https://www.jython.org\n",
      "Read 3721 from https://www.jython.org\n",
      "Read 3721 from https://www.jython.org\n",
      "Read 274 from http://olympus.realpython.org/dice\n",
      "Read 274 from http://olympus.realpython.org/dice\n",
      "Read 274 from http://olympus.realpython.org/dice\n",
      "Read 274 from http://olympus.realpython.org/dice\n",
      "Read 274 from http://olympus.realpython.org/dice\n",
      "Read 274 from http://olympus.realpython.org/dice\n",
      "Read 274 from http://olympus.realpython.org/dice\n",
      "Read 274 from http://olympus.realpython.org/dice\n",
      "Read 274 from http://olympus.realpython.org/dice\n",
      "Read 274 from http://olympus.realpython.org/dice\n",
      "Read 274 from http://olympus.realpython.org/dice\n",
      "Read 274 from http://olympus.realpython.org/dice\n",
      "Read 274 from http://olympus.realpython.org/dice\n",
      "Read 274 from http://olympus.realpython.org/dice\n",
      "Read 274 from http://olympus.realpython.org/dice\n",
      "Read 274 from http://olympus.realpython.org/dice\n",
      "Read 274 from http://olympus.realpython.org/dice\n",
      "Read 274 from http://olympus.realpython.org/dice\n",
      "Read 274 from http://olympus.realpython.org/dice\n",
      "Read 274 from http://olympus.realpython.org/dice\n",
      "Read 274 from http://olympus.realpython.org/dice\n",
      "Read 274 from http://olympus.realpython.org/dice\n",
      "Read 274 from http://olympus.realpython.org/dice\n",
      "Read 274 from http://olympus.realpython.org/dice\n",
      "Read 274 from http://olympus.realpython.org/dice\n",
      "Read 274 from http://olympus.realpython.org/dice\n",
      "Read 274 from http://olympus.realpython.org/dice\n",
      "Read 274 from http://olympus.realpython.org/dice\n",
      "Read 274 from http://olympus.realpython.org/dice\n",
      "Read 274 from http://olympus.realpython.org/dice\n",
      "Read 274 from http://olympus.realpython.org/dice\n",
      "Read 274 from http://olympus.realpython.org/dice\n",
      "Read 274 from http://olympus.realpython.org/dice\n",
      "Read 274 from http://olympus.realpython.org/dice\n",
      "Read 274 from http://olympus.realpython.org/dice\n",
      "Read 274 from http://olympus.realpython.org/dice\n",
      "Read 274 from http://olympus.realpython.org/dice\n",
      "Read 274 from http://olympus.realpython.org/dice\n",
      "Read 274 from http://olympus.realpython.org/dice\n",
      "Read 274 from http://olympus.realpython.org/dice\n",
      "Read 274 from http://olympus.realpython.org/dice\n",
      "Read 274 from http://olympus.realpython.org/dice\n",
      "Read 274 from http://olympus.realpython.org/dice\n",
      "Read 274 from http://olympus.realpython.org/dice\n",
      "Read 274 from http://olympus.realpython.org/dice\n",
      "Read 274 from http://olympus.realpython.org/dice\n",
      "Read 274 from http://olympus.realpython.org/dice\n",
      "Read 274 from http://olympus.realpython.org/dice\n",
      "Read 274 from http://olympus.realpython.org/dice\n",
      "Read 274 from http://olympus.realpython.org/dice\n",
      "Read 274 from http://olympus.realpython.org/dice\n",
      "Read 274 from http://olympus.realpython.org/dice\n",
      "Read 274 from http://olympus.realpython.org/dice\n",
      "Read 274 from http://olympus.realpython.org/dice\n",
      "Read 274 from http://olympus.realpython.org/dice\n",
      "Read 274 from http://olympus.realpython.org/dice\n",
      "Read 274 from http://olympus.realpython.org/dice\n",
      "Read 274 from http://olympus.realpython.org/dice\n",
      "Read 274 from http://olympus.realpython.org/dice\n",
      "Read 274 from http://olympus.realpython.org/dice\n",
      "Read 274 from http://olympus.realpython.org/dice\n",
      "Read 274 from http://olympus.realpython.org/dice\n",
      "Read 274 from http://olympus.realpython.org/dice\n",
      "Read 274 from http://olympus.realpython.org/dice\n",
      "Read 274 from http://olympus.realpython.org/dice\n",
      "Read 274 from http://olympus.realpython.org/dice\n",
      "Read 274 from http://olympus.realpython.org/dice\n",
      "Read 274 from http://olympus.realpython.org/dice\n",
      "Read 274 from http://olympus.realpython.org/dice\n",
      "Read 274 from http://olympus.realpython.org/dice\n",
      "Read 274 from http://olympus.realpython.org/dice\n",
      "Read 274 from http://olympus.realpython.org/dice\n",
      "Read 274 from http://olympus.realpython.org/dice\n",
      "Read 274 from http://olympus.realpython.org/dice\n",
      "Read 274 from http://olympus.realpython.org/dice\n",
      "Read 274 from http://olympus.realpython.org/dice\n",
      "Read 274 from http://olympus.realpython.org/dice\n",
      "Read 274 from http://olympus.realpython.org/dice\n",
      "Read 274 from http://olympus.realpython.org/dice\n",
      "Read 274 from http://olympus.realpython.org/dice\n"
     ]
    }
   ],
   "source": [
    "# ez itt nem működik, mert összeveszik a jupyter event loopjával\n",
    "import asyncio\n",
    "import time\n",
    "import aiohttp\n",
    "\n",
    "\n",
    "async def download_site(session, url):                                     # ez egy fügvény ami időnkét visszaadja az irányítást, így kell az async\n",
    "    async with session.get(url) as response:                            \n",
    "        print(\"Read {0} from {1}\".format(response.content_length, url))\n",
    "\n",
    "\n",
    "async def download_all_sites(sites):                                       # ez egy fügvény ami időnkét visszaadja az irányítást, így kell az async  \n",
    "    async with aiohttp.ClientSession() as session:                         #itt elég egy darab session, ezen sokat nyerünk!\n",
    "        tasks = []\n",
    "        for url in sites:                                                  # feladatok létrehozása\n",
    "            task = asyncio.ensure_future(download_site(session, url))\n",
    "            tasks.append(task)\n",
    "        await asyncio.gather(*tasks, return_exceptions=True)               # megvárjuk még mind végetér\n",
    "\n",
    "\n",
    "if __name__ == \"__main__\":\n",
    "    sites = [\n",
    "        \"https://www.jython.org\",\n",
    "        \"http://olympus.realpython.org/dice\",\n",
    "    ] * 80\n",
    "    start_time = time.time()\n",
    "    asyncio.get_event_loop().run_until_complete(download_all_sites(sites))   #futtatjuk az event loopot, még minden feladat véget nem ér\n",
    "    duration = time.time() - start_time\n",
    "    print(f\"Downloaded {len(sites)} sites in {duration} seconds\")\n"
   ]
  },
  {
   "cell_type": "code",
   "execution_count": 8,
   "metadata": {
    "slideshow": {
     "slide_type": "subslide"
    }
   },
   "outputs": [
    {
     "name": "stdout",
     "output_type": "stream",
     "text": [
      "Read 3721 from https://www.jython.org\n",
      "Read 3721 from https://www.jython.org\n",
      "Read 3721 from https://www.jython.org\n",
      "Read 3721 from https://www.jython.org\n",
      "Read 3721 from https://www.jython.org\n",
      "Read 3721 from https://www.jython.org\n",
      "Read 3721 from https://www.jython.org\n",
      "Read 3721 from https://www.jython.org\n",
      "Read 3721 from https://www.jython.org\n",
      "Read 3721 from https://www.jython.org\n",
      "Read 3721 from https://www.jython.org\n",
      "Read 3721 from https://www.jython.org\n",
      "Read 3721 from https://www.jython.org\n",
      "Read 3721 from https://www.jython.org\n",
      "Read 3721 from https://www.jython.org\n",
      "Read 3721 from https://www.jython.org\n",
      "Read 3721 from https://www.jython.org\n",
      "Read 3721 from https://www.jython.org\n",
      "Read 3721 from https://www.jython.org\n",
      "Read 3721 from https://www.jython.org\n",
      "Read 3721 from https://www.jython.org\n",
      "Read 3721 from https://www.jython.org\n",
      "Read 3721 from https://www.jython.org\n",
      "Read 3721 from https://www.jython.org\n",
      "Read 3721 from https://www.jython.org\n",
      "Read 3721 from https://www.jython.org\n",
      "Read 3721 from https://www.jython.org\n",
      "Read 3721 from https://www.jython.org\n",
      "Read 3721 from https://www.jython.org\n",
      "Read 3721 from https://www.jython.org\n",
      "Read 3721 from https://www.jython.org\n",
      "Read 3721 from https://www.jython.org\n",
      "Read 3721 from https://www.jython.org\n",
      "Read 3721 from https://www.jython.org\n",
      "Read 3721 from https://www.jython.org\n",
      "Read 3721 from https://www.jython.org\n",
      "Read 3721 from https://www.jython.org\n",
      "Read 3721 from https://www.jython.org\n",
      "Read 3721 from https://www.jython.org\n",
      "Read 3721 from https://www.jython.org\n",
      "Read 3721 from https://www.jython.org\n",
      "Read 3721 from https://www.jython.org\n",
      "Read 3721 from https://www.jython.org\n",
      "Read 3721 from https://www.jython.org\n",
      "Read 3721 from https://www.jython.org\n",
      "Read 3721 from https://www.jython.org\n",
      "Read 3721 from https://www.jython.org\n",
      "Read 3721 from https://www.jython.org\n",
      "Read 3721 from https://www.jython.org\n",
      "Read 3721 from https://www.jython.org\n",
      "Read 3721 from https://www.jython.org\n",
      "Read 3721 from https://www.jython.org\n",
      "Read 3721 from https://www.jython.org\n",
      "Read 3721 from https://www.jython.org\n",
      "Read 3721 from https://www.jython.org\n",
      "Read 3721 from https://www.jython.org\n",
      "Read 3721 from https://www.jython.org\n",
      "Read 3721 from https://www.jython.org\n",
      "Read 3721 from https://www.jython.org\n",
      "Read 3721 from https://www.jython.org\n",
      "Read 3721 from https://www.jython.org\n",
      "Read 3721 from https://www.jython.org\n",
      "Read 3721 from https://www.jython.org\n",
      "Read 3721 from https://www.jython.org\n",
      "Read 3721 from https://www.jython.org\n",
      "Read 3721 from https://www.jython.org\n",
      "Read 3721 from https://www.jython.org\n",
      "Read 3721 from https://www.jython.org\n",
      "Read 3721 from https://www.jython.org\n",
      "Read 3721 from https://www.jython.org\n",
      "Read 3721 from https://www.jython.org\n",
      "Read 3721 from https://www.jython.org\n",
      "Read 3721 from https://www.jython.org\n",
      "Read 3721 from https://www.jython.org\n",
      "Read 3721 from https://www.jython.org\n",
      "Read 3721 from https://www.jython.org\n",
      "Read 3721 from https://www.jython.org\n",
      "Read 3721 from https://www.jython.org\n",
      "Read 3721 from https://www.jython.org\n",
      "Read 3721 from https://www.jython.org\n",
      "Read 274 from http://olympus.realpython.org/dice\n",
      "Read 274 from http://olympus.realpython.org/dice\n",
      "Read 274 from http://olympus.realpython.org/dice\n",
      "Read 274 from http://olympus.realpython.org/dice\n",
      "Read 274 from http://olympus.realpython.org/dice\n",
      "Read 274 from http://olympus.realpython.org/dice\n",
      "Read 274 from http://olympus.realpython.org/dice\n",
      "Read 274 from http://olympus.realpython.org/dice\n",
      "Read 274 from http://olympus.realpython.org/dice\n",
      "Read 274 from http://olympus.realpython.org/dice\n",
      "Read 274 from http://olympus.realpython.org/dice\n",
      "Read 274 from http://olympus.realpython.org/dice\n",
      "Read 274 from http://olympus.realpython.org/dice\n",
      "Read 274 from http://olympus.realpython.org/dice\n",
      "Read 274 from http://olympus.realpython.org/dice\n",
      "Read 274 from http://olympus.realpython.org/dice\n",
      "Read 274 from http://olympus.realpython.org/dice\n",
      "Read 274 from http://olympus.realpython.org/dice\n",
      "Read 274 from http://olympus.realpython.org/dice\n",
      "Read 274 from http://olympus.realpython.org/dice\n",
      "Read 274 from http://olympus.realpython.org/dice\n",
      "Read 274 from http://olympus.realpython.org/dice\n",
      "Read 274 from http://olympus.realpython.org/dice\n",
      "Read 274 from http://olympus.realpython.org/dice\n",
      "Read 274 from http://olympus.realpython.org/dice\n",
      "Read 274 from http://olympus.realpython.org/dice\n",
      "Read 274 from http://olympus.realpython.org/dice\n",
      "Read 274 from http://olympus.realpython.org/dice\n",
      "Read 274 from http://olympus.realpython.org/dice\n",
      "Read 274 from http://olympus.realpython.org/dice\n",
      "Read 274 from http://olympus.realpython.org/dice\n",
      "Read 274 from http://olympus.realpython.org/dice\n",
      "Read 274 from http://olympus.realpython.org/dice\n",
      "Read 274 from http://olympus.realpython.org/dice\n",
      "Read 274 from http://olympus.realpython.org/dice\n",
      "Read 274 from http://olympus.realpython.org/dice\n",
      "Read 274 from http://olympus.realpython.org/dice\n",
      "Read 274 from http://olympus.realpython.org/dice\n",
      "Read 274 from http://olympus.realpython.org/dice\n",
      "Read 274 from http://olympus.realpython.org/dice\n",
      "Read 274 from http://olympus.realpython.org/dice\n",
      "Read 274 from http://olympus.realpython.org/dice\n",
      "Read 274 from http://olympus.realpython.org/dice\n",
      "Read 274 from http://olympus.realpython.org/dice\n",
      "Read 274 from http://olympus.realpython.org/dice\n",
      "Read 274 from http://olympus.realpython.org/dice\n",
      "Read 274 from http://olympus.realpython.org/dice\n",
      "Read 274 from http://olympus.realpython.org/dice\n",
      "Read 274 from http://olympus.realpython.org/dice\n",
      "Read 274 from http://olympus.realpython.org/dice\n",
      "Read 274 from http://olympus.realpython.org/dice\n",
      "Read 274 from http://olympus.realpython.org/dice\n",
      "Read 274 from http://olympus.realpython.org/dice\n",
      "Read 274 from http://olympus.realpython.org/dice\n",
      "Read 274 from http://olympus.realpython.org/dice\n",
      "Read 274 from http://olympus.realpython.org/dice\n",
      "Read 274 from http://olympus.realpython.org/dice\n",
      "Read 274 from http://olympus.realpython.org/dice\n",
      "Read 274 from http://olympus.realpython.org/dice\n",
      "Read 274 from http://olympus.realpython.org/dice\n",
      "Read 274 from http://olympus.realpython.org/dice\n",
      "Read 274 from http://olympus.realpython.org/dice\n",
      "Read 274 from http://olympus.realpython.org/dice\n",
      "Read 274 from http://olympus.realpython.org/dice\n",
      "Read 274 from http://olympus.realpython.org/dice\n",
      "Read 274 from http://olympus.realpython.org/dice\n",
      "Read 274 from http://olympus.realpython.org/dice\n",
      "Read 274 from http://olympus.realpython.org/dice\n",
      "Read 274 from http://olympus.realpython.org/dice\n",
      "Read 274 from http://olympus.realpython.org/dice\n",
      "Read 274 from http://olympus.realpython.org/dice\n",
      "Read 274 from http://olympus.realpython.org/dice\n",
      "Read 274 from http://olympus.realpython.org/dice\n",
      "Read 274 from http://olympus.realpython.org/dice\n",
      "Read 274 from http://olympus.realpython.org/dice\n",
      "Read 274 from http://olympus.realpython.org/dice\n",
      "Read 274 from http://olympus.realpython.org/dice\n",
      "Read 274 from http://olympus.realpython.org/dice\n",
      "Read 274 from http://olympus.realpython.org/dice\n",
      "Read 274 from http://olympus.realpython.org/dice\n",
      "Downloaded 160 sites in 0.5112860202789307 seconds\n"
     ]
    }
   ],
   "source": [
    "!python concurrency-overview/io_asyncio.py "
   ]
  },
  {
   "cell_type": "markdown",
   "metadata": {
    "slideshow": {
     "slide_type": "subslide"
    }
   },
   "source": [
    "Ez a program így fut:\n",
    "\n",
    "<img src=\"https://files.realpython.com/media/Asyncio.31182d3731cf.png\" width='600px'>\n",
    "\n"
   ]
  },
  {
   "cell_type": "markdown",
   "metadata": {},
   "source": [
    "Előnyök:\n",
    " - még gyorsabb\n",
    " - jobban skálázódik\n",
    " \n",
    "Hátrányok:\n",
    " - nehezebb átgondolni\n",
    " - csak akkor működik jól, ha a meghívott modulok is használják!\n",
    " - egy hibás rész blokkolhat mindent\n",
    " "
   ]
  },
  {
   "cell_type": "markdown",
   "metadata": {
    "slideshow": {
     "slide_type": "subslide"
    }
   },
   "source": [
    "## Példa:\n",
    "\n",
    "discord api: https://discordpy.readthedocs.io/en/stable/api.html\n",
    "\n",
    "\n"
   ]
  },
  {
   "cell_type": "markdown",
   "metadata": {
    "slideshow": {
     "slide_type": "subslide"
    }
   },
   "source": [
    "## `multiprocessing` megoldás\n",
    "\n",
    "Nagyjából azt csinálja, hogy a processzorokon külön python interpretert indít. \n",
    "\n",
    "Ez a megoldás több processzort használ. Na de hány is van a gépben?\n",
    "\n"
   ]
  },
  {
   "cell_type": "code",
   "execution_count": 10,
   "metadata": {},
   "outputs": [
    {
     "data": {
      "text/plain": [
       "4"
      ]
     },
     "execution_count": 10,
     "metadata": {},
     "output_type": "execute_result"
    }
   ],
   "source": [
    "import multiprocessing\n",
    "\n",
    "multiprocessing.cpu_count()"
   ]
  },
  {
   "cell_type": "code",
   "execution_count": null,
   "metadata": {
    "slideshow": {
     "slide_type": "subslide"
    }
   },
   "outputs": [],
   "source": [
    "# nem fut le a jupyterben!!\n",
    "import requests\n",
    "import multiprocessing\n",
    "import time\n",
    "\n",
    "session = None                                                              # mivel külön memória területtel dolgoznak, ez egyedi lesz mindnél\n",
    "\n",
    " \n",
    "def set_global_session():\n",
    "    global session\n",
    "    if not session:\n",
    "        session = requests.Session()\n",
    "\n",
    "\n",
    "def download_site(url):\n",
    "    with session.get(url) as response:\n",
    "        name = multiprocessing.current_process().name\n",
    "        print(f\"{name}:Read {len(response.content)} from {url}\")\n",
    "\n",
    "\n",
    "def download_all_sites(sites):\n",
    "    with multiprocessing.Pool(initializer=set_global_session) as pool:      # alapvetően annyit csinál, ahány processzorod van, kezdéskor meghívja az initializert\n",
    "        pool.map(download_site, sites)                                      # lényegében külön python interpreterek indulnak el\n",
    "\n",
    "\n",
    "if __name__ == \"__main__\":\n",
    "    sites = [\n",
    "        \"https://www.jython.org\",\n",
    "        \"http://olympus.realpython.org/dice\",\n",
    "    ] * 80\n",
    "    start_time = time.time()\n",
    "    download_all_sites(sites)\n",
    "    duration = time.time() - start_time\n",
    "    print(f\"Downloaded {len(sites)} in {duration} seconds\")"
   ]
  },
  {
   "cell_type": "code",
   "execution_count": 1,
   "metadata": {
    "slideshow": {
     "slide_type": "subslide"
    }
   },
   "outputs": [
    {
     "name": "stdout",
     "output_type": "stream",
     "text": [
      "SpawnPoolWorker-1:Read 10782 from https://www.jython.org\n",
      "SpawnPoolWorker-1:Read 274 from http://olympus.realpython.org/dice\n",
      "SpawnPoolWorker-1:Read 10782 from https://www.jython.org\n",
      "SpawnPoolWorker-1:Read 274 from http://olympus.realpython.org/dice\n",
      "SpawnPoolWorker-1:Read 10782 from https://www.jython.org\n",
      "SpawnPoolWorker-1:Read 274 from http://olympus.realpython.org/dice\n",
      "SpawnPoolWorker-1:Read 10782 from https://www.jython.org\n",
      "SpawnPoolWorker-1:Read 274 from http://olympus.realpython.org/dice\n",
      "SpawnPoolWorker-1:Read 10782 from https://www.jython.org\n",
      "SpawnPoolWorker-1:Read 274 from http://olympus.realpython.org/dice\n",
      "SpawnPoolWorker-1:Read 10782 from https://www.jython.org\n",
      "SpawnPoolWorker-1:Read 274 from http://olympus.realpython.org/dice\n",
      "SpawnPoolWorker-1:Read 10782 from https://www.jython.org\n",
      "SpawnPoolWorker-1:Read 274 from http://olympus.realpython.org/dice\n",
      "SpawnPoolWorker-1:Read 10782 from https://www.jython.org\n",
      "SpawnPoolWorker-1:Read 274 from http://olympus.realpython.org/dice\n",
      "SpawnPoolWorker-1:Read 10782 from https://www.jython.org\n",
      "SpawnPoolWorker-1:Read 274 from http://olympus.realpython.org/dice\n",
      "SpawnPoolWorker-1:Read 10782 from https://www.jython.org\n",
      "SpawnPoolWorker-1:Read 274 from http://olympus.realpython.org/dice\n",
      "SpawnPoolWorker-1:Read 10782 from https://www.jython.org\n",
      "SpawnPoolWorker-1:Read 274 from http://olympus.realpython.org/dice\n",
      "SpawnPoolWorker-1:Read 10782 from https://www.jython.org\n",
      "SpawnPoolWorker-1:Read 274 from http://olympus.realpython.org/dice\n",
      "SpawnPoolWorker-1:Read 10782 from https://www.jython.org\n",
      "SpawnPoolWorker-1:Read 274 from http://olympus.realpython.org/dice\n",
      "SpawnPoolWorker-1:Read 10782 from https://www.jython.org\n",
      "SpawnPoolWorker-1:Read 274 from http://olympus.realpython.org/dice\n",
      "SpawnPoolWorker-1:Read 10782 from https://www.jython.org\n",
      "SpawnPoolWorker-1:Read 274 from http://olympus.realpython.org/dice\n",
      "SpawnPoolWorker-1:Read 10782 from https://www.jython.org\n",
      "SpawnPoolWorker-1:Read 274 from http://olympus.realpython.org/dice\n",
      "SpawnPoolWorker-1:Read 10782 from https://www.jython.org\n",
      "SpawnPoolWorker-1:Read 274 from http://olympus.realpython.org/dice\n",
      "SpawnPoolWorker-1:Read 10782 from https://www.jython.org\n",
      "SpawnPoolWorker-1:Read 274 from http://olympus.realpython.org/dice\n",
      "SpawnPoolWorker-1:Read 10782 from https://www.jython.org\n",
      "SpawnPoolWorker-1:Read 274 from http://olympus.realpython.org/dice\n",
      "SpawnPoolWorker-1:Read 10782 from https://www.jython.org\n",
      "SpawnPoolWorker-1:Read 274 from http://olympus.realpython.org/dice\n",
      "SpawnPoolWorker-4:Read 10782 from https://www.jython.org\n",
      "SpawnPoolWorker-4:Read 274 from http://olympus.realpython.org/dice\n",
      "SpawnPoolWorker-4:Read 10782 from https://www.jython.org\n",
      "SpawnPoolWorker-4:Read 274 from http://olympus.realpython.org/dice\n",
      "SpawnPoolWorker-4:Read 10782 from https://www.jython.org\n",
      "SpawnPoolWorker-4:Read 274 from http://olympus.realpython.org/dice\n",
      "SpawnPoolWorker-4:Read 10782 from https://www.jython.org\n",
      "SpawnPoolWorker-4:Read 274 from http://olympus.realpython.org/dice\n",
      "SpawnPoolWorker-4:Read 10782 from https://www.jython.org\n",
      "SpawnPoolWorker-4:Read 274 from http://olympus.realpython.org/dice\n",
      "SpawnPoolWorker-4:Read 10782 from https://www.jython.org\n",
      "SpawnPoolWorker-4:Read 274 from http://olympus.realpython.org/dice\n",
      "SpawnPoolWorker-4:Read 10782 from https://www.jython.org\n",
      "SpawnPoolWorker-4:Read 274 from http://olympus.realpython.org/dice\n",
      "SpawnPoolWorker-4:Read 10782 from https://www.jython.org\n",
      "SpawnPoolWorker-4:Read 274 from http://olympus.realpython.org/dice\n",
      "SpawnPoolWorker-4:Read 10782 from https://www.jython.org\n",
      "SpawnPoolWorker-4:Read 274 from http://olympus.realpython.org/dice\n",
      "SpawnPoolWorker-4:Read 10782 from https://www.jython.org\n",
      "SpawnPoolWorker-4:Read 274 from http://olympus.realpython.org/dice\n",
      "SpawnPoolWorker-4:Read 10782 from https://www.jython.org\n",
      "SpawnPoolWorker-4:Read 274 from http://olympus.realpython.org/dice\n",
      "SpawnPoolWorker-4:Read 10782 from https://www.jython.org\n",
      "SpawnPoolWorker-4:Read 274 from http://olympus.realpython.org/dice\n",
      "SpawnPoolWorker-4:Read 10782 from https://www.jython.org\n",
      "SpawnPoolWorker-4:Read 274 from http://olympus.realpython.org/dice\n",
      "SpawnPoolWorker-4:Read 10782 from https://www.jython.org\n",
      "SpawnPoolWorker-4:Read 274 from http://olympus.realpython.org/dice\n",
      "SpawnPoolWorker-4:Read 10782 from https://www.jython.org\n",
      "SpawnPoolWorker-4:Read 274 from http://olympus.realpython.org/dice\n",
      "SpawnPoolWorker-4:Read 10782 from https://www.jython.org\n",
      "SpawnPoolWorker-4:Read 274 from http://olympus.realpython.org/dice\n",
      "SpawnPoolWorker-4:Read 10782 from https://www.jython.org\n",
      "SpawnPoolWorker-4:Read 274 from http://olympus.realpython.org/dice\n",
      "SpawnPoolWorker-4:Read 10782 from https://www.jython.org\n",
      "SpawnPoolWorker-4:Read 274 from http://olympus.realpython.org/dice\n",
      "SpawnPoolWorker-4:Read 10782 from https://www.jython.org\n",
      "SpawnPoolWorker-4:Read 274 from http://olympus.realpython.org/dice\n",
      "SpawnPoolWorker-4:Read 10782 from https://www.jython.org\n",
      "SpawnPoolWorker-4:Read 274 from http://olympus.realpython.org/dice\n",
      "SpawnPoolWorker-2:Read 10782 from https://www.jython.org\n",
      "SpawnPoolWorker-2:Read 274 from http://olympus.realpython.org/dice\n",
      "SpawnPoolWorker-2:Read 10782 from https://www.jython.org\n",
      "SpawnPoolWorker-2:Read 274 from http://olympus.realpython.org/dice\n",
      "SpawnPoolWorker-2:Read 10782 from https://www.jython.org\n",
      "SpawnPoolWorker-2:Read 274 from http://olympus.realpython.org/dice\n",
      "SpawnPoolWorker-2:Read 10782 from https://www.jython.org\n",
      "SpawnPoolWorker-2:Read 274 from http://olympus.realpython.org/dice\n",
      "SpawnPoolWorker-2:Read 10782 from https://www.jython.org\n",
      "SpawnPoolWorker-2:Read 274 from http://olympus.realpython.org/dice\n",
      "SpawnPoolWorker-2:Read 10782 from https://www.jython.org\n",
      "SpawnPoolWorker-2:Read 274 from http://olympus.realpython.org/dice\n",
      "SpawnPoolWorker-2:Read 10782 from https://www.jython.org\n",
      "SpawnPoolWorker-2:Read 274 from http://olympus.realpython.org/dice\n",
      "SpawnPoolWorker-2:Read 10782 from https://www.jython.org\n",
      "SpawnPoolWorker-2:Read 274 from http://olympus.realpython.org/dice\n",
      "SpawnPoolWorker-2:Read 10782 from https://www.jython.org\n",
      "SpawnPoolWorker-2:Read 274 from http://olympus.realpython.org/dice\n",
      "SpawnPoolWorker-2:Read 10782 from https://www.jython.org\n",
      "SpawnPoolWorker-2:Read 274 from http://olympus.realpython.org/dice\n",
      "SpawnPoolWorker-2:Read 10782 from https://www.jython.org\n",
      "SpawnPoolWorker-2:Read 274 from http://olympus.realpython.org/dice\n",
      "SpawnPoolWorker-2:Read 10782 from https://www.jython.org\n",
      "SpawnPoolWorker-2:Read 274 from http://olympus.realpython.org/dice\n",
      "SpawnPoolWorker-2:Read 10782 from https://www.jython.org\n",
      "SpawnPoolWorker-2:Read 274 from http://olympus.realpython.org/dice\n",
      "SpawnPoolWorker-2:Read 10782 from https://www.jython.org\n",
      "SpawnPoolWorker-2:Read 274 from http://olympus.realpython.org/dice\n",
      "SpawnPoolWorker-2:Read 10782 from https://www.jython.org\n",
      "SpawnPoolWorker-2:Read 274 from http://olympus.realpython.org/dice\n",
      "SpawnPoolWorker-2:Read 10782 from https://www.jython.org\n",
      "SpawnPoolWorker-2:Read 274 from http://olympus.realpython.org/dice\n",
      "SpawnPoolWorker-2:Read 10782 from https://www.jython.org\n",
      "SpawnPoolWorker-2:Read 274 from http://olympus.realpython.org/dice\n",
      "SpawnPoolWorker-2:Read 10782 from https://www.jython.org\n",
      "SpawnPoolWorker-2:Read 274 from http://olympus.realpython.org/dice\n",
      "SpawnPoolWorker-2:Read 10782 from https://www.jython.org\n",
      "SpawnPoolWorker-2:Read 274 from http://olympus.realpython.org/dice\n",
      "SpawnPoolWorker-2:Read 10782 from https://www.jython.org\n",
      "SpawnPoolWorker-2:Read 274 from http://olympus.realpython.org/dice\n",
      "SpawnPoolWorker-3:Read 10782 from https://www.jython.org\n",
      "SpawnPoolWorker-3:Read 274 from http://olympus.realpython.org/dice\n",
      "SpawnPoolWorker-3:Read 10782 from https://www.jython.org\n",
      "SpawnPoolWorker-3:Read 274 from http://olympus.realpython.org/dice\n",
      "SpawnPoolWorker-3:Read 10782 from https://www.jython.org\n",
      "SpawnPoolWorker-3:Read 274 from http://olympus.realpython.org/dice\n",
      "SpawnPoolWorker-3:Read 10782 from https://www.jython.org\n",
      "SpawnPoolWorker-3:Read 274 from http://olympus.realpython.org/dice\n",
      "SpawnPoolWorker-3:Read 10782 from https://www.jython.org\n",
      "SpawnPoolWorker-3:Read 274 from http://olympus.realpython.org/dice\n",
      "SpawnPoolWorker-3:Read 10782 from https://www.jython.org\n",
      "SpawnPoolWorker-3:Read 274 from http://olympus.realpython.org/dice\n",
      "SpawnPoolWorker-3:Read 10782 from https://www.jython.org\n",
      "SpawnPoolWorker-3:Read 274 from http://olympus.realpython.org/dice\n",
      "SpawnPoolWorker-3:Read 10782 from https://www.jython.org\n",
      "SpawnPoolWorker-3:Read 274 from http://olympus.realpython.org/dice\n",
      "SpawnPoolWorker-3:Read 10782 from https://www.jython.org\n",
      "SpawnPoolWorker-3:Read 274 from http://olympus.realpython.org/dice\n",
      "SpawnPoolWorker-3:Read 10782 from https://www.jython.org\n",
      "SpawnPoolWorker-3:Read 274 from http://olympus.realpython.org/dice\n",
      "SpawnPoolWorker-3:Read 10782 from https://www.jython.org\n",
      "SpawnPoolWorker-3:Read 274 from http://olympus.realpython.org/dice\n",
      "SpawnPoolWorker-3:Read 10782 from https://www.jython.org\n",
      "SpawnPoolWorker-3:Read 274 from http://olympus.realpython.org/dice\n",
      "SpawnPoolWorker-3:Read 10782 from https://www.jython.org\n",
      "SpawnPoolWorker-3:Read 274 from http://olympus.realpython.org/dice\n",
      "SpawnPoolWorker-3:Read 10782 from https://www.jython.org\n",
      "SpawnPoolWorker-3:Read 274 from http://olympus.realpython.org/dice\n",
      "SpawnPoolWorker-3:Read 10782 from https://www.jython.org\n",
      "SpawnPoolWorker-3:Read 274 from http://olympus.realpython.org/dice\n",
      "SpawnPoolWorker-3:Read 10782 from https://www.jython.org\n",
      "SpawnPoolWorker-3:Read 274 from http://olympus.realpython.org/dice\n",
      "SpawnPoolWorker-3:Read 10782 from https://www.jython.org\n",
      "SpawnPoolWorker-3:Read 274 from http://olympus.realpython.org/dice\n",
      "SpawnPoolWorker-3:Read 10782 from https://www.jython.org\n",
      "SpawnPoolWorker-3:Read 274 from http://olympus.realpython.org/dice\n",
      "SpawnPoolWorker-3:Read 10782 from https://www.jython.org\n",
      "SpawnPoolWorker-3:Read 274 from http://olympus.realpython.org/dice\n",
      "SpawnPoolWorker-3:Read 10782 from https://www.jython.org\n",
      "SpawnPoolWorker-3:Read 274 from http://olympus.realpython.org/dice\n",
      "Downloaded 160 in 5.120270729064941 seconds\n"
     ]
    }
   ],
   "source": [
    "!python concurrency-overview/io_mp.py"
   ]
  },
  {
   "cell_type": "markdown",
   "metadata": {
    "slideshow": {
     "slide_type": "subslide"
    }
   },
   "source": [
    "Ez a program így fut:\n",
    "\n",
    "<img src=\"https://files.realpython.com/media/MProc.7cf3be371bbc.png\" width='700px'>\n"
   ]
  },
  {
   "cell_type": "markdown",
   "metadata": {},
   "source": [
    "Előnyök:\n",
    " - gyorsabb, de nem nagyon\n",
    " \n",
    "Hátrányok:\n",
    " - nehezebb átgondolni\n",
    " "
   ]
  },
  {
   "cell_type": "markdown",
   "metadata": {
    "slideshow": {
     "slide_type": "subslide"
    }
   },
   "source": [
    "# CPU bound példa"
   ]
  },
  {
   "cell_type": "code",
   "execution_count": 2,
   "metadata": {},
   "outputs": [
    {
     "name": "stdout",
     "output_type": "stream",
     "text": [
      "Duration 34.91469073295593 seconds\n"
     ]
    }
   ],
   "source": [
    "import time\n",
    "\n",
    "\n",
    "def cpu_bound(number):\n",
    "    return sum(i * i for i in range(number))\n",
    "\n",
    "\n",
    "def find_sums(numbers):\n",
    "    for number in numbers:\n",
    "        cpu_bound(number)\n",
    "\n",
    "\n",
    "if __name__ == \"__main__\":\n",
    "    numbers = [5000000 + x for x in range(20)]\n",
    "\n",
    "    start_time = time.time()\n",
    "    find_sums(numbers)\n",
    "    duration = time.time() - start_time\n",
    "    print(f\"Duration {duration} seconds\")"
   ]
  },
  {
   "cell_type": "markdown",
   "metadata": {
    "slideshow": {
     "slide_type": "subslide"
    }
   },
   "source": [
    "Ez a program így fut:\n",
    "\n",
    "<img src=\"https://files.realpython.com/media/CPUBound.d2d32cb2626c.png\" width='700px'>\n",
    "\n",
    "A `threading` and `asyncio` megoldások csak lassítanának rajta.\n"
   ]
  },
  {
   "cell_type": "markdown",
   "metadata": {
    "slideshow": {
     "slide_type": "subslide"
    }
   },
   "source": [
    "## Multiprocessing megoldás"
   ]
  },
  {
   "cell_type": "code",
   "execution_count": null,
   "metadata": {},
   "outputs": [],
   "source": [
    "# nem fut jupyterben\n",
    "import multiprocessing\n",
    "import time\n",
    "\n",
    "\n",
    "def cpu_bound(number):\n",
    "    return sum(i * i for i in range(number))\n",
    "\n",
    "\n",
    "def find_sums(numbers):\n",
    "    with multiprocessing.Pool() as pool:\n",
    "        pool.map(cpu_bound, numbers)\n",
    "\n",
    "\n",
    "if __name__ == \"__main__\":\n",
    "    numbers = [5000000 + x for x in range(20)]\n",
    "\n",
    "    start_time = time.time()\n",
    "    find_sums(numbers)\n",
    "    duration = time.time() - start_time\n",
    "    print(f\"Duration {duration} seconds\")"
   ]
  },
  {
   "cell_type": "code",
   "execution_count": 3,
   "metadata": {
    "slideshow": {
     "slide_type": "subslide"
    }
   },
   "outputs": [
    {
     "name": "stdout",
     "output_type": "stream",
     "text": [
      "Duration 8.216140270233154 seconds\n"
     ]
    }
   ],
   "source": [
    "!python concurrency-overview/cpu_mp.py"
   ]
  },
  {
   "cell_type": "markdown",
   "metadata": {
    "slideshow": {
     "slide_type": "subslide"
    }
   },
   "source": [
    "Ez a program így fut:\n",
    "\n",
    "<img src=\"https://files.realpython.com/media/CPUMP.69c1a7fad9c4.png\" width='700px'>\n"
   ]
  },
  {
   "cell_type": "markdown",
   "metadata": {},
   "source": [
    "Előnyök:\n",
    " - Itt tényleg sokkal gyorsabb\n",
    "\n",
    "Hátrányok\n",
    " - Bonyolultabb szituációkban nehéz használni"
   ]
  },
  {
   "cell_type": "markdown",
   "metadata": {
    "slideshow": {
     "slide_type": "subslide"
    }
   },
   "source": [
    "## Mikor használjuk bármelyiket is?\n",
    " - Donald Knuth: “Premature optimization is the root of all evil (or at least most of it) in programming.”\n",
    " - Találd ki hogy milyen tipusú feladattal állsz szemben\n",
    " - “Use asyncio when you can, threading when you must.” "
   ]
  },
  {
   "cell_type": "markdown",
   "metadata": {
    "slideshow": {
     "slide_type": "subslide"
    }
   },
   "source": [
    "## A nagy kérdés\n",
    "\n",
    "Miért nem ötvözzük a kettőt? pl Threading több processzoron? Meg amúgy is, mért nem gyorsabb ez az egész?\n",
    "\n",
    "A problémák hátterében a GIL van, a cpython egy fontos komponense. ( Global Interpreter Lock)\n",
    "\n",
    "A python referencia számolással oldja meg a memória felszabadítását. Ha valamire már nem hivatkozunk, törli. Emiatt fontos, hogy egyszerre csak egy thread tudjon referencia értékeken változtatni. Ezt úgy érjük, hogy van egy lock, és egy thread csak akkor dolgozhat, ha ő birtokolja. Cserébe ez lelassítja a dolgokat. "
   ]
  },
  {
   "cell_type": "code",
   "execution_count": 4,
   "metadata": {
    "slideshow": {
     "slide_type": "subslide"
    }
   },
   "outputs": [
    {
     "data": {
      "text/plain": [
       "3"
      ]
     },
     "execution_count": 4,
     "metadata": {},
     "output_type": "execute_result"
    }
   ],
   "source": [
    "import sys\n",
    "a = []\n",
    "b = a\n",
    "sys.getrefcount(a)\n"
   ]
  },
  {
   "cell_type": "markdown",
   "metadata": {
    "slideshow": {
     "slide_type": "subslide"
    }
   },
   "source": [
    "# Egy kis matek\n",
    "\n",
    "Mennyit lehet nyerni a párhuzamosításon?\n",
    "\n",
    "Olvasnivaló: Lovász László: Algoritmusok Bonyolultsága 8. fejezet\n"
   ]
  }
 ],
 "metadata": {
  "celltoolbar": "Slideshow",
  "kernelspec": {
   "display_name": "Python 3",
   "language": "python",
   "name": "python3"
  },
  "language_info": {
   "codemirror_mode": {
    "name": "ipython",
    "version": 3
   },
   "file_extension": ".py",
   "mimetype": "text/x-python",
   "name": "python",
   "nbconvert_exporter": "python",
   "pygments_lexer": "ipython3",
   "version": "3.7.4"
  }
 },
 "nbformat": 4,
 "nbformat_minor": 4
}
