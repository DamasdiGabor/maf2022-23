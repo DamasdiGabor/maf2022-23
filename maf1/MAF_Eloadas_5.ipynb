{
 "cells": [
  {
   "cell_type": "markdown",
   "metadata": {
    "slideshow": {
     "slide_type": "slide"
    }
   },
   "source": [
    "# Matematikai Algoritmusok és Felfedezések I.\n",
    "\n",
    "## 5. Előadás: Objektum orientált programozás 2, Modulok\n",
    "### 2023 április 5."
   ]
  },
  {
   "cell_type": "markdown",
   "metadata": {
    "slideshow": {
     "slide_type": "subslide"
    }
   },
   "source": [
    "### Öröklődés\n"
   ]
  },
  {
   "cell_type": "code",
   "execution_count": 1,
   "metadata": {
    "slideshow": {
     "slide_type": "-"
    }
   },
   "outputs": [
    {
     "name": "stdout",
     "output_type": "stream",
     "text": [
      "False\n",
      "True\n",
      "False\n",
      "True\n"
     ]
    }
   ],
   "source": [
    "class Ember:\n",
    "    pass\n",
    " \n",
    "class Matematikus(Ember): \n",
    "    pass\n",
    "\n",
    "e = Ember()  \n",
    "m = Matematikus()\n",
    "print(isinstance(e, Matematikus))\n",
    "print(isinstance(m, Ember))\n",
    "print(issubclass(Ember, Matematikus))\n",
    "print(issubclass(Matematikus,Ember))"
   ]
  },
  {
   "cell_type": "markdown",
   "metadata": {
    "slideshow": {
     "slide_type": "subslide"
    }
   },
   "source": [
    "Ha nem írunk semmilyen osztályt, automatikusan az `object` osztály a szülő osztály:"
   ]
  },
  {
   "cell_type": "code",
   "execution_count": 1,
   "metadata": {},
   "outputs": [],
   "source": [
    "o=object()"
   ]
  },
  {
   "cell_type": "code",
   "execution_count": 2,
   "metadata": {},
   "outputs": [
    {
     "name": "stdout",
     "output_type": "stream",
     "text": [
      "True\n",
      "True\n"
     ]
    }
   ],
   "source": [
    "class A: pass\n",
    "class B(object): pass\n",
    "\n",
    "print(issubclass(A, object))\n",
    "print(issubclass(B, object))"
   ]
  },
  {
   "cell_type": "markdown",
   "metadata": {
    "slideshow": {
     "slide_type": "subslide"
    }
   },
   "source": [
    "### Metódus öröklődés\n",
    "\n",
    "A metódusok öröklődnek, de felülírhatóak."
   ]
  },
  {
   "cell_type": "code",
   "execution_count": 5,
   "metadata": {},
   "outputs": [
    {
     "name": "stdout",
     "output_type": "stream",
     "text": [
      "B.foo függvény\n",
      "A.bar függvény\n"
     ]
    }
   ],
   "source": [
    "class A(object):\n",
    "    def foo(self):\n",
    "        print(\"A.foo függvény\")\n",
    "        \n",
    "    def bar(self):\n",
    "        print(\"A.bar függvény\")\n",
    "        \n",
    "class B(A):\n",
    "    def foo(self):\n",
    "        print(\"B.foo függvény\") \n",
    "        \n",
    "b = B()\n",
    "b.foo()\n",
    "b.bar()"
   ]
  },
  {
   "cell_type": "markdown",
   "metadata": {
    "slideshow": {
     "slide_type": "subslide"
    }
   },
   "source": [
    "### Attribútum öröklődés\n",
    "Mivel az adat attribútumok bárhol létrehozhatóak, nem öröklődnek!"
   ]
  },
  {
   "cell_type": "code",
   "execution_count": 6,
   "metadata": {},
   "outputs": [
    {
     "name": "stdout",
     "output_type": "stream",
     "text": [
      "a {} b {}\n",
      "a {'value': 42} b {}\n",
      "a {'value': 42} b {'value': 42}\n"
     ]
    }
   ],
   "source": [
    "class A(object):\n",
    "    \n",
    "    def foo(self):\n",
    "        self.value = 42\n",
    "        \n",
    "class B(A):\n",
    "    pass\n",
    "\n",
    "b = B()\n",
    "a = A()\n",
    "print('a',a.__dict__,'b',b.__dict__)            # a __dict__ kiírja az összes attribútumot \n",
    "a.foo()\n",
    "print('a',a.__dict__,'b',b.__dict__)            \n",
    "b.foo()\n",
    "print('a',a.__dict__,'b',b.__dict__)          \n"
   ]
  },
  {
   "cell_type": "code",
   "execution_count": 7,
   "metadata": {
    "slideshow": {
     "slide_type": "subslide"
    }
   },
   "outputs": [
    {
     "data": {
      "text/plain": [
       "['__class__',\n",
       " '__delattr__',\n",
       " '__dict__',\n",
       " '__dir__',\n",
       " '__doc__',\n",
       " '__eq__',\n",
       " '__format__',\n",
       " '__ge__',\n",
       " '__getattribute__',\n",
       " '__gt__',\n",
       " '__hash__',\n",
       " '__init__',\n",
       " '__init_subclass__',\n",
       " '__le__',\n",
       " '__lt__',\n",
       " '__module__',\n",
       " '__ne__',\n",
       " '__new__',\n",
       " '__reduce__',\n",
       " '__reduce_ex__',\n",
       " '__repr__',\n",
       " '__setattr__',\n",
       " '__sizeof__',\n",
       " '__str__',\n",
       " '__subclasshook__',\n",
       " '__weakref__',\n",
       " 'foo',\n",
       " 'value']"
      ]
     },
     "execution_count": 7,
     "metadata": {},
     "output_type": "execute_result"
    }
   ],
   "source": [
    "dir(a)"
   ]
  },
  {
   "cell_type": "code",
   "execution_count": 24,
   "metadata": {},
   "outputs": [
    {
     "data": {
      "text/plain": [
       "{'value': 42}"
      ]
     },
     "execution_count": 24,
     "metadata": {},
     "output_type": "execute_result"
    }
   ],
   "source": [
    "a.__dict__"
   ]
  },
  {
   "cell_type": "markdown",
   "metadata": {
    "slideshow": {
     "slide_type": "subslide"
    }
   },
   "source": [
    "#### A szülő osztály konstruktora\n",
    "\n",
    "- meghívódik az szülő osztály `__init__` függvénye. Viszont mivel az `__init__` nem egy szokásos konstruktor, így nem hívódik meg automatikusan a szülő osztály init függvénye, ha felülírja a gyerek osztály."
   ]
  },
  {
   "cell_type": "code",
   "execution_count": 8,
   "metadata": {
    "slideshow": {
     "slide_type": "subslide"
    }
   },
   "outputs": [
    {
     "name": "stdout",
     "output_type": "stream",
     "text": [
      "B.__init__ called\n",
      "c létrehozása\n",
      "A.__init__ called\n"
     ]
    }
   ],
   "source": [
    "class A(object):\n",
    "    def __init__(self):\n",
    "        print(\"A.__init__ called\")\n",
    "        \n",
    "class B(A):\n",
    "    #pass\n",
    "    def __init__(self):\n",
    "        print(\"B.__init__ called\")\n",
    "        \n",
    "class C(A):\n",
    "    pass\n",
    "        \n",
    "b = B()\n",
    "print(\"c létrehozása\")\n",
    "c = C()"
   ]
  },
  {
   "cell_type": "markdown",
   "metadata": {
    "slideshow": {
     "slide_type": "subslide"
    }
   },
   "source": [
    "A szülő osztály metódusai kétféleképpen is elérhetőek\n",
    "1. a már tanult módon, az osztály nevével\n",
    "2. vagy pedig a **super** függvény segítségével"
   ]
  },
  {
   "cell_type": "code",
   "execution_count": 10,
   "metadata": {
    "slideshow": {
     "slide_type": "subslide"
    }
   },
   "outputs": [
    {
     "name": "stdout",
     "output_type": "stream",
     "text": [
      "B\n",
      "A.__init__ \n",
      "B.__init__ \n",
      "C\n",
      "A.__init__ \n",
      "C.__init__ \n"
     ]
    }
   ],
   "source": [
    "class A(object):\n",
    "    def __init__(self):\n",
    "        print(\"A.__init__ \")\n",
    "        \n",
    "        \n",
    "class B(A):\n",
    "    def __init__(self):\n",
    "        A.__init__(self)\n",
    "        print(\"B.__init__ \")\n",
    "        \n",
    "class C(A):\n",
    "    def __init__(self):\n",
    "        super().__init__()\n",
    "        print(\"C.__init__ \")\n",
    "        \n",
    "print(\"B\")\n",
    "b = B()\n",
    "print(\"C\")\n",
    "c = C()"
   ]
  },
  {
   "cell_type": "markdown",
   "metadata": {
    "slideshow": {
     "slide_type": "slide"
    }
   },
   "source": [
    "### 1. Példa: polinomok"
   ]
  },
  {
   "cell_type": "code",
   "execution_count": 4,
   "metadata": {},
   "outputs": [],
   "source": [
    "class Polinom:\n",
    "    \n",
    "    def __init__(self, lista):\n",
    "        self.ehlista=lista \n",
    "       \n",
    "    def __str__(self):\n",
    "        szoveg=\"\"\n",
    "        for i,eh in enumerate(self.ehlista):\n",
    "            szoveg=szoveg+str(eh)+\"x^\"+str(i)+\"+\"\n",
    "        szoveg=szoveg.rstrip(\"+\")    \n",
    "        return szoveg\n",
    "    \n",
    "    def deri(self):\n",
    "        l=[i*eh for i,eh in enumerate(self.ehlista) if i!=0]\n",
    "        return Polinom(l)\n",
    "    "
   ]
  },
  {
   "cell_type": "code",
   "execution_count": 5,
   "metadata": {},
   "outputs": [
    {
     "name": "stdout",
     "output_type": "stream",
     "text": [
      "1x^0+2x^1+4x^2+5x^3\n",
      "2x^0+8x^1+15x^2\n"
     ]
    }
   ],
   "source": [
    "a=Polinom([1,2,4,5])\n",
    "print(a)\n",
    "print(a.deri())"
   ]
  },
  {
   "cell_type": "code",
   "execution_count": 11,
   "metadata": {
    "slideshow": {
     "slide_type": "subslide"
    }
   },
   "outputs": [],
   "source": [
    "class Masodfoku(Polinom):\n",
    "    def egyikgyok(self):\n",
    "        a=self.ehlista[2]\n",
    "        b=self.ehlista[1]\n",
    "        c=self.ehlista[0]\n",
    "        return (-b+(b**2-4*a*c)**(1/2))/(2*a) "
   ]
  },
  {
   "cell_type": "code",
   "execution_count": 7,
   "metadata": {
    "scrolled": true
   },
   "outputs": [
    {
     "name": "stdout",
     "output_type": "stream",
     "text": [
      "1x^0+2x^1+1x^2\n"
     ]
    },
    {
     "data": {
      "text/plain": [
       "-1.0"
      ]
     },
     "execution_count": 7,
     "metadata": {},
     "output_type": "execute_result"
    }
   ],
   "source": [
    "p=Masodfoku([1,2,1])\n",
    "print(p)\n",
    "p.egyikgyok()\n",
    "#print(p.deri())"
   ]
  },
  {
   "cell_type": "code",
   "execution_count": 8,
   "metadata": {
    "slideshow": {
     "slide_type": "subslide"
    }
   },
   "outputs": [],
   "source": [
    "class Polinom:\n",
    "    \n",
    "    def __init__(self, lista):\n",
    "        self.ehlista=lista\n",
    "       \n",
    "    def __str__(self):\n",
    "        szoveg=\"\".join([str(eh)+\"x^\"+str(i)+\"+\" for i,eh in enumerate(self.ehlista)][::-1])\n",
    "        szoveg=szoveg.rstrip(\"+\")    \n",
    "        return szoveg\n",
    "    \n",
    "    def deri(self): \n",
    "        l=[i*eh for i,eh in enumerate(self.ehlista) if i!=0]\n",
    "        return Polinom(l)\n",
    "    \n",
    "    def beh(self,x):\n",
    "        valasz=sum([eh*x**i for i,eh in enumerate(self.ehlista)])\n",
    "        return valasz\n",
    "     \n",
    "    def __add__(self, other):\n",
    "        \n",
    "        l=max(len(self.ehlista),len(other.ehlista))\n",
    "        bovitett_eh1=self.ehlista + [0]*(l - len(self.ehlista))\n",
    "        bovitett_eh2=other.ehlista + [0]*(l - len(other.ehlista))\n",
    "            \n",
    "        uj_ehlista=[bovitett_eh1[i]+bovitett_eh2[i] for i in range(l) ]\n",
    "        while uj_ehlista[-1]==0:\n",
    "            del uj_ehlista[-1]\n",
    "        \n",
    "        return Polinom( uj_ehlista )\n",
    "        \n"
   ]
  },
  {
   "cell_type": "code",
   "execution_count": 12,
   "metadata": {
    "slideshow": {
     "slide_type": "subslide"
    }
   },
   "outputs": [
    {
     "name": "stdout",
     "output_type": "stream",
     "text": [
      "2x^1+1x^0 11\n",
      "2x^0\n"
     ]
    }
   ],
   "source": [
    "p=Polinom([1,2])\n",
    "print(p,p.beh(5))\n",
    "print(p.deri())"
   ]
  },
  {
   "cell_type": "markdown",
   "metadata": {},
   "source": [
    "Mi lesz az eredmény?"
   ]
  },
  {
   "cell_type": "code",
   "execution_count": 13,
   "metadata": {},
   "outputs": [
    {
     "name": "stdout",
     "output_type": "stream",
     "text": [
      "(2.220446049250313e-16+1.1102230246251565e-16j)\n"
     ]
    }
   ],
   "source": [
    "m=Masodfoku([1,2,7])\n",
    "print(m.beh(m.egyikgyok()))"
   ]
  },
  {
   "cell_type": "code",
   "execution_count": 14,
   "metadata": {
    "slideshow": {
     "slide_type": "subslide"
    }
   },
   "outputs": [
    {
     "name": "stdout",
     "output_type": "stream",
     "text": [
      "4x^1+2x^0\n",
      "3x^1+3x^0\n",
      "4x^1+0x^0\n"
     ]
    }
   ],
   "source": [
    "print(p+p)\n",
    "print(Polinom([1,2,0])+Polinom([2,1]))\n",
    "print(Polinom([-1,2,3])+Polinom([1,2,-3]))"
   ]
  },
  {
   "cell_type": "markdown",
   "metadata": {
    "slideshow": {
     "slide_type": "slide"
    }
   },
   "source": [
    "### 2. Példa: Sárkányok\n",
    "![sarkany](dragon.jpg) "
   ]
  },
  {
   "cell_type": "code",
   "execution_count": 27,
   "metadata": {
    "slideshow": {
     "slide_type": "subslide"
    }
   },
   "outputs": [],
   "source": [
    "class sarkany:\n",
    "    def __init__(self, nev):\n",
    "        self.nev=nev"
   ]
  },
  {
   "cell_type": "code",
   "execution_count": 29,
   "metadata": {},
   "outputs": [],
   "source": [
    "class repulo_sarkany(sarkany):\n",
    "    def __init__(self, nev, szarnyfesztav):\n",
    "        super().__init__(nev)\n",
    "        self.szarnyfesztav=szarnyfesztav\n",
    "    \n",
    "    def tamadas(self):\n",
    "        print(\"A\", self.nev, \"nevű sárkány a levegőből rád vetette magát\", )\n",
    "        \n",
    "    def repules(self):\n",
    "        print(\"A\", self.nev, \"nevű sárkány repül\", )\n",
    "        "
   ]
  },
  {
   "cell_type": "code",
   "execution_count": 30,
   "metadata": {},
   "outputs": [
    {
     "name": "stdout",
     "output_type": "stream",
     "text": [
      "A Smaug nevű sárkány repül\n",
      "A Smaug nevű sárkány a levegőből rád vetette magát\n"
     ]
    },
    {
     "data": {
      "text/plain": [
       "12"
      ]
     },
     "execution_count": 30,
     "metadata": {},
     "output_type": "execute_result"
    }
   ],
   "source": [
    "smaug=repulo_sarkany(\"Smaug\",12)\n",
    "smaug.repules()\n",
    "smaug.tamadas()\n",
    "smaug.szarnyfesztav"
   ]
  },
  {
   "cell_type": "code",
   "execution_count": 31,
   "metadata": {
    "slideshow": {
     "slide_type": "subslide"
    }
   },
   "outputs": [],
   "source": [
    "class tuzokado_sarkany(sarkany):\n",
    "    def __init__(self, nev):\n",
    "        super().__init__(nev)\n",
    "    \n",
    "    def tamadas(self):\n",
    "        print(\"A\", self.nev, \"nevű sárkány szénné égetett\", )\n",
    "        \n",
    "    def tuzokadas(self):\n",
    "        print(\"A\", self.nev, \"nevű sárkány a tüzet okád\", )\n",
    "    "
   ]
  },
  {
   "cell_type": "code",
   "execution_count": 32,
   "metadata": {},
   "outputs": [
    {
     "name": "stdout",
     "output_type": "stream",
     "text": [
      "A Süsü nevű sárkány a tüzet okád\n",
      "A Süsü nevű sárkány szénné égetett\n"
     ]
    }
   ],
   "source": [
    "susu=tuzokado_sarkany(\"Süsü\")\n",
    "susu.tuzokadas()\n",
    "susu.tamadas()"
   ]
  },
  {
   "cell_type": "markdown",
   "metadata": {
    "slideshow": {
     "slide_type": "subslide"
    }
   },
   "source": [
    "### Többszörös öröklődés\n",
    "- mindegyik osztály metódusai öröklődnek"
   ]
  },
  {
   "cell_type": "code",
   "execution_count": 40,
   "metadata": {},
   "outputs": [],
   "source": [
    "class repulo_tuzokado_sarkany(repulo_sarkany,tuzokado_sarkany):\n",
    "     def __init__(self, nev, szarnyfesztav):\n",
    "        self.nev=nev  \n",
    "        self.szarnyfesztav=szarnyfesztav\n",
    "    \n"
   ]
  },
  {
   "cell_type": "markdown",
   "metadata": {},
   "source": [
    "#### Vajon mi lesz az eredmény?"
   ]
  },
  {
   "cell_type": "code",
   "execution_count": 41,
   "metadata": {},
   "outputs": [
    {
     "name": "stdout",
     "output_type": "stream",
     "text": [
      "A Viserion nevű sárkány repül\n",
      "A Viserion nevű sárkány a tüzet okád\n",
      "A Viserion nevű sárkány a levegőből rád vetette magát\n"
     ]
    }
   ],
   "source": [
    "viserion=repulo_tuzokado_sarkany(\"Viserion\",25)\n",
    "viserion.repules()\n",
    "viserion.tuzokadas()\n",
    "viserion.tamadas()\n"
   ]
  },
  {
   "cell_type": "markdown",
   "metadata": {
    "slideshow": {
     "slide_type": "subslide"
    }
   },
   "source": [
    "Azt, hogy melyik hívódik meg, az MRO (Method Resolution Order) határozza meg. Ez egy sorrend az osztályokon, és egy metódus hívásnál addig megy a sorrendben még meg nem találja valamelyik osztályban a metódust. Nem pontosan így működik, de ökölszabálynak jó, hogy felfelé mélységi kersést végez, balról jobbra sorrendben.  \n"
   ]
  },
  {
   "cell_type": "markdown",
   "metadata": {
    "slideshow": {
     "slide_type": "slide"
    }
   },
   "source": [
    "# Modulok importálása\n",
    "\n",
    "- Az `import` két műveletet hajt végre\n",
    "    1. megkeresi a megadott név alapján a modult, \n",
    "    2. elérhetővi teszi a lokális scopeban\n",
    "\n",
    "### Teljes modul importálása\n",
    "`import modulnév` "
   ]
  },
  {
   "cell_type": "code",
   "execution_count": 42,
   "metadata": {
    "slideshow": {
     "slide_type": "subslide"
    }
   },
   "outputs": [
    {
     "data": {
      "text/plain": [
       "'__breakpointhook__, __displayhook__, __doc__, __excepthook__, __interactivehook__, __loader__, __name__, __package__, __spec__, __stderr__, __stdin__, __stdout__, _base_executable, _clear_type_cache, _current_frames, _debugmallocstats, _enablelegacywindowsfsencoding, _framework, _getframe, _git, _home, _xoptions, api_version, argv, base_exec_prefix, base_prefix, breakpointhook, builtin_module_names, byteorder, call_tracing, callstats, copyright, displayhook, dllhandle, dont_write_bytecode, exc_info, excepthook, exec_prefix, executable, exit, flags, float_info, float_repr_style, get_asyncgen_hooks, get_coroutine_origin_tracking_depth, get_coroutine_wrapper, getallocatedblocks, getcheckinterval, getdefaultencoding, getfilesystemencodeerrors, getfilesystemencoding, getprofile, getrecursionlimit, getrefcount, getsizeof, getswitchinterval, gettrace, getwindowsversion, hash_info, hexversion, implementation, int_info, intern, is_finalizing, last_traceback, last_type, last_value, maxsize, maxunicode, meta_path, modules, path, path_hooks, path_importer_cache, platform, prefix, ps1, ps2, ps3, set_asyncgen_hooks, set_coroutine_origin_tracking_depth, set_coroutine_wrapper, setcheckinterval, setprofile, setrecursionlimit, setswitchinterval, settrace, stderr, stdin, stdout, thread_info, version, version_info, warnoptions, winver'"
      ]
     },
     "execution_count": 42,
     "metadata": {},
     "output_type": "execute_result"
    }
   ],
   "source": [
    "import sys\n",
    "\n",
    "\", \".join(dir(sys))  # a dir függvény megadja az objektum attribútumait és metódusait.  "
   ]
  },
  {
   "cell_type": "markdown",
   "metadata": {
    "slideshow": {
     "slide_type": "subslide"
    }
   },
   "source": [
    "### Példák dokumentációra"
   ]
  },
  {
   "cell_type": "markdown",
   "metadata": {},
   "source": [
    " - Wikipedia  https://wikipedia.readthedocs.io/en/latest/code.html#api\n",
    " - Scipy  https://docs.scipy.org/doc/scipy/reference/index.html#scipy-api  \n",
    " - Monster group  https://mmgroup.readthedocs.io/en/latest/api.html"
   ]
  },
  {
   "cell_type": "code",
   "execution_count": 51,
   "metadata": {
    "slideshow": {
     "slide_type": "subslide"
    }
   },
   "outputs": [
    {
     "data": {
      "text/plain": [
       "module"
      ]
     },
     "execution_count": 51,
     "metadata": {},
     "output_type": "execute_result"
    }
   ],
   "source": [
    "import random\n",
    "type(random)"
   ]
  },
  {
   "cell_type": "markdown",
   "metadata": {},
   "source": [
    "importálás után `modulnev.attribútum` alakban érjük el a modul tartalmát.  "
   ]
  },
  {
   "cell_type": "code",
   "execution_count": 54,
   "metadata": {},
   "outputs": [
    {
     "data": {
      "text/plain": [
       "4"
      ]
     },
     "execution_count": 54,
     "metadata": {},
     "output_type": "execute_result"
    }
   ],
   "source": [
    "random.choice([3,4,5]) "
   ]
  },
  {
   "cell_type": "markdown",
   "metadata": {},
   "source": [
    "### Saját modult is készíthetünk\n",
    "A notebookal azonos mappában készítsünk egy mod.py fájlt."
   ]
  },
  {
   "cell_type": "code",
   "execution_count": 4,
   "metadata": {
    "slideshow": {
     "slide_type": "subslide"
    }
   },
   "outputs": [],
   "source": [
    "import mod "
   ]
  },
  {
   "cell_type": "code",
   "execution_count": 2,
   "metadata": {},
   "outputs": [
    {
     "data": {
      "text/plain": [
       "['Foo',\n",
       " '__builtins__',\n",
       " '__cached__',\n",
       " '__doc__',\n",
       " '__file__',\n",
       " '__loader__',\n",
       " '__name__',\n",
       " '__package__',\n",
       " '__spec__',\n",
       " 'a',\n",
       " 'foo',\n",
       " 's']"
      ]
     },
     "execution_count": 2,
     "metadata": {},
     "output_type": "execute_result"
    }
   ],
   "source": [
    "dir(mod)"
   ]
  },
  {
   "cell_type": "code",
   "execution_count": 3,
   "metadata": {},
   "outputs": [
    {
     "name": "stdout",
     "output_type": "stream",
     "text": [
      "[100, 200, 300]\n",
      "arg 1\n",
      "If Comrade Napoleon says it, it must be right.\n"
     ]
    }
   ],
   "source": [
    "print(mod.a)\n",
    "mod.foo(1)\n",
    "print(mod.s)"
   ]
  },
  {
   "cell_type": "markdown",
   "metadata": {
    "slideshow": {
     "slide_type": "subslide"
    }
   },
   "source": [
    "### almodulok importálása\n",
    "`from modulnév import almodul`\n",
    "\n",
    "Az almodult ezután `almodul` néven érjük el és nem `modulnév.almodul` néven."
   ]
  },
  {
   "cell_type": "code",
   "execution_count": 5,
   "metadata": {},
   "outputs": [
    {
     "name": "stdout",
     "output_type": "stream",
     "text": [
      "os nincs definiálva\n",
      "path megtalálva\n"
     ]
    }
   ],
   "source": [
    "from os import path\n",
    "\n",
    "try:\n",
    "    os\n",
    "except NameError:\n",
    "    print(\"os nincs definiálva\")\n",
    "    \n",
    "try:\n",
    "    path\n",
    "    print(\"path megtalálva\")\n",
    "except NameError:\n",
    "    print(\"path nincs definiálva\")\n",
    "    "
   ]
  },
  {
   "cell_type": "code",
   "execution_count": 6,
   "metadata": {
    "slideshow": {
     "slide_type": "subslide"
    }
   },
   "outputs": [
    {
     "name": "stdout",
     "output_type": "stream",
     "text": [
      "os.path nincs definiálva\n"
     ]
    }
   ],
   "source": [
    "try:\n",
    "    os.path\n",
    "    print(\"os.path megtalálva\")\n",
    "except NameError:\n",
    "    print(\"os.path nincs definiálva\")"
   ]
  },
  {
   "cell_type": "markdown",
   "metadata": {
    "slideshow": {
     "slide_type": "subslide"
    }
   },
   "source": [
    "Az `as` kulcssszó segítségével megadhatunk egy másik nevet is:"
   ]
  },
  {
   "cell_type": "code",
   "execution_count": 7,
   "metadata": {},
   "outputs": [],
   "source": [
    "import numpy as np"
   ]
  },
  {
   "cell_type": "code",
   "execution_count": 8,
   "metadata": {},
   "outputs": [
    {
     "name": "stdout",
     "output_type": "stream",
     "text": [
      "os nincs definiálva\n",
      "os_module megtalálva\n"
     ]
    }
   ],
   "source": [
    "import os as os_module\n",
    "\n",
    "try:\n",
    "    os\n",
    "except NameError:\n",
    "    print(\"os nincs definiálva\")\n",
    "    \n",
    "try:\n",
    "    os_module\n",
    "    print(\"os_module megtalálva\")\n",
    "except NameError:\n",
    "    print(\"os_module nincs definiálva\")"
   ]
  },
  {
   "cell_type": "markdown",
   "metadata": {
    "slideshow": {
     "slide_type": "subslide"
    }
   },
   "source": [
    "### Egyszerre több mindent is importálhatunk"
   ]
  },
  {
   "cell_type": "code",
   "execution_count": 9,
   "metadata": {},
   "outputs": [],
   "source": [
    "import os, sys\n",
    "from sys import stdin, stderr, stdout"
   ]
  },
  {
   "cell_type": "markdown",
   "metadata": {},
   "source": [
    "### Konkrét függvényeket és osztályokat is importálhatunk"
   ]
  },
  {
   "cell_type": "code",
   "execution_count": 10,
   "metadata": {},
   "outputs": [
    {
     "data": {
      "text/plain": [
       "True"
      ]
     },
     "execution_count": 10,
     "metadata": {},
     "output_type": "execute_result"
    }
   ],
   "source": [
    "from argparse import ArgumentParser\n",
    "import inspect\n",
    "\n",
    "inspect.isclass(ArgumentParser) "
   ]
  },
  {
   "cell_type": "markdown",
   "metadata": {
    "slideshow": {
     "slide_type": "subslide"
    }
   },
   "source": [
    "### Minden importálása egy modulból\n",
    "`from modulnév import *` után a modul tartalma elérhető a `modulnév.` nélkül. \n",
    "\n",
    "**NAGYON NEM AJÁNLOTT** mert tudtunkon kívül felülírhatunk dolgokat. "
   ]
  },
  {
   "cell_type": "code",
   "execution_count": 12,
   "metadata": {},
   "outputs": [
    {
     "name": "stdout",
     "output_type": "stream",
     "text": [
      "Én egy statisztika vagyok\n"
     ]
    },
    {
     "ename": "TypeError",
     "evalue": "stat() missing required argument 'path' (pos 1)",
     "output_type": "error",
     "traceback": [
      "\u001b[1;31m---------------------------------------------------------------------------\u001b[0m",
      "\u001b[1;31mTypeError\u001b[0m                                 Traceback (most recent call last)",
      "\u001b[1;32m<ipython-input-12-8c264af88881>\u001b[0m in \u001b[0;36m<module>\u001b[1;34m\u001b[0m\n\u001b[0;32m      3\u001b[0m \u001b[0mstat\u001b[0m\u001b[1;33m(\u001b[0m\u001b[1;33m)\u001b[0m\u001b[1;33m\u001b[0m\u001b[1;33m\u001b[0m\u001b[0m\n\u001b[0;32m      4\u001b[0m \u001b[1;32mfrom\u001b[0m \u001b[0mos\u001b[0m \u001b[1;32mimport\u001b[0m \u001b[1;33m*\u001b[0m\u001b[1;33m\u001b[0m\u001b[1;33m\u001b[0m\u001b[0m\n\u001b[1;32m----> 5\u001b[1;33m \u001b[0mstat\u001b[0m\u001b[1;33m(\u001b[0m\u001b[1;33m)\u001b[0m\u001b[1;33m\u001b[0m\u001b[1;33m\u001b[0m\u001b[0m\n\u001b[0m",
      "\u001b[1;31mTypeError\u001b[0m: stat() missing required argument 'path' (pos 1)"
     ]
    }
   ],
   "source": [
    "def stat():\n",
    "    print(\"Én egy statisztika vagyok\")\n",
    "stat()\n",
    "from os import *\n",
    "stat() "
   ]
  },
  {
   "cell_type": "code",
   "execution_count": 13,
   "metadata": {},
   "outputs": [
    {
     "data": {
      "text/plain": [
       "<function nt.stat(path, *, dir_fd=None, follow_symlinks=True)>"
      ]
     },
     "execution_count": 13,
     "metadata": {},
     "output_type": "execute_result"
    }
   ],
   "source": [
    "stat"
   ]
  },
  {
   "cell_type": "markdown",
   "metadata": {
    "slideshow": {
     "slide_type": "subslide"
    }
   },
   "source": [
    "## Modulok instalálása"
   ]
  },
  {
   "cell_type": "code",
   "execution_count": 2,
   "metadata": {},
   "outputs": [],
   "source": [
    "import wikipedia"
   ]
  },
  {
   "cell_type": "markdown",
   "metadata": {},
   "source": [
    "Ha `ModuleNotFoundError`-t kapunk, akkor a Python nem találta meg a számítógépünkön a modult. Ekkor általában az a gond, hogy tényleg nincs is a gépünkön, így instalálni kell. "
   ]
  },
  {
   "cell_type": "markdown",
   "metadata": {
    "slideshow": {
     "slide_type": "subslide"
    }
   },
   "source": [
    "### pip (pip installs packages)\n",
    "A pip program automatikusan telepítődik az Anaconda keretében. Windowson az Anaconda Promptból érjük el, Linuxon pedig a terminálból. Használat:\n",
    "- `pip install modulnev`     Modul instalálása \n",
    "- `pip uninstall modulnev`   Modul törlése\n",
    "- `pip list`  Instalált modulok listája \n",
    "\n",
    "Olyan packageket tudunk installálni amik megtalálhatóak a PyPi-ben. (https://pypi.org/)"
   ]
  },
  {
   "cell_type": "code",
   "execution_count": 3,
   "metadata": {},
   "outputs": [
    {
     "name": "stdout",
     "output_type": "stream",
     "text": [
      "Package                            Version    \n",
      "---------------------------------- -----------\n",
      "-olorama                           0.4.1      \n",
      "alabaster                          0.7.12     \n",
      "altgraph                           0.17.2     \n",
      "anaconda-client                    1.7.2      \n",
      "anaconda-navigator                 2.0.4      \n",
      "anaconda-project                   0.8.3      \n",
      "asn1crypto                         1.0.1      \n",
      "astroid                            2.3.1      \n",
      "astropy                            3.2.1      \n",
      "atomicwrites                       1.3.0      \n",
      "attrs                              20.3.0     \n",
      "Babel                              2.7.0      \n",
      "backcall                           0.1.0      \n",
      "backports.functools-lru-cache      1.5        \n",
      "backports.os                       0.1.1      \n",
      "backports.shutil-get-terminal-size 1.0.0      \n",
      "backports.tempfile                 1.0        \n",
      "backports.weakref                  1.0.post1  \n",
      "beautifulsoup4                     4.8.0      \n",
      "bidict                             0.21.3     \n",
      "bitarray                           1.0.1      \n",
      "bkcharts                           0.2        \n",
      "bleach                             3.1.0      \n",
      "bokeh                              1.3.4      \n",
      "boto                               2.49.0     \n",
      "Bottleneck                         1.2.1      \n",
      "build                              0.6.0.post1\n",
      "certifi                            2019.9.11  \n",
      "cffi                               1.12.3     \n",
      "chardet                            3.0.4      \n",
      "chess                              1.6.1      \n",
      "click                              8.0.3      \n",
      "click-default-group                1.2.2      \n",
      "cloudpickle                        1.2.2      \n",
      "cloup                              0.7.1      \n",
      "clyent                             1.2.2      \n",
      "colorama                           0.4.4      \n",
      "colour                             0.1.5      \n",
      "commonmark                         0.9.1      \n",
      "comtypes                           1.1.7      \n",
      "conda                              4.10.3     \n",
      "conda-build                        3.18.9     \n",
      "conda-content-trust                0+unknown  \n",
      "conda-package-handling             1.6.0      \n",
      "conda-repo-cli                     1.0.4      \n",
      "conda-token                        0.3.0      \n",
      "conda-verify                       3.4.2      \n",
      "contextlib2                        0.6.0      \n",
      "cryptography                       2.7        \n",
      "cycler                             0.10.0     \n",
      "Cython                             0.29.13    \n",
      "cytoolz                            0.10.0     \n",
      "dask                               2.5.2      \n",
      "decorator                          5.1.0      \n",
      "defusedxml                         0.6.0      \n",
      "distributed                        2.5.2      \n",
      "docutils                           0.15.2     \n",
      "entrypoints                        0.3        \n",
      "et-xmlfile                         1.0.1      \n",
      "fastcache                          1.1.0      \n",
      "filelock                           3.0.12     \n",
      "Flask                              1.1.1      \n",
      "fsspec                             0.5.2      \n",
      "funcy                              1.16       \n",
      "future                             0.17.1     \n",
      "gevent                             1.4.0      \n",
      "glcontext                          2.3.4      \n",
      "glob2                              0.7        \n",
      "greenlet                           0.4.15     \n",
      "h5py                               2.9.0      \n",
      "HeapDict                           1.0.1      \n",
      "html5lib                           1.0.1      \n",
      "idna                               2.8        \n",
      "imageio                            2.6.0      \n",
      "imagesize                          1.1.0      \n",
      "importlib-metadata                 4.8.1      \n",
      "ipykernel                          5.1.2      \n",
      "ipython                            7.8.0      \n",
      "ipython-genutils                   0.2.0      \n",
      "ipywidgets                         7.5.1      \n",
      "isort                              4.3.21     \n",
      "isosurfaces                        0.1.0      \n",
      "itsdangerous                       1.1.0      \n",
      "jdcal                              1.4.1      \n",
      "jedi                               0.15.1     \n",
      "Jinja2                             2.10.3     \n",
      "joblib                             0.13.2     \n",
      "json5                              0.8.5      \n",
      "jsonschema                         3.0.2      \n",
      "jupyter                            1.0.0      \n",
      "jupyter-client                     5.3.3      \n",
      "jupyter-console                    6.0.0      \n",
      "jupyter-core                       4.5.0      \n",
      "jupyter-manim                      1.3        \n",
      "jupyterlab                         1.1.4      \n",
      "jupyterlab-server                  1.0.6      \n",
      "jupyterthemes                      0.20.0     \n",
      "keyring                            18.0.0     \n",
      "kiwisolver                         1.1.0      \n",
      "lazy-object-proxy                  1.4.2      \n",
      "lesscpy                            0.14.0     \n",
      "libarchive-c                       2.8        \n",
      "llvmlite                           0.29.0     \n",
      "locket                             0.2.0      \n",
      "lxml                               4.4.1      \n",
      "maf2-tantargy                      0.0.1      \n",
      "manim                              0.12.0     \n",
      "ManimPango                         0.3.1      \n",
      "mapbox-earcut                      0.12.11    \n",
      "MarkupSafe                         1.1.1      \n",
      "matplotlib                         3.1.1      \n",
      "mccabe                             0.6.1      \n",
      "menuinst                           1.4.16     \n",
      "mistune                            0.8.4      \n",
      "mkl-fft                            1.0.14     \n",
      "mkl-random                         1.1.0      \n",
      "mkl-service                        2.3.0      \n",
      "mock                               3.0.5      \n",
      "moderngl                           5.6.4      \n",
      "moderngl-window                    2.4.0      \n",
      "more-itertools                     7.2.0      \n",
      "mpmath                             1.1.0      \n",
      "msgpack                            0.6.1      \n",
      "multipledispatch                   0.6.0      \n",
      "navigator-updater                  0.2.1      \n",
      "nbconvert                          5.6.0      \n",
      "nbformat                           4.4.0      \n",
      "networkx                           2.6.3      \n",
      "nltk                               3.4.5      \n",
      "nose                               1.3.7      \n",
      "notebook                           6.0.1      \n",
      "numba                              0.45.1     \n",
      "numexpr                            2.7.0      \n",
      "numpy                              1.16.5     \n",
      "numpydoc                           0.9.1      \n",
      "olefile                            0.46       \n",
      "opencv-python                      4.3.0.38   \n",
      "openpyxl                           3.0.0      \n",
      "packaging                          19.2       \n",
      "pandas                             0.25.1     \n",
      "pandocfilters                      1.4.2      \n",
      "parsimonious                       0.8.1      \n",
      "parso                              0.5.1      \n",
      "partd                              1.0.0      \n",
      "path.py                            12.0.1     \n",
      "pathlib2                           2.3.5      \n",
      "patsy                              0.5.1      \n",
      "pefile                             2021.9.3   \n",
      "pep517                             0.11.0     \n",
      "pep8                               1.7.1      \n",
      "pickleshare                        0.7.5      \n",
      "Pillow                             6.2.0      \n",
      "pip                                19.2.3     \n",
      "pkginfo                            1.5.0.1    \n",
      "pluggy                             0.13.0     \n",
      "ply                                3.11       \n",
      "progressbar                        2.5        \n",
      "prometheus-client                  0.7.1      \n",
      "prompt-toolkit                     2.0.10     \n",
      "psutil                             5.6.3      \n",
      "py                                 1.8.0      \n",
      "py-aiger                           6.1.14     \n",
      "py-aiger-cnf                       5.0.2      \n",
      "pycairo                            1.19.1     \n",
      "pycodestyle                        2.5.0      \n",
      "pycosat                            0.6.3      \n",
      "pycparser                          2.19       \n",
      "pycrypto                           2.6.1      \n",
      "pycurl                             7.43.0.3   \n",
      "pydub                              0.24.1     \n",
      "pyflakes                           2.1.1      \n",
      "pyglet                             1.5.21     \n",
      "Pygments                           2.10.0     \n",
      "pyinstaller                        4.5.1      \n",
      "pyinstaller-hooks-contrib          2021.3     \n",
      "pylint                             2.4.2      \n",
      "pyodbc                             4.0.27     \n",
      "pyOpenSSL                          19.0.0     \n",
      "pyparsing                          2.4.2      \n",
      "pypblib                            0.0.4      \n",
      "pyreadline                         2.1        \n",
      "pyrr                               0.10.3     \n",
      "pyrsistent                         0.17.3     \n",
      "PySocks                            1.7.1      \n",
      "pytest                             5.2.1      \n",
      "pytest-arraydiff                   0.3        \n",
      "pytest-astropy                     0.5.0      \n",
      "pytest-doctestplus                 0.4.0      \n",
      "pytest-openfiles                   0.4.0      \n",
      "pytest-remotedata                  0.3.2      \n",
      "python-dateutil                    2.8.0      \n",
      "python-sat                         0.1.7.dev10\n",
      "pytz                               2019.3     \n",
      "PyWavelets                         1.0.3      \n",
      "pywin32                            223        \n",
      "pywin32-ctypes                     0.2.0      \n",
      "pywinpty                           0.5.5      \n",
      "PyYAML                             5.1.2      \n",
      "pyzmq                              18.1.0     \n",
      "QtAwesome                          0.6.0      \n",
      "qtconsole                          4.5.5      \n",
      "QtPy                               1.9.0      \n",
      "readme-renderer                    29.0       \n",
      "requests                           2.22.0     \n",
      "requests-toolbelt                  0.9.1      \n",
      "rfc3986                            1.5.0      \n",
      "rich                               10.14.0    \n",
      "rise                               5.7.1      \n",
      "rope                               0.14.0     \n",
      "ruamel-yaml                        0.15.46    \n",
      "scikit-image                       0.15.0     \n",
      "scikit-learn                       0.21.3     \n",
      "scipy                              1.3.1      \n",
      "screeninfo                         0.6.7      \n",
      "seaborn                            0.9.0      \n",
      "Send2Trash                         1.5.0      \n",
      "setuptools                         41.4.0     \n",
      "simplegeneric                      0.8.1      \n",
      "singledispatch                     3.4.0.3    \n",
      "six                                1.12.0     \n",
      "skia-pathops                       0.7.1      \n",
      "snowballstemmer                    2.0.0      \n",
      "sortedcollections                  1.1.2      \n",
      "sortedcontainers                   2.4.0      \n",
      "soupsieve                          1.9.3      \n",
      "Sphinx                             2.2.0      \n",
      "sphinxcontrib-applehelp            1.0.1      \n",
      "sphinxcontrib-devhelp              1.0.1      \n",
      "sphinxcontrib-htmlhelp             1.0.2      \n",
      "sphinxcontrib-jsmath               1.0.1      \n",
      "sphinxcontrib-qthelp               1.0.2      \n",
      "sphinxcontrib-serializinghtml      1.1.3      \n",
      "sphinxcontrib-websupport           1.1.2      \n",
      "spyder                             3.3.6      \n",
      "spyder-kernels                     0.5.2      \n",
      "SQLAlchemy                         1.3.9      \n",
      "statsmodels                        0.10.1     \n",
      "sympy                              1.4        \n",
      "tables                             3.5.2      \n",
      "tblib                              1.4.0      \n",
      "terminado                          0.8.2      \n",
      "testpath                           0.4.2      \n",
      "tomli                              1.2.1      \n",
      "toolz                              0.10.0     \n",
      "toposort                           1.6        \n",
      "tornado                            6.0.3      \n",
      "tqdm                               4.36.1     \n",
      "traitlets                          4.3.3      \n",
      "twine                              3.4.2      \n",
      "typing-extensions                  3.7.4.2    \n",
      "unicodecsv                         0.14.1     \n",
      "urllib3                            1.24.2     \n",
      "watchdog                           2.1.6      \n",
      "wcwidth                            0.1.7      \n",
      "webencodings                       0.5.1      \n",
      "Werkzeug                           0.16.0     \n",
      "wheel                              0.33.6     \n",
      "widgetsnbextension                 3.5.1      \n",
      "wikipedia                          1.4.0      \n",
      "win-inet-pton                      1.1.0      \n",
      "win-unicode-console                0.5        \n",
      "wincertstore                       0.2        \n",
      "wrapt                              1.11.2     \n",
      "xlrd                               1.2.0      \n",
      "XlsxWriter                         1.2.1      \n",
      "xlwings                            0.15.10    \n",
      "xlwt                               1.3.0      \n",
      "xmltodict                          0.12.0     \n",
      "zict                               1.0.0      \n",
      "zipp                               0.6.0      \n"
     ]
    }
   ],
   "source": [
    "!pip list     # a ! a mögötte lévő parancsot lefuttatja a terminálban"
   ]
  },
  {
   "cell_type": "markdown",
   "metadata": {
    "slideshow": {
     "slide_type": "subslide"
    }
   },
   "source": [
    "## Hasznos beépített packagek, standard library\n",
    "Részletek: https://docs.python.org/3/library/\n",
    "\n",
    "Numeric and Mathematical Modules\n",
    "- numbers — Numeric abstract base classes\n",
    "- math — Mathematical functions\n",
    "- cmath — Mathematical functions for complex numbers\n",
    "- decimal — Decimal fixed point and floating point arithmetic\n",
    "- fractions — Rational numbers\n",
    "- random — Generate pseudo-random numbers\n",
    "- statistics — Mathematical statistics functions"
   ]
  },
  {
   "cell_type": "markdown",
   "metadata": {
    "slideshow": {
     "slide_type": "subslide"
    }
   },
   "source": [
    "Functional Programming Modules\n",
    "- itertools — Functions creating iterators for efficient looping\n",
    "- functools — Higher-order functions and operations on callable objects\n",
    "- operator — Standard operators as functions"
   ]
  },
  {
   "cell_type": "markdown",
   "metadata": {
    "slideshow": {
     "slide_type": "subslide"
    }
   },
   "source": [
    "- matek és tudományos modulok   \n",
    " - numpy \n",
    " - scipy\n",
    " - sympy\n",
    "- vizualizáció\n",
    " - Matplotlib\n",
    " - bokeh \n",
    "- deep, machine és mindenféle learning, adatbányászat\n",
    " - Keras\n",
    " - TensorFlow\n",
    " - PyTorch\n",
    " - Pandas\n",
    "- nyelvi feldolgozás\n",
    " - NLTK "
   ]
  },
  {
   "cell_type": "markdown",
   "metadata": {
    "collapsed": true,
    "slideshow": {
     "slide_type": "subslide"
    }
   },
   "source": [
    "## Kiegészítő anyagok\n",
    "- Saját package létrehozása https://packaging.python.org/tutorials/distributing-packages/\n",
    "- Virtualenv: Komolyabb Python használat esetén különböző projektekhez különböző verizói lehetnek szükségesek egy adott packagenek. A Virtualenv ennek kezelésében (is) segít.\n"
   ]
  },
  {
   "cell_type": "markdown",
   "metadata": {
    "slideshow": {
     "slide_type": "slide"
    }
   },
   "source": [
    "# String formatálás\n",
    "Több módszer van arra, hogy kényelmesebben generáljunk szöveges kimenetet. Az egyik a `format()` függvény. Ez egy stringből egy másik stringet készít úgy, hogy hogy a megadott paramétereket behelyettesíti a kapcsos zárójelek közé. A függvényekhez hasonlóan több féle paraméter átadás működik:"
   ]
  },
  {
   "cell_type": "code",
   "execution_count": 5,
   "metadata": {},
   "outputs": [
    {
     "name": "stdout",
     "output_type": "stream",
     "text": [
      "Kedves Ádám, az ön egyenlege 230.2346.\n",
      "Kedves 230.2346, az ön egyenlege Ádám.\n",
      "Kedves Ádám, az ön egyenlege 230.2346.\n",
      "Kedves Ádám, az ön egyenlege 230.2346.\n"
     ]
    }
   ],
   "source": [
    "# default argumentumok\n",
    "print(\"Kedves {}, az ön egyenlege {}.\".format(\"Ádám\", 230.2346))\n",
    "\n",
    "# pozíció szerintei argumentumok \n",
    "print(\"Kedves {1}, az ön egyenlege {0}.\".format(\"Ádám\", 230.2346))\n",
    "\n",
    "# kucsszavas argumentumok\n",
    "print(\"Kedves {nev}, az ön egyenlege {egyen}.\".format(nev=\"Ádám\", egyen=230.2346))\n",
    "\n",
    "# vegyes\n",
    "print(\"Kedves {0}, az ön egyenlege {egyen}.\".format(\"Ádám\",egyen= 230.2346))"
   ]
  },
  {
   "cell_type": "markdown",
   "metadata": {},
   "source": [
    "Ha az adatok egy dicitionaryben vannak, azt is használhatjuk. "
   ]
  },
  {
   "cell_type": "code",
   "execution_count": null,
   "metadata": {},
   "outputs": [],
   "source": [
    "person = {'eletkor': 23, 'nev': 'Ádam'}\n",
    "\n",
    "print(\"{p[nev]} életkora: {p[eletkor]}\".format(p=person))"
   ]
  },
  {
   "cell_type": "markdown",
   "metadata": {
    "slideshow": {
     "slide_type": "subslide"
    }
   },
   "source": [
    "### string interpolation\n",
    "Egy másik lehetőség az f-stringek használata.  (részletek: [PEP498](https://www.python.org/dev/peps/pep-0498/))\n",
    "- Hasonló az előzőhöz, de bármilyen változót használhatunk\n",
    "- Figyeld meg a `f` betűt a string előtt!"
   ]
  },
  {
   "cell_type": "code",
   "execution_count": 7,
   "metadata": {},
   "outputs": [
    {
     "name": "stdout",
     "output_type": "stream",
     "text": [
      "Paprika Jancsinak 12 almája és 1 kutyája van.\n"
     ]
    }
   ],
   "source": [
    "szam1 = 12 \n",
    "szam2 = 1\n",
    "nev=\"Paprika Jancsi\"\n",
    "print(f\"{nev}nak {szam1} almája és {szam2} kutyája van.\")"
   ]
  }
 ],
 "metadata": {
  "celltoolbar": "Slideshow",
  "kernelspec": {
   "display_name": "Python 3",
   "language": "python",
   "name": "python3"
  },
  "language_info": {
   "codemirror_mode": {
    "name": "ipython",
    "version": 3
   },
   "file_extension": ".py",
   "mimetype": "text/x-python",
   "name": "python",
   "nbconvert_exporter": "python",
   "pygments_lexer": "ipython3",
   "version": "3.7.4"
  }
 },
 "nbformat": 4,
 "nbformat_minor": 5
}
