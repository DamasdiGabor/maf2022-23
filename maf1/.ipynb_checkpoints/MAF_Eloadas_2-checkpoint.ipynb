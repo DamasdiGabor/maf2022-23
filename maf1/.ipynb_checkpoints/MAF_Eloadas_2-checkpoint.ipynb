{
 "cells": [
  {
   "cell_type": "markdown",
   "metadata": {
    "slideshow": {
     "slide_type": "slide"
    }
   },
   "source": [
    "# Matematikai Algoritmusok és Felfedezések I.\n",
    "\n",
    "## 2. Előadás, értékadás, vezérlés, függvények, egyszerű adattípusok, adatszerkezetek.\n",
    "\n",
    "### 2023 március 8."
   ]
  },
  {
   "cell_type": "markdown",
   "metadata": {
    "slideshow": {
     "slide_type": "subslide"
    }
   },
   "source": [
    "## Technikai információk"
   ]
  },
  {
   "cell_type": "markdown",
   "metadata": {
    "slideshow": {
     "slide_type": "-"
    }
   },
   "source": [
    "### Anyagok elérhetősége:\n",
    "- [damasdigabor.web.elte.hu/teaching](https://damasdigabor.web.elte.hu/teaching)\n",
    "- [Kooplex](https://k8plex-edu.elte.hu/hub/)\n",
    "- [Youtube csatorna](https://www.youtube.com/playlist?list=PL3L6lTzsxoUTQkXTkzQnnPTNOcpvAthiw)"
   ]
  },
  {
   "cell_type": "markdown",
   "metadata": {
    "slideshow": {
     "slide_type": "subslide"
    }
   },
   "source": [
    "## Emlékeztető \n",
    "- Indentálás\n",
    "- Dinamikus típusok\n"
   ]
  },
  {
   "cell_type": "code",
   "execution_count": 1,
   "metadata": {
    "slideshow": {
     "slide_type": "-"
    }
   },
   "outputs": [
    {
     "name": "stdout",
     "output_type": "stream",
     "text": [
      "The Zen of Python, by Tim Peters\n",
      "\n",
      "Beautiful is better than ugly.\n",
      "Explicit is better than implicit.\n",
      "Simple is better than complex.\n",
      "Complex is better than complicated.\n",
      "Flat is better than nested.\n",
      "Sparse is better than dense.\n",
      "Readability counts.\n",
      "Special cases aren't special enough to break the rules.\n",
      "Although practicality beats purity.\n",
      "Errors should never pass silently.\n",
      "Unless explicitly silenced.\n",
      "In the face of ambiguity, refuse the temptation to guess.\n",
      "There should be one-- and preferably only one --obvious way to do it.\n",
      "Although that way may not be obvious at first unless you're Dutch.\n",
      "Now is better than never.\n",
      "Although never is often better than *right* now.\n",
      "If the implementation is hard to explain, it's a bad idea.\n",
      "If the implementation is easy to explain, it may be a good idea.\n",
      "Namespaces are one honking great idea -- let's do more of those!\n"
     ]
    }
   ],
   "source": [
    "import this"
   ]
  },
  {
   "cell_type": "code",
   "execution_count": 3,
   "metadata": {
    "slideshow": {
     "slide_type": "slide"
    }
   },
   "outputs": [],
   "source": [
    "import random\n",
    "def make_maze(w = 16, h = 8):\n",
    "    vis = [[0] * w + [1] for _ in range(h)] + [[1] * (w + 1)]\n",
    "    ver = [[\"|  \"] * w + ['|'] for _ in range(h)] + [[]]\n",
    "    hor = [[\"+--\"] * w + ['+'] for _ in range(h + 1)]\n",
    " \n",
    "    def walk(x, y):\n",
    "        vis[y][x] = 1\n",
    " \n",
    "        d = [(x - 1, y), (x, y + 1), (x + 1, y), (x, y - 1)]\n",
    "        random.shuffle(d)\n",
    "        for (xx, yy) in d:\n",
    "            if vis[yy][xx]: continue\n",
    "            if xx == x: hor[max(y, yy)][x] = \"+  \"\n",
    "            if yy == y: ver[y][max(x, xx)] = \"   \"\n",
    "            walk(xx, yy)  \n",
    " \n",
    "    walk(random.randrange(w), random.randrange(h))\n",
    " \n",
    "    s = \"\"\n",
    "    for (a, b) in zip(hor, ver):\n",
    "        s += ''.join(a + ['\\n'] + b + ['\\n'])\n",
    "    return s "
   ]
  },
  {
   "cell_type": "code",
   "execution_count": 7,
   "metadata": {
    "slideshow": {
     "slide_type": "subslide"
    }
   },
   "outputs": [
    {
     "name": "stdout",
     "output_type": "stream",
     "text": [
      "+--+--+--+--+--+--+--+--+--+--+--+--+--+--+--+--+\n",
      "|                    |           |        |     |\n",
      "+  +--+--+--+  +--+  +  +--+--+  +  +--+  +  +  +\n",
      "|  |        |  |        |           |  |  |  |  |\n",
      "+  +--+--+  +  +--+--+--+--+--+--+--+  +  +  +--+\n",
      "|  |        |           |     |  |     |  |     |\n",
      "+  +  +--+  +--+--+--+  +--+  +  +  +  +  +--+  +\n",
      "|     |     |        |     |  |  |  |     |     |\n",
      "+--+--+  +--+--+  +--+  +  +  +  +  +--+--+  +--+\n",
      "|  |     |        |     |  |  |  |  |           |\n",
      "+  +  +--+  +--+  +  +--+  +  +  +  +--+  +--+  +\n",
      "|  |  |     |     |  |  |  |  |        |  |     |\n",
      "+  +  +--+  +--+--+  +  +  +  +--+--+  +  +  +  +\n",
      "|  |        |        |     |     |  |  |  |  |  |\n",
      "+  +--+--+  +  +--+--+--+--+--+  +  +  +--+  +  +\n",
      "|           |                    |           |  |\n",
      "+--+--+--+--+--+--+--+--+--+--+--+--+--+--+--+--+\n",
      "\n",
      "\n"
     ]
    }
   ],
   "source": [
    "print(make_maze())"
   ]
  },
  {
   "cell_type": "markdown",
   "metadata": {
    "slideshow": {
     "slide_type": "slide"
    }
   },
   "source": [
    "# Értékadás (Assignment)\n",
    "\n",
    "Kicsit más mint a legtöbb nyelvben:\n",
    "\n",
    "- C++-ban `i = 2` kb azt jelenti, hogy a típussal rendelkező i változó megkapja a 2 érték másolatát.\n",
    "- Python `i = 2` kb azt jelenti hogy az i név kap egy referenciát egy numerikus objektumhoz, aminek az értéke 2. \n",
    "\n",
    "- mindig a jobb oldal értékelődik ki először, majd pedig a bal oldali név kap egy referenciát a jobb oldali értékhez\n",
    "\n",
    "Az `id` függvény visszaadja az objektum egyedi azonosító számát. (Miért lehet gond az id használatából?)"
   ]
  },
  {
   "cell_type": "code",
   "execution_count": 10,
   "metadata": {
    "slideshow": {
     "slide_type": "subslide"
    }
   },
   "outputs": [
    {
     "name": "stdout",
     "output_type": "stream",
     "text": [
      "140726807470512\n",
      "140726807470544\n",
      "140726807470512\n"
     ]
    }
   ],
   "source": [
    "i = 2\n",
    "print(id(i))\n",
    "\n",
    "i = 3\n",
    "print(id(i)) \n",
    "\n",
    "i = 2\n",
    "print(id(i))"
   ]
  },
  {
   "cell_type": "code",
   "execution_count": 11,
   "metadata": {
    "slideshow": {
     "slide_type": "subslide"
    }
   },
   "outputs": [
    {
     "name": "stdout",
     "output_type": "stream",
     "text": [
      "1956758227504\n",
      "True\n",
      "False\n",
      "False\n"
     ]
    }
   ],
   "source": [
    "i = \"elte\"\n",
    "print(id(i))\n",
    "\n",
    "s = i\n",
    "print(id(s) == id(i))\n",
    "\n",
    "old_id = id(s)\n",
    "s = s + \"matek\"\n",
    "print(id(s) == id(i))\n",
    "print(old_id == id(s))"
   ]
  },
  {
   "cell_type": "markdown",
   "metadata": {},
   "source": [
    "Az id-kat összehasonlíthatjuk az `is` paranccsal. "
   ]
  },
  {
   "cell_type": "code",
   "execution_count": 12,
   "metadata": {
    "slideshow": {
     "slide_type": "-"
    }
   },
   "outputs": [
    {
     "name": "stdout",
     "output_type": "stream",
     "text": [
      "True\n",
      "True\n",
      "False\n"
     ]
    },
    {
     "data": {
      "text/plain": [
       "False"
      ]
     },
     "execution_count": 12,
     "metadata": {},
     "output_type": "execute_result"
    }
   ],
   "source": [
    "a = 2 \n",
    "b = a\n",
    "print(id(a) == id(b))\n",
    "print(a is b)\n",
    "a = a+1\n",
    "print(id(a) == id(b))\n",
    "a is b"
   ]
  },
  {
   "cell_type": "markdown",
   "metadata": {
    "slideshow": {
     "slide_type": "subslide"
    }
   },
   "source": [
    "### Feladvány"
   ]
  },
  {
   "cell_type": "code",
   "execution_count": 13,
   "metadata": {},
   "outputs": [
    {
     "data": {
      "text/plain": [
       "True"
      ]
     },
     "execution_count": 13,
     "metadata": {},
     "output_type": "execute_result"
    }
   ],
   "source": [
    "a=25\n",
    "b=25\n",
    "a is b"
   ]
  },
  {
   "cell_type": "code",
   "execution_count": 14,
   "metadata": {},
   "outputs": [
    {
     "data": {
      "text/plain": [
       "False"
      ]
     },
     "execution_count": 14,
     "metadata": {},
     "output_type": "execute_result"
    }
   ],
   "source": [
    "a=300\n",
    "b=300\n",
    "a is b"
   ]
  },
  {
   "cell_type": "code",
   "execution_count": 15,
   "metadata": {},
   "outputs": [
    {
     "data": {
      "text/plain": [
       "True"
      ]
     },
     "execution_count": 15,
     "metadata": {},
     "output_type": "execute_result"
    }
   ],
   "source": [
    "25 is 25"
   ]
  },
  {
   "cell_type": "code",
   "execution_count": 16,
   "metadata": {},
   "outputs": [
    {
     "data": {
      "text/plain": [
       "True"
      ]
     },
     "execution_count": 16,
     "metadata": {},
     "output_type": "execute_result"
    }
   ],
   "source": [
    "300 is 300"
   ]
  },
  {
   "cell_type": "markdown",
   "metadata": {
    "slideshow": {
     "slide_type": "slide"
    }
   },
   "source": [
    "# Egyszerű utasítások"
   ]
  },
  {
   "cell_type": "markdown",
   "metadata": {
    "slideshow": {
     "slide_type": "subslide"
    }
   },
   "source": [
    "## if, elif, else"
   ]
  },
  {
   "cell_type": "code",
   "execution_count": 1,
   "metadata": {},
   "outputs": [
    {
     "name": "stdout",
     "output_type": "stream",
     "text": [
      "N pozitív\n",
      "N pozitív\n",
      "N pozitív\n",
      "elte\n"
     ]
    }
   ],
   "source": [
    "#n = int(input())\n",
    "n = 2\n",
    "\n",
    "if n < 0: \n",
    "    print(\"N negatív\")\n",
    "elif n > 0: \n",
    "    print(\"N pozitív\")\n",
    "    print(\"N pozitív\")\n",
    "    print(\"N pozitív\")\n",
    "else:\n",
    "    print(\"N se nem negatív se nem pozitív\")\n",
    "print('elte')"
   ]
  },
  {
   "cell_type": "markdown",
   "metadata": {
    "slideshow": {
     "slide_type": "subslide"
    }
   },
   "source": [
    "## Feltételes kifejezések\n",
    "\n",
    "- egysoros `if` utasítások is vannak \n",
    "- Az operátorok sorrendje viszont különbözik a C nyelvben megszokottaktól. C-ben így nézne ki a kód:\n",
    "\n",
    "~~~C\n",
    "int x = -2;\n",
    "int abs_x = x>=0 ? x : -x;\n",
    "~~~\n",
    "- Csak nagyon rövid kódok esetén ajánlott. \n",
    "\n",
    "Pythonban:\n",
    "\n",
    "`<kifejezés1> if <feltétel> else <kifejezés2>`"
   ]
  },
  {
   "cell_type": "code",
   "execution_count": 26,
   "metadata": {},
   "outputs": [
    {
     "data": {
      "text/plain": [
       "2"
      ]
     },
     "execution_count": 26,
     "metadata": {},
     "output_type": "execute_result"
    }
   ],
   "source": [
    "n = 2\n",
    "abs_n =  n if n >= 0 else -n\n",
    "abs_n"
   ]
  },
  {
   "cell_type": "markdown",
   "metadata": {
    "slideshow": {
     "slide_type": "subslide"
    }
   },
   "source": [
    "## for, range\n",
    "\n",
    "### lista iterálása"
   ]
  },
  {
   "cell_type": "code",
   "execution_count": 28,
   "metadata": {},
   "outputs": [
    {
     "name": "stdout",
     "output_type": "stream",
     "text": [
      "foo\n",
      "bar\n",
      "bar\n"
     ]
    }
   ],
   "source": [
    "for e in [\"foo\", \"bar\"]:\n",
    "    print(e)\n",
    "print(e) "
   ]
  },
  {
   "cell_type": "markdown",
   "metadata": {
    "slideshow": {
     "slide_type": "fragment"
    }
   },
   "source": [
    "### Az egészek egy intervallumán való iterálás\n",
    "\n",
    "Így nézne ki C++-ban:\n",
    "~~~C++\n",
    "for (int i=0; i<5; i++)\n",
    "   { cout << i << endl;}\n",
    "~~~\n",
    "\n",
    "A `range` mindig 0-val kezdődik!"
   ]
  },
  {
   "cell_type": "code",
   "execution_count": 29,
   "metadata": {},
   "outputs": [
    {
     "name": "stdout",
     "output_type": "stream",
     "text": [
      "0\n",
      "1\n",
      "2\n",
      "3\n",
      "4\n"
     ]
    }
   ],
   "source": [
    "for i in range(5):\n",
    "    print(i)"
   ]
  },
  {
   "cell_type": "markdown",
   "metadata": {
    "slideshow": {
     "slide_type": "subslide"
    }
   },
   "source": [
    "Megadhatjuk a kezdőértéket:"
   ]
  },
  {
   "cell_type": "code",
   "execution_count": 31,
   "metadata": {
    "slideshow": {
     "slide_type": "-"
    }
   },
   "outputs": [
    {
     "name": "stdout",
     "output_type": "stream",
     "text": [
      "2\n",
      "3\n",
      "4\n"
     ]
    }
   ],
   "source": [
    "for i in range(2, 5):\n",
    "    print(i)"
   ]
  },
  {
   "cell_type": "markdown",
   "metadata": {
    "slideshow": {
     "slide_type": "fragment"
    }
   },
   "source": [
    "Megadhatjuk a növekedés értékét is. Ekkor viszont kötelező megadni a kezdőértéket is. "
   ]
  },
  {
   "cell_type": "code",
   "execution_count": 32,
   "metadata": {
    "slideshow": {
     "slide_type": "-"
    }
   },
   "outputs": [
    {
     "name": "stdout",
     "output_type": "stream",
     "text": [
      "1\n",
      "3\n",
      "5\n",
      "7\n",
      "9\n"
     ]
    }
   ],
   "source": [
    "for i in range(1, 10, 2):\n",
    "    print(i)"
   ]
  },
  {
   "cell_type": "markdown",
   "metadata": {
    "slideshow": {
     "slide_type": "subslide"
    }
   },
   "source": [
    "## while"
   ]
  },
  {
   "cell_type": "code",
   "execution_count": 35,
   "metadata": {},
   "outputs": [
    {
     "name": "stdout",
     "output_type": "stream",
     "text": [
      "0\n",
      "1\n",
      "2\n",
      "3\n",
      "4\n"
     ]
    },
    {
     "data": {
      "text/plain": [
       "5"
      ]
     },
     "execution_count": 35,
     "metadata": {},
     "output_type": "execute_result"
    }
   ],
   "source": [
    "i = 0\n",
    "while i < 5:\n",
    "    print(i)\n",
    "    i = i + 1\n",
    "i"
   ]
  },
  {
   "cell_type": "markdown",
   "metadata": {},
   "source": [
    "Nincs `do...while` Pythonban."
   ]
  },
  {
   "cell_type": "markdown",
   "metadata": {
    "slideshow": {
     "slide_type": "subslide"
    }
   },
   "source": [
    "## break és continue\n",
    "\n",
    "- `break`: ha korábban ki akarunk lépni egy ciklusból\n",
    "- `continue`: ha korábban szeretnénk a következő ciklus futásra lépni"
   ]
  },
  {
   "cell_type": "code",
   "execution_count": 36,
   "metadata": {},
   "outputs": [
    {
     "name": "stdout",
     "output_type": "stream",
     "text": [
      "1\n",
      "3\n",
      "5\n",
      "7\n",
      "9\n"
     ]
    }
   ],
   "source": [
    "for i in range(10):\n",
    "    if i % 2 == 0: \n",
    "        continue\n",
    "    print(i) "
   ]
  },
  {
   "cell_type": "code",
   "execution_count": 37,
   "metadata": {
    "slideshow": {
     "slide_type": "fragment"
    }
   },
   "outputs": [
    {
     "name": "stdout",
     "output_type": "stream",
     "text": [
      "0\n",
      "1\n",
      "2\n",
      "3\n",
      "4\n",
      "süsü\n"
     ]
    }
   ],
   "source": [
    "for i in range(10):\n",
    "    if i > 4:\n",
    "        break\n",
    "    print(i)\n",
    "print('süsü')"
   ]
  },
  {
   "cell_type": "markdown",
   "metadata": {
    "slideshow": {
     "slide_type": "slide"
    }
   },
   "source": [
    "# Függvények\n",
    "\n",
    "Fontos, hogy ezek nem matematikai függvények. Például nem csak a bemenettől függ a függvényérték! "
   ]
  },
  {
   "cell_type": "markdown",
   "metadata": {
    "slideshow": {
     "slide_type": "fragment"
    }
   },
   "source": [
    "## Függvény definíció\n",
    "\n",
    "Függvényeket a `def` kulcsszó segítségévek használhatunk:"
   ]
  },
  {
   "cell_type": "code",
   "execution_count": null,
   "metadata": {},
   "outputs": [],
   "source": [
    "def foo():\n",
    "    print(\"én egy nagyon okos függvény vagyok\")\n",
    "     \n",
    "foo() "
   ]
  },
  {
   "cell_type": "markdown",
   "metadata": {
    "slideshow": {
     "slide_type": "subslide"
    }
   },
   "source": [
    "## Függvény argumentumok, paraméterek \n",
    "1. pozíció szerinti (positional)\n",
    "2. kulcsszavas (named or keyword arguments)\n",
    "\n",
    "Először a pozíció szerintieket kell írni aztán a kulcsszavasokat"
   ]
  },
  {
   "cell_type": "code",
   "execution_count": null,
   "metadata": {},
   "outputs": [],
   "source": [
    "def foo(arg1, arg2, arg3):\n",
    "    print(\"arg1 \", arg1)\n",
    "    print(\"arg2 \", arg2)\n",
    "    print(\"arg3 \", arg3) \n",
    "    \n",
    "foo(1, 2, \"asdfs\")"
   ]
  },
  {
   "cell_type": "code",
   "execution_count": null,
   "metadata": {},
   "outputs": [],
   "source": [
    "foo(1, arg3=2, arg2=29)"
   ]
  },
  {
   "cell_type": "code",
   "execution_count": null,
   "metadata": {},
   "outputs": [],
   "source": [
    "arg3=4"
   ]
  },
  {
   "cell_type": "markdown",
   "metadata": {
    "slideshow": {
     "slide_type": "subslide"
    }
   },
   "source": [
    "### Mit is jelent, hogy egy függvényt meghívunk valamilyen argumentumokkal?\n",
    " - Létrejön egy lokális változó a paraméter névvel és az argumentumra fog mutatni. \n",
    " - Tényleg az átadott objektumra fog mutatni és nem csak egy másolatra!\n",
    " - Alapvetően az át nem adott objektumokat viszont nem látja!"
   ]
  },
  {
   "cell_type": "code",
   "execution_count": null,
   "metadata": {},
   "outputs": [],
   "source": [
    "l=[\"matek\"]\n",
    "def add_matek(k):\n",
    "    k.append(\"matek\")\n",
    "\n",
    "print(l)\n",
    "add_matek(l)\n",
    "print(l)\n",
    "add_matek(l)\n",
    "print(l)\n"
   ]
  },
  {
   "cell_type": "markdown",
   "metadata": {
    "slideshow": {
     "slide_type": "subslide"
    }
   },
   "source": [
    "#### Feladvány"
   ]
  },
  {
   "cell_type": "code",
   "execution_count": null,
   "metadata": {
    "scrolled": true,
    "slideshow": {
     "slide_type": "-"
    }
   },
   "outputs": [],
   "source": [
    "s=\"matek\"\n",
    "def add_matek(k):\n",
    "    k=k+\"matek\"\n",
    "\n",
    "print(s)\n",
    "add_matek(s)\n",
    "print(s)\n",
    "add_matek(s)\n",
    "print(s)"
   ]
  },
  {
   "cell_type": "markdown",
   "metadata": {
    "slideshow": {
     "slide_type": "subslide"
    }
   },
   "source": [
    "## Alapértelmezett argumentum (Default arguments)\n",
    "\n",
    "- Az argumentumoknak lehet alapértelmezett értéke.\n",
    "- Először kell megadni azokat az argumentumokat, amiknek nincs alapértelmezett értéke."
   ]
  },
  {
   "cell_type": "code",
   "execution_count": null,
   "metadata": {
    "scrolled": true
   },
   "outputs": [],
   "source": [
    "def foo(arg1, arg2=8, arg3=2):\n",
    "    print(\"arg1 \", arg1)\n",
    "    print(\"arg2 \", arg2)\n",
    "    print(\"arg3 \", arg3)\n",
    "foo(1)"
   ]
  },
  {
   "cell_type": "markdown",
   "metadata": {},
   "source": [
    "Alapértelmezett argumentumokat nem is kötelező megadni.  "
   ]
  },
  {
   "cell_type": "code",
   "execution_count": null,
   "metadata": {},
   "outputs": [],
   "source": [
    "foo(1, 2)"
   ]
  },
  {
   "cell_type": "code",
   "execution_count": null,
   "metadata": {},
   "outputs": [],
   "source": [
    "foo(arg1=1, arg3=33, arg2=222)"
   ]
  },
  {
   "cell_type": "markdown",
   "metadata": {
    "slideshow": {
     "slide_type": "subslide"
    }
   },
   "source": [
    "Tetszőleges kihagyható közülük.  "
   ]
  },
  {
   "cell_type": "code",
   "execution_count": null,
   "metadata": {},
   "outputs": [],
   "source": [
    "def foo(arg1, arg2=2, arg3=3):\n",
    "    print(\"arg1 \", arg1)\n",
    "    print(\"arg2 \", arg2)\n",
    "    print(\"arg3 \", arg3)\n",
    "    \n",
    "foo(11, 33) \n",
    "print(\"\")\n",
    "foo(11, arg3=33)"
   ]
  },
  {
   "cell_type": "markdown",
   "metadata": {
    "slideshow": {
     "slide_type": "subslide"
    }
   },
   "source": [
    "Emiatt rengeteg argumentumod lehet úgy is, hogy ez nem nehezíti meg a függvény használatát. Sok könyvtárban találunk olyan függvényeket, amiknek rengeteg argumentumunk van."
   ]
  },
  {
   "cell_type": "markdown",
   "metadata": {
    "slideshow": {
     "slide_type": "-"
    }
   },
   "source": [
    "Például a következő függvényt a `pandas` könyvtárban találjuk:\n",
    "\n",
    "~~~python\n",
    " pandas.read_csv(filepath_or_buffer, sep=', ', delimiter=None, header='infer', names=None, index_col=None, usecols=None, squeeze=False, prefix=None, mangle_dupe_cols=True, dtype=None, engine=None, converters=None, true_values=None, false_values=None, skipinitialspace=False, skiprows=None, nrows=None, na_values=None, keep_default_na=True, na_filter=True, verbose=False, skip_blank_lines=True, parse_dates=False, infer_datetime_format=False, keep_date_col=False, date_parser=None, dayfirst=False, iterator=False, chunksize=None, compression='infer', thousands=None, decimal=b'.', lineterminator=None, quotechar='\"', quoting=0, escapechar=None, comment=None, encoding=None, dialect=None, tupleize_cols=False, error_bad_lines=True, warn_bad_lines=True, skipfooter=0, skip_footer=0, doublequote=True, delim_whitespace=False, as_recarray=False, compact_ints=False, use_unsigned=False, low_memory=True, buffer_lines=None, memory_map=False, float_precision=None)\n",
    " ~~~"
   ]
  },
  {
   "cell_type": "markdown",
   "metadata": {
    "slideshow": {
     "slide_type": "subslide"
    }
   },
   "source": [
    "### Visszatérési érték, a `return` parancs\n",
    "\n",
    "- Egy függvénynek több visszatérési értéke is lehet\n",
    "  - Ilyenkor az értékek egy tuple-be kerülnek.\n",
    "- ha a függvény futása úgy ér véget, hogy nem ér el `return` parancsot, a visszatérési érték automatikusan `none` lesz.\n",
    "- Egy üres `return` parancs is `None`-nal tér vissza. "
   ]
  },
  {
   "cell_type": "code",
   "execution_count": null,
   "metadata": {},
   "outputs": [],
   "source": [
    "def foo(n):\n",
    "    if n < 0:\n",
    "        return \"negative\"\n",
    "    if 0 <= n < 10:\n",
    "        return \"positive\", n\n",
    "    #return None \n",
    "    return\n",
    "\n",
    "print(foo(-2))\n",
    "print(foo(3), type(foo(3)))\n",
    "print(foo(12))"
   ]
  },
  {
   "cell_type": "markdown",
   "metadata": {
    "slideshow": {
     "slide_type": "slide"
    }
   },
   "source": [
    "# Beépített típusok és operátorok.\n",
    " - Boolean  (Igazság)\n",
    " - Numerikus (Szám)\n",
    " - String  (Szöveg)"
   ]
  },
  {
   "cell_type": "markdown",
   "metadata": {
    "slideshow": {
     "slide_type": "slide"
    }
   },
   "source": [
    "### Dinamikus típusok\n",
    "\n",
    "- nem kell deklarálni a változókat\n",
    "- az értékadás tetszőleges objektumra működik"
   ]
  },
  {
   "cell_type": "code",
   "execution_count": null,
   "metadata": {},
   "outputs": [],
   "source": [
    "i =  2\n",
    "type(i), id(i)"
   ]
  },
  {
   "cell_type": "code",
   "execution_count": null,
   "metadata": {
    "slideshow": {
     "slide_type": "-"
    }
   },
   "outputs": [],
   "source": [
    "i = \"foo\"\n",
    "type(i), id(i)"
   ]
  },
  {
   "cell_type": "markdown",
   "metadata": {
    "slideshow": {
     "slide_type": "subslide"
    }
   },
   "source": [
    "### Erősen típusos nyelv\n",
    "\n",
    "- a legtöbb implicit konverzió nem megengedett.\n",
    "- numerikus típusok között lehet konvertálni:"
   ]
  },
  {
   "cell_type": "code",
   "execution_count": null,
   "metadata": {
    "slideshow": {
     "slide_type": "fragment"
    }
   },
   "outputs": [],
   "source": [
    "i = 2\n",
    "f = 1.2\n",
    "s = i + f\n",
    "print(type(i), type(f))\n",
    "print(type(i + f))\n",
    "print(s,type(s))"
   ]
  },
  {
   "cell_type": "markdown",
   "metadata": {
    "slideshow": {
     "slide_type": "subslide"
    }
   },
   "source": [
    "- konverzió stringek és numerikus típusok között nem megengedett"
   ]
  },
  {
   "cell_type": "code",
   "execution_count": null,
   "metadata": {},
   "outputs": [],
   "source": [
    "print(\"Nekem \" + 3.1415 + \" az IQ-m\")"
   ]
  },
  {
   "cell_type": "markdown",
   "metadata": {
    "slideshow": {
     "slide_type": "fragment"
    }
   },
   "source": [
    "Viszont explicit konverzióval működik:"
   ]
  },
  {
   "cell_type": "code",
   "execution_count": null,
   "metadata": {},
   "outputs": [],
   "source": [
    "print(\"Nekem \" + str(3.1415) + \" az IQ-m\")"
   ]
  },
  {
   "cell_type": "markdown",
   "metadata": {
    "slideshow": {
     "slide_type": "slide"
    }
   },
   "source": [
    "### boolean típus\n",
    "\n",
    "- két boolean érték: `True` és `False` (nagybetűvel kell kezdeni!!!)"
   ]
  },
  {
   "cell_type": "code",
   "execution_count": null,
   "metadata": {},
   "outputs": [],
   "source": [
    "x = False\n",
    "type(x)"
   ]
  },
  {
   "cell_type": "code",
   "execution_count": null,
   "metadata": {},
   "outputs": [],
   "source": [
    "True and False"
   ]
  },
  {
   "cell_type": "code",
   "execution_count": null,
   "metadata": {},
   "outputs": [],
   "source": [
    "True or False"
   ]
  },
  {
   "cell_type": "code",
   "execution_count": null,
   "metadata": {},
   "outputs": [],
   "source": [
    "not False"
   ]
  },
  {
   "cell_type": "code",
   "execution_count": null,
   "metadata": {},
   "outputs": [],
   "source": [
    "True and True and False"
   ]
  },
  {
   "cell_type": "markdown",
   "metadata": {
    "slideshow": {
     "slide_type": "subslide"
    }
   },
   "source": [
    "### boolean operátorok\n",
    "\n",
    "- három boolean operátor van: `and`, `or` and `not`"
   ]
  },
  {
   "cell_type": "code",
   "execution_count": null,
   "metadata": {
    "slideshow": {
     "slide_type": "fragment"
    }
   },
   "outputs": [],
   "source": [
    "x = 5\n",
    "\n",
    "x < 2 and x >= 2"
   ]
  },
  {
   "cell_type": "code",
   "execution_count": null,
   "metadata": {},
   "outputs": [],
   "source": [
    "x > 0 and x < 10"
   ]
  },
  {
   "cell_type": "code",
   "execution_count": null,
   "metadata": {},
   "outputs": [],
   "source": [
    "not x < 0"
   ]
  },
  {
   "cell_type": "markdown",
   "metadata": {
    "slideshow": {
     "slide_type": "slide"
    }
   },
   "source": [
    "## Numerikus típusok\n",
    "\n",
    "- három numerikus típus: `int`, `float` and `complex`\n",
    "- a kezdeti értéktől függ az objektum típusa"
   ]
  },
  {
   "cell_type": "code",
   "execution_count": null,
   "metadata": {
    "slideshow": {
     "slide_type": "fragment"
    }
   },
   "outputs": [],
   "source": [
    "i = 2\n",
    "f = 1.2\n",
    "c = 1+2j\n",
    "\n",
    "type(i), type(f), type(c)"
   ]
  },
  {
   "cell_type": "markdown",
   "metadata": {
    "slideshow": {
     "slide_type": "subslide"
    }
   },
   "source": [
    "- implicit konverzió működik köztük aritmetikai műveletek esetén\n",
    "- az eredmény típusa mindig a legkevesebb információ veszteséggel járó típus"
   ]
  },
  {
   "cell_type": "code",
   "execution_count": null,
   "metadata": {},
   "outputs": [],
   "source": [
    "c2 = i + c\n",
    "print(c2, type(c2)) "
   ]
  },
  {
   "cell_type": "markdown",
   "metadata": {
    "slideshow": {
     "slide_type": "slide"
    }
   },
   "source": [
    "### Tartomány\n",
    "\n",
    "- Az egészek tetszőleges méretűek lehetnek, csak a számítógép hardver oldala szab határt.\n",
    "- Python 2-ben más a helyzet!\n"
   ]
  },
  {
   "cell_type": "code",
   "execution_count": null,
   "metadata": {},
   "outputs": [],
   "source": [
    "2**100000"
   ]
  },
  {
   "cell_type": "code",
   "execution_count": null,
   "metadata": {},
   "outputs": [],
   "source": [
    "type(2**63 + 1) "
   ]
  },
  {
   "cell_type": "markdown",
   "metadata": {
    "slideshow": {
     "slide_type": "subslide"
    }
   },
   "source": [
    "## float\n",
    "\n",
    "- floatok általában a C double típusán alapszanak, így a precizitásuk véges\n",
    "- komplex számok pedig két floatot használnak.\n",
    "- pontos információt a  `sys.float_info` parancs segítségével kapunk"
   ]
  },
  {
   "cell_type": "code",
   "execution_count": null,
   "metadata": {
    "slideshow": {
     "slide_type": "subslide"
    }
   },
   "outputs": [],
   "source": [
    "import sys\n",
    "sys.float_info"
   ]
  },
  {
   "cell_type": "code",
   "execution_count": null,
   "metadata": {
    "slideshow": {
     "slide_type": "fragment"
    }
   },
   "outputs": [],
   "source": [
    "sys.int_info"
   ]
  },
  {
   "cell_type": "markdown",
   "metadata": {
    "slideshow": {
     "slide_type": "slide"
    }
   },
   "source": [
    "## Aritmetikai operátorok\n",
    "\n",
    "- összadás, kivonás, szorzás a szokásos módon működik"
   ]
  },
  {
   "cell_type": "code",
   "execution_count": null,
   "metadata": {},
   "outputs": [],
   "source": [
    "i = 2\n",
    "f = 4.2\n",
    "c = 4.1-3j\n",
    " \n",
    "s1 = i + f\n",
    "s2 = f - c\n",
    "s3 = i * c\n",
    "print(s1, type(s1))\n",
    "print(s2, type(s2))\n",
    "print(s3, type(s3))"
   ]
  },
  {
   "cell_type": "markdown",
   "metadata": {
    "slideshow": {
     "slide_type": "subslide"
    }
   },
   "source": [
    "### Osztás vs benfoglalás\n",
    "- `/` törtet is adhat\n",
    "- `//` a hányados egész részét adja vissza\n",
    "- Python 2-ben más!\n"
   ]
  },
  {
   "cell_type": "code",
   "execution_count": null,
   "metadata": {},
   "outputs": [],
   "source": [
    "3 / 2"
   ]
  },
  {
   "cell_type": "code",
   "execution_count": null,
   "metadata": {},
   "outputs": [],
   "source": [
    "-3.0 // 2, 3 // 2 "
   ]
  },
  {
   "cell_type": "code",
   "execution_count": null,
   "metadata": {},
   "outputs": [],
   "source": [
    "         4 / 0.8, 4.0 / 0.8, 4 // 0.8, 4.0 // 0.8 "
   ]
  },
  {
   "cell_type": "markdown",
   "metadata": {},
   "source": [
    "Mi a megoldás a ilyesmi problémák elkerülésére?"
   ]
  },
  {
   "cell_type": "markdown",
   "metadata": {
    "slideshow": {
     "slide_type": "subslide"
    }
   },
   "source": [
    "### Összehasnolító operátorok"
   ]
  },
  {
   "cell_type": "code",
   "execution_count": null,
   "metadata": {},
   "outputs": [],
   "source": [
    "x = 23\n",
    "x < 24, x >= 22"
   ]
  },
  {
   "cell_type": "markdown",
   "metadata": {
    "slideshow": {
     "slide_type": "-"
    }
   },
   "source": [
    "Össze is lehet őket láncolni"
   ]
  },
  {
   "cell_type": "code",
   "execution_count": null,
   "metadata": {},
   "outputs": [],
   "source": [
    "23 < x and x < 100"
   ]
  },
  {
   "cell_type": "code",
   "execution_count": null,
   "metadata": {},
   "outputs": [],
   "source": [
    "23 <= x < 100"
   ]
  },
  {
   "cell_type": "markdown",
   "metadata": {
    "slideshow": {
     "slide_type": "subslide"
    }
   },
   "source": [
    "### Egyéb operátorok\n",
    "\n",
    "#### Maradék"
   ]
  },
  {
   "cell_type": "code",
   "execution_count": null,
   "metadata": {},
   "outputs": [],
   "source": [
    "5 % 3"
   ]
  },
  {
   "cell_type": "markdown",
   "metadata": {
    "slideshow": {
     "slide_type": "-"
    }
   },
   "source": [
    "#### Hatványozás"
   ]
  },
  {
   "cell_type": "code",
   "execution_count": null,
   "metadata": {},
   "outputs": [],
   "source": [
    "2 ** 3"
   ]
  },
  {
   "cell_type": "code",
   "execution_count": null,
   "metadata": {},
   "outputs": [],
   "source": [
    "2 ** 0.5"
   ]
  },
  {
   "cell_type": "markdown",
   "metadata": {
    "slideshow": {
     "slide_type": "subslide"
    }
   },
   "source": [
    "#### Abszolút érték"
   ]
  },
  {
   "cell_type": "code",
   "execution_count": null,
   "metadata": {},
   "outputs": [],
   "source": [
    "abs(-2 - 1j), abs(1+1j)"
   ]
  },
  {
   "cell_type": "markdown",
   "metadata": {
    "slideshow": {
     "slide_type": "-"
    }
   },
   "source": [
    "#### Kerekítés"
   ]
  },
  {
   "cell_type": "code",
   "execution_count": null,
   "metadata": {},
   "outputs": [],
   "source": [
    "round(2.3456), round(2.3456, 2), round(3.5)"
   ]
  },
  {
   "cell_type": "markdown",
   "metadata": {
    "slideshow": {
     "slide_type": "subslide"
    }
   },
   "source": [
    "#### Explicit konverzió"
   ]
  },
  {
   "cell_type": "code",
   "execution_count": null,
   "metadata": {},
   "outputs": [],
   "source": [
    "type(float(2))"
   ]
  },
  {
   "cell_type": "code",
   "execution_count": null,
   "metadata": {},
   "outputs": [],
   "source": [
    "# 0 felé kerekít\n",
    "int(-2.7), int(2.7)"
   ]
  },
  {
   "cell_type": "markdown",
   "metadata": {
    "slideshow": {
     "slide_type": "subslide"
    }
   },
   "source": [
    "### A `math` és `cmath` modulok még sok mást tartalmaznak\n"
   ]
  },
  {
   "cell_type": "code",
   "execution_count": null,
   "metadata": {},
   "outputs": [],
   "source": [
    "import math\n",
    "\n",
    "math.log(16), math.log(16, 2), math.exp(2), math.exp(math.log(10))"
   ]
  },
  {
   "cell_type": "markdown",
   "metadata": {
    "slideshow": {
     "slide_type": "slide"
    }
   },
   "source": [
    "## Mutable vs. immutable típusok\n",
    "\n",
    "- mutable típusba tartozó objektumok helyben változtathatóak\n",
    "- immutable objektumok egész életükben egyetlen értékkel rendelkeznek\n",
    "- minden numerikus típus immutable "
   ]
  },
  {
   "cell_type": "code",
   "execution_count": null,
   "metadata": {},
   "outputs": [],
   "source": [
    "x=300\n",
    "y=300\n",
    "x is y"
   ]
  },
  {
   "cell_type": "code",
   "execution_count": null,
   "metadata": {
    "slideshow": {
     "slide_type": "fragment"
    }
   },
   "outputs": [],
   "source": [
    "x = 2\n",
    "old_id = id(x)\n",
    "x = x + 1\n",
    "print(id(x) == old_id)"
   ]
  },
  {
   "cell_type": "markdown",
   "metadata": {
    "slideshow": {
     "slide_type": "subslide"
    }
   },
   "source": [
    "### Mutable?  bool értékek\n",
    "\n",
    "Egyedi immutable objektumok, csak egy példány van belőlük."
   ]
  },
  {
   "cell_type": "code",
   "execution_count": null,
   "metadata": {},
   "outputs": [],
   "source": [
    "x = True\n",
    "y = False\n",
    "print(x is y)\n",
    "x = False\n",
    "print(x is y)"
   ]
  },
  {
   "cell_type": "markdown",
   "metadata": {
    "slideshow": {
     "slide_type": "slide"
    }
   },
   "source": [
    "## Sorozat típusok\n",
    "\n",
    "- minden lista/sorozat szerű típus támogatja a következő függvényeket\n",
    "\n",
    "| operation | behaviour |\n",
    "| :----- | :----- |\n",
    "| `x in s` | \tTrue ha s egyenlő x valamelyik elemével, különben False|\n",
    "| `x not in s` | \tFlase ha s egyenlő x valamelyik elemével, különben True |\n",
    "| `s + t` | \ts és t összefűzése |\n",
    "| `s * n or n * s` | \tekvivalens azzal, hogy összeadjuk s-nek n darab példányát |\n",
    "| `s[i]` | \ts-nek az i. eleme, 0-tól kezdve |\n",
    "| `s[i:j]` | \t s-nek az i-től j-ig tartó szelete |\n",
    "| `s[i:j:k]` | \t s-nek az i-től j-ig tartó szelete k lépésközzel |\n",
    "| `len(s)` | \ts hossza |\n",
    "| `min(s)` | \t s legkisebb eleme |\n",
    "| `max(s)` | \t s legnagyobb eleme |\n",
    "| `s.index(x[, i[, j]])` | \ts első előfordulásának indexe x-ben (az i. indextől a j.-ig tartó részen) |\n",
    "| `s.count(x)` | \ts x-beli megjelenéseinek száma |\n"
   ]
  },
  {
   "cell_type": "markdown",
   "metadata": {
    "slideshow": {
     "slide_type": "slide"
    }
   },
   "source": [
    "## list\n",
    "\n",
    "- mutable sorozat típus "
   ]
  },
  {
   "cell_type": "code",
   "execution_count": 1,
   "metadata": {},
   "outputs": [
    {
     "data": {
      "text/plain": [
       "([1, 2, 2, 3], 3001510370952)"
      ]
     },
     "execution_count": 1,
     "metadata": {},
     "output_type": "execute_result"
    }
   ],
   "source": [
    "l = [1, 2, 2, 3]\n",
    "l,id(l)\n"
   ]
  },
  {
   "cell_type": "code",
   "execution_count": 2,
   "metadata": {},
   "outputs": [
    {
     "data": {
      "text/plain": [
       "([1, 4, 2, 3], 3001510370952)"
      ]
     },
     "execution_count": 2,
     "metadata": {},
     "output_type": "execute_result"
    }
   ],
   "source": [
    "l[1]=4\n",
    "l,id(l) "
   ]
  },
  {
   "cell_type": "markdown",
   "metadata": {
    "slideshow": {
     "slide_type": "subslide"
    }
   },
   "source": [
    "### append, insert, del"
   ]
  },
  {
   "cell_type": "code",
   "execution_count": 3,
   "metadata": {},
   "outputs": [
    {
     "data": {
      "text/plain": [
       "[1, 2, 3, 3]"
      ]
     },
     "execution_count": 3,
     "metadata": {},
     "output_type": "execute_result"
    }
   ],
   "source": [
    "l = [1, 2, 3]\n",
    "l.append(3)\n",
    "l"
   ]
  },
  {
   "cell_type": "code",
   "execution_count": 4,
   "metadata": {},
   "outputs": [
    {
     "data": {
      "text/plain": [
       "[1, 5, 2, 3]"
      ]
     },
     "execution_count": 4,
     "metadata": {},
     "output_type": "execute_result"
    }
   ],
   "source": [
    "l = [1, 2, 3]\n",
    "l.insert(1, 5)\n",
    "l"
   ]
  },
  {
   "cell_type": "code",
   "execution_count": 5,
   "metadata": {},
   "outputs": [
    {
     "data": {
      "text/plain": [
       "[1, 2, 1]"
      ]
     },
     "execution_count": 5,
     "metadata": {},
     "output_type": "execute_result"
    }
   ],
   "source": [
    "l= [1, 2, 5, 1]\n",
    "del l[2]\n",
    "l"
   ]
  },
  {
   "cell_type": "markdown",
   "metadata": {
    "slideshow": {
     "slide_type": "subslide"
    }
   },
   "source": [
    "### Indexelés, range-k"
   ]
  },
  {
   "cell_type": "code",
   "execution_count": 5,
   "metadata": {},
   "outputs": [
    {
     "data": {
      "text/plain": [
       "[5, 7, 9]"
      ]
     },
     "execution_count": 5,
     "metadata": {},
     "output_type": "execute_result"
    }
   ],
   "source": [
    "l = []\n",
    "for i in range(20):         # Ennél lesz jobb módszerünk is!\n",
    "    l.append(2*i + 1) \n",
    "l[2:5]\n",
    "#l[:10]\n"
   ]
  },
  {
   "cell_type": "code",
   "execution_count": 6,
   "metadata": {},
   "outputs": [
    {
     "data": {
      "text/plain": [
       "[1, 3, 5, 7, 9, 11, 13, 15, 17, 19, 21, 23, 25, 27, 29, 31, 33, 35, 37, 39]"
      ]
     },
     "execution_count": 6,
     "metadata": {},
     "output_type": "execute_result"
    }
   ],
   "source": [
    "l"
   ]
  },
  {
   "cell_type": "code",
   "execution_count": 7,
   "metadata": {},
   "outputs": [],
   "source": [
    "#l[400]  # raises IndexError"
   ]
  },
  {
   "cell_type": "code",
   "execution_count": 8,
   "metadata": {},
   "outputs": [
    {
     "data": {
      "text/plain": [
       "(39, 39)"
      ]
     },
     "execution_count": 8,
     "metadata": {},
     "output_type": "execute_result"
    }
   ],
   "source": [
    "l[-1], l[len(l)-1]"
   ]
  },
  {
   "cell_type": "code",
   "execution_count": 9,
   "metadata": {},
   "outputs": [
    {
     "data": {
      "text/plain": [
       "[33, 35, 37, 39]"
      ]
     },
     "execution_count": 9,
     "metadata": {},
     "output_type": "execute_result"
    }
   ],
   "source": [
    "l[-4:]"
   ]
  },
  {
   "cell_type": "code",
   "execution_count": 10,
   "metadata": {},
   "outputs": [
    {
     "name": "stdout",
     "output_type": "stream",
     "text": [
      "[1, 3, 5]\n",
      "[3, 5, 7]\n",
      "[5, 7, 9]\n",
      "[7, 9, 11]\n",
      "[9, 11, 13]\n",
      "[11, 13, 15]\n",
      "[13, 15, 17]\n",
      "[15, 17, 19]\n",
      "[17, 19, 21]\n",
      "[19, 21, 23]\n"
     ]
    }
   ],
   "source": [
    "for i in range(10):\n",
    "    print(l[i:i+3])"
   ]
  },
  {
   "cell_type": "code",
   "execution_count": 11,
   "metadata": {},
   "outputs": [
    {
     "data": {
      "text/plain": [
       "[5, 11, 17]"
      ]
     },
     "execution_count": 11,
     "metadata": {},
     "output_type": "execute_result"
    }
   ],
   "source": [
    "l[2:11:3] "
   ]
  },
  {
   "cell_type": "markdown",
   "metadata": {
    "slideshow": {
     "slide_type": "subslide"
    }
   },
   "source": [
    "### Vajon mi az eredmény?"
   ]
  },
  {
   "cell_type": "code",
   "execution_count": 12,
   "metadata": {},
   "outputs": [
    {
     "data": {
      "text/plain": [
       "[39, 37, 35, 33, 31, 29, 27, 25, 23, 21, 19, 17, 15, 13, 11, 9, 7, 5, 3, 1]"
      ]
     },
     "execution_count": 12,
     "metadata": {},
     "output_type": "execute_result"
    }
   ],
   "source": [
    "l[::-1]"
   ]
  },
  {
   "cell_type": "markdown",
   "metadata": {
    "slideshow": {
     "slide_type": "subslide"
    }
   },
   "source": [
    "A lista mutable, elemei megváltoztathatóak:"
   ]
  },
  {
   "cell_type": "code",
   "execution_count": 13,
   "metadata": {},
   "outputs": [
    {
     "name": "stdout",
     "output_type": "stream",
     "text": [
      "True\n"
     ]
    },
    {
     "data": {
      "text/plain": [
       "[1, 2, 3]"
      ]
     },
     "execution_count": 13,
     "metadata": {},
     "output_type": "execute_result"
    }
   ],
   "source": [
    "l = [1,2]\n",
    "old_id = id(l)\n",
    "l.append(3)\n",
    "print(id(l) == old_id)\n",
    "l"
   ]
  },
  {
   "cell_type": "code",
   "execution_count": 14,
   "metadata": {},
   "outputs": [
    {
     "data": {
      "text/plain": [
       "(5, [1, 2, 3, 4, 5])"
      ]
     },
     "execution_count": 14,
     "metadata": {},
     "output_type": "execute_result"
    }
   ],
   "source": [
    "l = [1, 2]\n",
    "l.extend([3, 4, 5])\n",
    "len(l), l"
   ]
  },
  {
   "cell_type": "markdown",
   "metadata": {
    "slideshow": {
     "slide_type": "subslide"
    }
   },
   "source": [
    "### Az = operáció egy referenciát állít be\n",
    "\n",
    "- nem jön létre új objektum"
   ]
  },
  {
   "cell_type": "code",
   "execution_count": 15,
   "metadata": {},
   "outputs": [
    {
     "name": "stdout",
     "output_type": "stream",
     "text": [
      "True\n"
     ]
    },
    {
     "data": {
      "text/plain": [
       "[1, 2, 3]"
      ]
     },
     "execution_count": 15,
     "metadata": {},
     "output_type": "execute_result"
    }
   ],
   "source": [
    "l=[1,2]\n",
    "l2 = l\n",
    "#l2 = l.copy() # a copy() egy másolatot készít.\n",
    "print(l is l2)\n",
    "l.append(3)\n",
    "l2"
   ]
  },
  {
   "cell_type": "code",
   "execution_count": 16,
   "metadata": {},
   "outputs": [
    {
     "data": {
      "text/plain": [
       "False"
      ]
     },
     "execution_count": 16,
     "metadata": {},
     "output_type": "execute_result"
    }
   ],
   "source": [
    "a=\"alma\"\n",
    "b=a\n",
    "b=b+\"alma\"\n",
    "a is b"
   ]
  },
  {
   "cell_type": "markdown",
   "metadata": {
    "slideshow": {
     "slide_type": "subslide"
    }
   },
   "source": [
    "### az elemeknek nem kell azonos típusunak lennie "
   ]
  },
  {
   "cell_type": "code",
   "execution_count": 17,
   "metadata": {},
   "outputs": [
    {
     "data": {
      "text/plain": [
       "[1, -1, 'foo', 2, 'bar']"
      ]
     },
     "execution_count": 17,
     "metadata": {},
     "output_type": "execute_result"
    }
   ],
   "source": [
    "l = [1, -1, \"foo\", 2, \"bar\"]\n",
    "l"
   ]
  },
  {
   "cell_type": "markdown",
   "metadata": {
    "slideshow": {
     "slide_type": "-"
    }
   },
   "source": [
    "### listákon végigmehetünk for ciklussal"
   ]
  },
  {
   "cell_type": "code",
   "execution_count": 18,
   "metadata": {},
   "outputs": [
    {
     "name": "stdout",
     "output_type": "stream",
     "text": [
      "1\n",
      "-1\n",
      "foo\n",
      "2\n",
      "bar\n"
     ]
    }
   ],
   "source": [
    "for element in l:\n",
    "    print(element) "
   ]
  },
  {
   "cell_type": "markdown",
   "metadata": {
    "slideshow": {
     "slide_type": "subslide"
    }
   },
   "source": [
    "### enumerate\n",
    "\n",
    "ha szükségünk van az indexre is, a beépített `enumerate` függvény index-elem párokon fut végig"
   ]
  },
  {
   "cell_type": "code",
   "execution_count": 19,
   "metadata": {},
   "outputs": [
    {
     "name": "stdout",
     "output_type": "stream",
     "text": [
      "0 süsü\n",
      "1 sárkány\n",
      "2 4\n"
     ]
    }
   ],
   "source": [
    "l=[\"süsü\",\"sárkány\",4]\n",
    "for i, element in enumerate(l):\n",
    "    print(i, element)"
   ]
  },
  {
   "cell_type": "markdown",
   "metadata": {
    "slideshow": {
     "slide_type": "subslide"
    }
   },
   "source": [
    "### Lista rendezés\n",
    "\n",
    "- rendezni lehet a beépített `sorted` függvény segítségével\n",
    "- visszatér egy másik listával"
   ]
  },
  {
   "cell_type": "code",
   "execution_count": 20,
   "metadata": {},
   "outputs": [
    {
     "name": "stdout",
     "output_type": "stream",
     "text": [
      "-1\n",
      "2\n",
      "3\n",
      "11\n"
     ]
    }
   ],
   "source": [
    "l = [3, -1, 2, 11]\n",
    "\n",
    "for e in sorted(l):   \n",
    "    print(e)\n"
   ]
  },
  {
   "cell_type": "markdown",
   "metadata": {},
   "source": [
    "Helyben is lehet rendezni a .sort() metódussal."
   ]
  },
  {
   "cell_type": "code",
   "execution_count": 21,
   "metadata": {},
   "outputs": [
    {
     "data": {
      "text/plain": [
       "[-1, 2, 3, 11]"
      ]
     },
     "execution_count": 21,
     "metadata": {},
     "output_type": "execute_result"
    }
   ],
   "source": [
    "l=[3, -1, 2, 11]\n",
    "l.sort()\n",
    "l"
   ]
  },
  {
   "cell_type": "markdown",
   "metadata": {
    "slideshow": {
     "slide_type": "subslide"
    }
   },
   "source": [
    "A `key` argumentummal megadhatjuk, hogy mi szerint rendezzünk"
   ]
  },
  {
   "cell_type": "code",
   "execution_count": 22,
   "metadata": {},
   "outputs": [
    {
     "name": "stdout",
     "output_type": "stream",
     "text": [
      "['milk', 1]\n",
      "['pear', 2]\n",
      "['bread', 3]\n",
      "['apple', 5]\n"
     ]
    }
   ],
   "source": [
    "\n",
    "shopping_list = [\n",
    "    [\"apple\", 5],\n",
    "    [\"pear\", 2],\n",
    "    [\"milk\", 1],\n",
    "    [\"bread\", 3],\n",
    "]\n",
    "\n",
    "#for product in sorted(shopping_list):\n",
    "#    print(product)\n",
    "\n",
    "for product in sorted(shopping_list, key=lambda x: x[1]):\n",
    "    print(product)"
   ]
  },
  {
   "cell_type": "markdown",
   "metadata": {
    "slideshow": {
     "slide_type": "subslide"
    }
   },
   "source": [
    "### Lambda kifejezések\n",
    "\n",
    "- névtelen függvények\n",
    "- lehet paramétere\n",
    "- nem fér hozzá semmihez"
   ]
  },
  {
   "cell_type": "code",
   "execution_count": 23,
   "metadata": {},
   "outputs": [],
   "source": [
    "l = [-1, 0, -10, 2, 3]"
   ]
  },
  {
   "cell_type": "markdown",
   "metadata": {
    "slideshow": {
     "slide_type": "-"
    }
   },
   "source": [
    "Rendezzünk például abszolút érték szerint. A beépített `sorted` függvény nem elég:"
   ]
  },
  {
   "cell_type": "code",
   "execution_count": 24,
   "metadata": {},
   "outputs": [
    {
     "name": "stdout",
     "output_type": "stream",
     "text": [
      "-10\n",
      "-1\n",
      "0\n",
      "2\n",
      "3\n"
     ]
    }
   ],
   "source": [
    "for e in sorted(l):\n",
    "    print(e)"
   ]
  },
  {
   "cell_type": "markdown",
   "metadata": {
    "slideshow": {
     "slide_type": "-"
    }
   },
   "source": [
    "De megadhatjuk, hogy milyen `key` kulcsot használjon:"
   ]
  },
  {
   "cell_type": "code",
   "execution_count": 25,
   "metadata": {},
   "outputs": [
    {
     "name": "stdout",
     "output_type": "stream",
     "text": [
      "0\n",
      "-1\n",
      "2\n",
      "3\n",
      "-10\n"
     ]
    }
   ],
   "source": [
    "for e in sorted(l, key=lambda x: abs(x)):\n",
    "    print(e)"
   ]
  },
  {
   "cell_type": "markdown",
   "metadata": {
    "slideshow": {
     "slide_type": "subslide"
    }
   },
   "source": [
    "Bármilyen függvényt használhatunk"
   ]
  },
  {
   "cell_type": "code",
   "execution_count": 27,
   "metadata": {
    "slideshow": {
     "slide_type": "-"
    }
   },
   "outputs": [
    {
     "name": "stdout",
     "output_type": "stream",
     "text": [
      "0\n",
      "2\n",
      "-1\n",
      "3\n",
      "-10\n"
     ]
    }
   ],
   "source": [
    "def myabs(x):\n",
    "    if x<0:\n",
    "        return -x*5\n",
    "    return x*x\n",
    "\n",
    "for e in sorted(l, key=myabs):\n",
    "    print(e)"
   ]
  },
  {
   "cell_type": "markdown",
   "metadata": {
    "slideshow": {
     "slide_type": "subslide"
    }
   },
   "source": [
    "### A * operátor\n",
    " A `*` operátor segítségével \"kibonthatunk\" egy listát. A `*l` kifejezés felsorolja az `l` lista elemeit de már nem egy lista objektum. Ez tipikusan akkor hasznos, ha egy függvény sok paramétert vár.   "
   ]
  },
  {
   "cell_type": "code",
   "execution_count": 28,
   "metadata": {},
   "outputs": [
    {
     "name": "stdout",
     "output_type": "stream",
     "text": [
      "a asd asd\n"
     ]
    }
   ],
   "source": [
    "print('a','asd','asd')"
   ]
  },
  {
   "cell_type": "code",
   "execution_count": 29,
   "metadata": {},
   "outputs": [
    {
     "name": "stdout",
     "output_type": "stream",
     "text": [
      "['alma', 'körte', 'piskóta']\n",
      "alma körte piskóta\n"
     ]
    }
   ],
   "source": [
    "l=[\"alma\",\"körte\",\"piskóta\"]\n",
    "print(l)\n",
    "print(*l)"
   ]
  },
  {
   "cell_type": "code",
   "execution_count": 30,
   "metadata": {},
   "outputs": [
    {
     "data": {
      "text/plain": [
       "60"
      ]
     },
     "execution_count": 30,
     "metadata": {},
     "output_type": "execute_result"
    }
   ],
   "source": [
    "def osszeg(x,y,z):\n",
    "    return x+y+z\n",
    "osszeg(*[10,20,30])"
   ]
  },
  {
   "cell_type": "markdown",
   "metadata": {
    "slideshow": {
     "slide_type": "slide"
    }
   },
   "source": [
    "## tuple\n",
    "\n",
    "- a tuple egy immutable sorozat"
   ]
  },
  {
   "cell_type": "code",
   "execution_count": 32,
   "metadata": {},
   "outputs": [
    {
     "name": "stdout",
     "output_type": "stream",
     "text": [
      "<class 'tuple'> 0\n"
     ]
    },
    {
     "data": {
      "text/plain": [
       "(tuple, 2)"
      ]
     },
     "execution_count": 32,
     "metadata": {},
     "output_type": "execute_result"
    }
   ],
   "source": [
    "t = ()  # empty tuple\n",
    "print(type(t), len(t))\n",
    "\n",
    "t = ([1, 2, 3], \"foo\")\n",
    "type(t), len(t)"
   ]
  },
  {
   "cell_type": "code",
   "execution_count": 33,
   "metadata": {},
   "outputs": [
    {
     "data": {
      "text/plain": [
       "[1, 2, 3]"
      ]
     },
     "execution_count": 33,
     "metadata": {},
     "output_type": "execute_result"
    }
   ],
   "source": [
    "t[0]"
   ]
  },
  {
   "cell_type": "markdown",
   "metadata": {
    "slideshow": {
     "slide_type": "-"
    }
   },
   "source": [
    "indexelés azonos a listákkal"
   ]
  },
  {
   "cell_type": "code",
   "execution_count": 34,
   "metadata": {},
   "outputs": [
    {
     "data": {
      "text/plain": [
       "('foo', 'foo')"
      ]
     },
     "execution_count": 34,
     "metadata": {},
     "output_type": "execute_result"
    }
   ],
   "source": [
    "t[1], t[-1]"
   ]
  },
  {
   "cell_type": "markdown",
   "metadata": {
    "slideshow": {
     "slide_type": "subslide"
    }
   },
   "source": [
    "a tuple immutable referenciákat tartalmaz, de, a benne lévő objektum lehet mutable"
   ]
  },
  {
   "cell_type": "code",
   "execution_count": 35,
   "metadata": {},
   "outputs": [],
   "source": [
    "t = ([1, 2, 3], \"foo\")\n",
    "#t[0]= \"bar\"  # this raises a TypeError"
   ]
  },
  {
   "cell_type": "code",
   "execution_count": 36,
   "metadata": {
    "slideshow": {
     "slide_type": "-"
    }
   },
   "outputs": [
    {
     "name": "stdout",
     "output_type": "stream",
     "text": [
      "1802713770056\n",
      "1802680869040\n",
      "\n",
      "Megváltoztatjuk t[0] egy elemét\n",
      "\n",
      "1802713770056\n",
      "1802680869040\n",
      "\n",
      " ([1, 11, 3], 'foo')\n"
     ]
    }
   ],
   "source": [
    "for e in t:\n",
    "    print(id(e))\n",
    "    \n",
    "print(\"\\nMegváltoztatjuk t[0] egy elemét\\n\")\n",
    "t[0][1] = 11\n",
    "\n",
    "for e in t:\n",
    "    print(id(e))\n",
    "\n",
    "print(\"\\n\", t)"
   ]
  },
  {
   "cell_type": "markdown",
   "metadata": {
    "slideshow": {
     "slide_type": "subslide"
    }
   },
   "source": [
    "#### Mire jó a tuple, ha kevesebbet tud mint a lista?\n",
    " - gyorsabb\n",
    " - segít a biztonságos kód írásban. \n",
    " - néha szükség van arra, hogy egy objektum immutable legyen. Pl a most következő dictionaryk kulcsai csak imutable objektumok lehetnek "
   ]
  },
  {
   "cell_type": "markdown",
   "metadata": {},
   "source": [
    "#### Mit kapunk?"
   ]
  },
  {
   "cell_type": "code",
   "execution_count": 37,
   "metadata": {},
   "outputs": [
    {
     "data": {
      "text/plain": [
       "(3,)"
      ]
     },
     "execution_count": 37,
     "metadata": {},
     "output_type": "execute_result"
    }
   ],
   "source": [
    "(1+2,) "
   ]
  },
  {
   "cell_type": "code",
   "execution_count": 38,
   "metadata": {},
   "outputs": [
    {
     "name": "stdout",
     "output_type": "stream",
     "text": [
      "[3, 3]\n",
      "[3]\n",
      "[1+2,1+2]\n",
      "[1+2]\n",
      "(3, 3)\n",
      "3\n"
     ]
    }
   ],
   "source": [
    "print([1+2,1+2])\n",
    "print([1+2])\n",
    "print(\"[1+2,1+2]\")\n",
    "print(\"[1+2]\")\n",
    "print((1+2,1+2))\n",
    "print((1+2))"
   ]
  }
 ],
 "metadata": {
  "celltoolbar": "Slideshow",
  "kernelspec": {
   "display_name": "Python 3",
   "language": "python",
   "name": "python3"
  },
  "language_info": {
   "codemirror_mode": {
    "name": "ipython",
    "version": 3
   },
   "file_extension": ".py",
   "mimetype": "text/x-python",
   "name": "python",
   "nbconvert_exporter": "python",
   "pygments_lexer": "ipython3",
   "version": "3.7.4"
  }
 },
 "nbformat": 4,
 "nbformat_minor": 5
}
