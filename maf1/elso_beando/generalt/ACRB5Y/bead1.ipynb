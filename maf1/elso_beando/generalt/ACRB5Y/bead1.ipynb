{
 "cells": [
  {
   "cell_type": "markdown",
   "metadata": {},
   "source": [
    "# MAF Első beadandó\n",
    "\n",
    "Hat feladat van, ahányat sikerül megoldani, annyi lesz a beadandó értéke. Megoldásként ezt és az általad generált fájlokat küld el emailben. \n",
    "\n",
    "### Beküldés előtt a következőket ellenőrizd!\n",
    "- Kérlek egy tömörített mappát küldj megoldásként, melynek a neve a neptunkódod. \n",
    "- Nem elég csak a válaszokat feltüntetni, hagyd benne a fájlban a függvényeket és kódokat, amit a megoldás során használtál.  \n",
    "\n",
    "- A programoknak úgy kell működniük, hogy a Restart & Run All parancsra hiba nélkül végigfusson a notebook. Ez nem azt jelenti, hogy a megoldás során nem adhatsz meg kézzel dolgokat, hanem azt, hogy le nem futó kódot nem fogadunk el. Tehát engedélyezett, hogy kiíratsz néhány esetet, majd te magad választod ki közülük a helyeset és nem a program.\n",
    "- Minden feladatot láss el magyarázó kommentekkel, **példákkal**. Legyen érthető, hogy mikor mit csinál a kód. \n",
    "\n",
    "### Néhány jó tanács\n",
    "- A feladatokat bontsd részfeladatokra, a részfeladatokhoz készíts külön külön függvényeket. \n",
    "- Használd fel a korábbi feladatok függvényeit!\n",
    "- Érthető változó neveket használj, írj átlátható kódot.\n",
    "- Ha szükséged van még valamilyen modulra, akkor nyugodtan importáld. "
   ]
  },
  {
   "cell_type": "markdown",
   "metadata": {},
   "source": [
    "# QR kód\n",
    "A beadandó során egy QR kód szerű kódot fogunk generálni. Ez egyáltalán nem felel meg a valódi QR kódnak, mert abban túl  sok érdektelen és vagy komplikált technikai részlet van, az érdekes matek rész pedig túl bonyolult. De kicsit hasonló lesz hozzá. A következő egyszerűsített verzióval fogunk dolgozni:\n",
    "\n",
    "- Egy QR kód egy $n\\times n$-es tömb, melynek minden mezője 0 vagy 1, megjelenítésnél az 1-es mezőket beszínezzük feketére. \n",
    "- Mindig egy *üzenetet* akarunk elkódolni a QR kódunkban, melyben csak a lenti `hun_alph` karakterei fordulnak elő. \n",
    "- A bal felső, jobb felső és bal alsó sarokban egy-egy fix $8\\times 8$-as mintázat van, lásd a lenti példán (van egy fehér keret a megfelelő oldalakon, úgy jön ki a $8\\times 8$). \n",
    "- A maradék mezőkben sorfolytonosan írjuk az üzenetet úgy, hogy minden karaktert a lent megadott `mdict` szótár segítségével egy 9 hosszú 0/1 sorozattá konvertálunk és azokat sorban, szünetek nélkül beírjuk. \n",
    "- Az üzenet végét a speciális `111111111` sorozattal jelezzük. \n",
    "\n",
    "Példa: Az 'ez egy példa üzenet' üzenet QR kódja így néz ki:\n",
    "\n",
    "\n",
    "![pelda2](pelda2.jpg)\n"
   ]
  },
  {
   "cell_type": "code",
   "execution_count": 54,
   "metadata": {},
   "outputs": [],
   "source": [
    "#az abc\n",
    "hun_alph=['a', 'á', 'b', 'c', 'd', 'e', 'é', 'f', 'g', 'h', 'i', 'í', 'j', 'k', 'l', 'm', 'n', 'o', 'ó', 'ö', 'ő', 'p', 'q', 'r', 's', 't', 'u', 'ú', 'ü', 'ű', 'v', 'w', 'x', 'y', 'z', ' ', '!', ',', '-', '.', ':', '?', ';','0','1','2','3','4','5','6','7','8','9']\n",
    "\n",
    "#a betűk kódolása\n",
    "\n",
    "mdict={st :' '.join(format(ord(x), 'b').zfill(9) for x in st) for st in hun_alph}"
   ]
  },
  {
   "cell_type": "markdown",
   "metadata": {},
   "source": [
    " ## 1. feladat\n",
    "\n",
    " * Telepítsd a Pillow modult. \n",
    " * A beadandóhoz mellékelt `printer.py` modulból importáld be a `qr_print()` függvényt (nem szabad idemásolni, importálni kell!). Ez úgy működik, hogy megadunk egy tömböt (listák listája), ami 0/1 értékeket tartalmaz, majd kirajzolja a megfelelő képet fekete fehér négyzetekből. Például: \n",
    "\n",
    "`qr_print([[1,1,1,0],[1,0,1,0],[1,1,1,1],[0,0,1,0]])`\n",
    "\n",
    "![pelda](pelda.jpg)\n",
    "\n",
    " * Ezután valósítsd meg a következő függvényeket:"
   ]
  },
  {
   "cell_type": "code",
   "execution_count": 45,
   "metadata": {},
   "outputs": [],
   "source": [
    "def qr_base(message):\n",
    "    pass\n",
    "    # todo \n",
    "    # A megadott üzenet alapján elkészít egy QR kódot numpy tömbként és visszatért vele\n",
    "\n",
    "def qr_draw_it(message):\n",
    "    pass\n",
    "    # A megadott üzenet alapján elkészít egy QR kódot és kirajzolja azt"
   ]
  },
  {
   "cell_type": "code",
   "execution_count": 55,
   "metadata": {},
   "outputs": [
    {
     "name": "stdout",
     "output_type": "stream",
     "text": [
      "None\n"
     ]
    }
   ],
   "source": [
    "print(qr_base('na ezt most elkódolom'))\n",
    "qr_draw_it('ebből meg kép lesz')"
   ]
  },
  {
   "cell_type": "markdown",
   "metadata": {},
   "source": [
    "# 2. feladat\n",
    "A `titkos.json` fájlban egy QR kód található, mely JSON formátumban van. Olvasd be és fejtsd meg!\n"
   ]
  },
  {
   "cell_type": "markdown",
   "metadata": {},
   "source": [
    "Készítsd el a visszafejtő függvényt, azaz egy olyan függvényt mely a QR kód alapján megadja az eredeti üzenetet."
   ]
  },
  {
   "cell_type": "code",
   "execution_count": 46,
   "metadata": {},
   "outputs": [],
   "source": [
    "def qr_decode(array):\n",
    "    pass\n",
    "    #todo\n",
    "    # megadott QR kód alapján üzenet visszafejtés"
   ]
  },
  {
   "cell_type": "code",
   "execution_count": 39,
   "metadata": {},
   "outputs": [],
   "source": [
    "#todo: beolvasás és visszafejtés"
   ]
  },
  {
   "cell_type": "code",
   "execution_count": 40,
   "metadata": {},
   "outputs": [
    {
     "name": "stdout",
     "output_type": "stream",
     "text": [
      "None\n"
     ]
    }
   ],
   "source": [
    "#példa\n",
    "print(qr_decode(qr_base('ennek kellene kiíródnia')))"
   ]
  },
  {
   "cell_type": "markdown",
   "metadata": {},
   "source": [
    "# 3. feladat\n",
    "A QR kódunkat szeretnénk kiegészíteni hibajavító képességekkel, ezért az üzenet lezárása után néhány hibajavító bitet is fogunk írni a következő módon. Ha az üzenet elkódolva $x_1x_2\\dots x_n$ bitekből áll (a lezáró bitek nélkül),  akkor a lezáró bitek után $n-3$ hibajavító bitet írunk, melyek közül az $i$. értéke $x_i+x_{i+1}+x_{i+2}+x_{i+3} \\mod 2$.  \n",
    "\n",
    "Valósítsd meg a hibajavító kóddal kiegészített QR kód készítést. Ezután válassz egy legfeljebb 1000 karakterből álló szöveget és kódold el hibajvítással. Az eredményt mentsd el a `3feladat_x.json` fájlba, ahol `x` a neptunkódod legyen.  "
   ]
  },
  {
   "cell_type": "code",
   "execution_count": 56,
   "metadata": {},
   "outputs": [],
   "source": [
    "valasztott_szoveg='Másold ide a választott szövegedet!'"
   ]
  },
  {
   "cell_type": "code",
   "execution_count": 49,
   "metadata": {},
   "outputs": [],
   "source": [
    "def qr_error_correction(message):\n",
    "    pass\n",
    "    # todo \n",
    "    # A megadott üzenet alapján elkészít egy qr kódot hibajavítással"
   ]
  },
  {
   "cell_type": "code",
   "execution_count": 50,
   "metadata": {},
   "outputs": [],
   "source": [
    "# todo fájlba írás"
   ]
  },
  {
   "cell_type": "markdown",
   "metadata": {},
   "source": [
    "# 4. feladat\n",
    "\n",
    "A `megtitkosabb.json` fájlban egy QR kódot találsz, melyben néhány bit sajnos megváltoztott, és azt sem tudjuk, melyikek voltak azok, csak annyit, hogy szerencsére nem a hibajavító bitek! Fejtsd meg az eredeti üzenetet. Matematikailag nem biztos, hogy csak egyetlen megoldás van, úgyhogy amikor nem egyértelmű, akkor válasszátok ki (akár manuálisan) a helyeset!\n"
   ]
  },
  {
   "cell_type": "code",
   "execution_count": 57,
   "metadata": {},
   "outputs": [],
   "source": [
    "# todo üzenet megfejtése"
   ]
  },
  {
   "cell_type": "markdown",
   "metadata": {},
   "source": [
    "# 5. feladat\n",
    "Ebben a feladatban azt fogjuk szimulálni, hogy elvesznek adatok a QR kódunkból. Készíts egy függvényt, ami a kötvekezőt csinálnja. Megkap egy szöveget és egy $0<p<1$ paramétert. A szöveget elkódolja hibajavítással. Ezután a QR kód minden mezőjét egymástól függetlenül $p$ valószínűséggel megváltoztatja. Itt most tényleg minden mező romolhat, akár a hibajavító rész is. \n",
    "\n",
    "A függvény segítségével kódolj el négy különböző szöveget rendre $p=0.1,0.2,0.3,0.4$ hibával. A szövegeket és az eredményeket mentsd el egy-egy txt és json fájlba melyeknek a nevei `neptunkódod_szoveg01.txt`, `neptunkódod_szoveg02.txt`, `neptunkódod_szoveg03.txt`, `neptunkódod_szoveg04.txt`, `neptunkódod_qr01.json`, `neptunkódod_qr02.json`, `neptunkódod_qr03.json`, `neptunkódod_qr04.json` és küld el nekem őket. A következő feladat miatt a qr kódok rögtön nyilvánosak lesznek a honlapomon, ennek megfelelően válasszatok szöveget! \n"
   ]
  },
  {
   "cell_type": "code",
   "execution_count": 58,
   "metadata": {},
   "outputs": [],
   "source": [
    "def random_errors(message,p):\n",
    "    pass\n",
    "    #todo\n",
    "    # A megadott üzenet alapján elkészít egy qr kódot hibajavítással majd p valszínűséggel minden mezőt megváltoztat"
   ]
  },
  {
   "cell_type": "code",
   "execution_count": 59,
   "metadata": {},
   "outputs": [],
   "source": [
    "#todo nyolc fájl elkészítése és elküldése"
   ]
  },
  {
   "cell_type": "markdown",
   "metadata": {},
   "source": [
    "# 6. Feladat (bónusz, nem feltétlenül kell az ötöshöz)\n",
    "A feladatod a többi diák 5. feladatban elkészített QR kódjának a megfejtése. Megtalálod az eddig beküldötteket a https://damasdigabor.web.elte.hu/qrkod oldalon. Matematikailag nem biztos, hogy csak egyetlen megoldás van, úgyhogy amikor nem egyértelmű, akkor válasszátok ki (akár manuálisan) a helyeset! A feladat teljesítéséhez elegendő öt szöveget megfejteni. Próbálj meg minél nagyobb $p$ érték mellett is megoldást találni! A fájlnév vége jelzi, hogy $p$ értéke mekkora. \n"
   ]
  },
  {
   "cell_type": "code",
   "execution_count": 31,
   "metadata": {},
   "outputs": [],
   "source": [
    "# todo: a hibás qr kódok megfejtése "
   ]
  }
 ],
 "metadata": {
  "kernelspec": {
   "display_name": "Python 3",
   "language": "python",
   "name": "python3"
  },
  "language_info": {
   "codemirror_mode": {
    "name": "ipython",
    "version": 3
   },
   "file_extension": ".py",
   "mimetype": "text/x-python",
   "name": "python",
   "nbconvert_exporter": "python",
   "pygments_lexer": "ipython3",
   "version": "3.7.4"
  }
 },
 "nbformat": 4,
 "nbformat_minor": 4
}
