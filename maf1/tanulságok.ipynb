{
 "cells": [
  {
   "cell_type": "markdown",
   "metadata": {
    "slideshow": {
     "slide_type": "slide"
    }
   },
   "source": [
    "Inverz könyvtár készítés"
   ]
  },
  {
   "cell_type": "code",
   "execution_count": null,
   "metadata": {
    "slideshow": {
     "slide_type": "subslide"
    }
   },
   "outputs": [],
   "source": [
    "#borzasztó!\n",
    "mdict={1:2,4:5}\n",
    "inversdict={}\n",
    "\n",
    "ccodes=[2,2,5]\n",
    "for c in ccodes:\n",
    "    for char in mdict:\n",
    "        if mdict[char] == c:\n",
    "            inversdict[c]=char\n",
    "            \n",
    "            break\n",
    "inversdict"
   ]
  },
  {
   "cell_type": "code",
   "execution_count": null,
   "metadata": {
    "slideshow": {
     "slide_type": "subslide"
    }
   },
   "outputs": [],
   "source": [
    "#mégborzasztóbb\n",
    "\n",
    "kulcsok = list(mdict.keys())    # Arra szolgál, hogy könnyen párosítsuk őket\n",
    "ertekek = list(mdict.values())\n"
   ]
  },
  {
   "cell_type": "code",
   "execution_count": null,
   "metadata": {
    "slideshow": {
     "slide_type": "subslide"
    }
   },
   "outputs": [],
   "source": [
    "# hasonólan rossz\n",
    "message_letters.append(list(mdict.keys())[list(mdict.values()).index(current)])"
   ]
  },
  {
   "cell_type": "code",
   "execution_count": null,
   "metadata": {
    "slideshow": {
     "slide_type": "subslide"
    }
   },
   "outputs": [],
   "source": [
    "# ....\n",
    "f = [e for e in hun_alph]\n",
    "x = [mdict.get(i) for i in f]\n",
    "y = [i for i in f]\n",
    "redict = {}\n",
    "redict = {x[i]: y[i] for i in range(len(x))}\n",
    "    "
   ]
  },
  {
   "cell_type": "code",
   "execution_count": null,
   "metadata": {
    "slideshow": {
     "slide_type": "subslide"
    }
   },
   "outputs": [],
   "source": [
    "# azt hittem nem lehet rosszabb de mégis\n",
    "\n",
    "mdict = {\n",
    "    '000000110': 'a',\n",
    "    '000001100': 'á',\n",
    "    '000001010': 'b',\n",
    "    '000010100': 'c',\n",
    "    '000011010': 'd',\n",
    "    '000010010': 'e',\n",
    "    '000011100': 'é',\n",
    "    '000010110': 'f',\n",
    "    '000100010': 'g',\n",
    "    '000101100': 'h',\n",
    "    '000101010': 'i',\n",
    "    '000110100': 'í', \n",
    "    '000111010': 'j',\n",
    "    '000110010': 'k',\n",
    "    '000111100': 'l',\n",
    "    '000110110': 'm',\n",
    "    '001000010': 'n',\n",
    "    '001001100': 'o',\n",
    "    '001001010': 'ó',\n",
    "    '001010100': 'ö',\n",
    "    '001011010': 'ő',\n",
    "    '001010010': 'p',\n",
    "    '001011100': 'q',\n",
    "    '001010110': 'r',\n",
    "    '001100010': 's',\n",
    "    '001101100': 't',\n",
    "    '001101010': 'u',\n",
    "    '001110100': 'ú',\n",
    "    '001111010': 'ü',\n",
    "    '001110010': 'ű',\n",
    "    '001111100': 'v',\n",
    "    '001110110': 'w',\n",
    "    '010000010': 'x',\n",
    "    '010001100': 'y',\n",
    "    '010001010': 'z',\n",
    "    '010010100': '0',\n",
    "    '010011010': '1',\n",
    "    '010010010': '2',\n",
    "    '010011100': '3',\n",
    "    '010010110': '4',\n",
    "    '010100010': '5',\n",
    "    '010101100': '6',\n",
    "    '010101010': '7',\n",
    "    '010110100': '8',\n",
    "    '010111010': '9',\n",
    "    '010110010': ' ',\n",
    "}"
   ]
  },
  {
   "cell_type": "code",
   "execution_count": null,
   "metadata": {
    "slideshow": {
     "slide_type": "subslide"
    }
   },
   "outputs": [],
   "source": [
    "# egy fokkal jobb\n",
    "reversedict = {}\n",
    "for a in hun_alph:\n",
    "    reversedict[mdict[a]] = a"
   ]
  },
  {
   "cell_type": "code",
   "execution_count": null,
   "metadata": {
    "slideshow": {
     "slide_type": "subslide"
    }
   },
   "outputs": [],
   "source": [
    "#furi\n",
    "\n",
    "for it in mdict:\n",
    "    inversdict.update({mdict[it]: it})\n",
    "    \n",
    "inversdict"
   ]
  },
  {
   "cell_type": "code",
   "execution_count": null,
   "metadata": {
    "slideshow": {
     "slide_type": "subslide"
    }
   },
   "outputs": [],
   "source": [
    "# jobb\n",
    "mdict={1:2,4:5}\n",
    "inversdict={}\n",
    "\n",
    "inversdict={v:k for k,v in mdict.items()}\n",
    "    \n",
    "inversdict"
   ]
  },
  {
   "cell_type": "markdown",
   "metadata": {
    "slideshow": {
     "slide_type": "slide"
    }
   },
   "source": [
    "Gyökvonás"
   ]
  },
  {
   "cell_type": "code",
   "execution_count": null,
   "metadata": {},
   "outputs": [],
   "source": [
    "bit_size=12\n",
    "i = 0\n",
    "size = 0\n",
    "while i*i < bit_size:\n",
    "    i += 1\n",
    "size = i\n",
    "print(size)"
   ]
  },
  {
   "cell_type": "code",
   "execution_count": null,
   "metadata": {
    "slideshow": {
     "slide_type": "subslide"
    }
   },
   "outputs": [],
   "source": [
    "import math\n",
    "math.ceil(math.sqrt(12))"
   ]
  },
  {
   "cell_type": "markdown",
   "metadata": {
    "slideshow": {
     "slide_type": "slide"
    }
   },
   "source": [
    "Ha egy hosszabb kódot több helyen is használunk, szedjük ki külön függvénybe"
   ]
  },
  {
   "cell_type": "code",
   "execution_count": null,
   "metadata": {},
   "outputs": [],
   "source": [
    "\n",
    "#rossz:\n",
    "\n",
    "def f():\n",
    "    #csinálok ABCD dolgokat\n",
    "    #csinálok EFGH dolgokat\n",
    "    pass\n",
    "\n",
    "def g():\n",
    "    #csinálok ABCD dolgokat\n",
    "    #csinálok IJKL dolgokat\n",
    "    pass"
   ]
  },
  {
   "cell_type": "code",
   "execution_count": null,
   "metadata": {
    "slideshow": {
     "slide_type": "slide"
    }
   },
   "outputs": [],
   "source": [
    "#jó:\n",
    "def h():\n",
    "    #csinálok ABCD dolgokat\n",
    "    pass\n",
    "\n",
    "def f():\n",
    "    h()\n",
    "    #csinálok EFGH dolgokat\n",
    "    pass\n",
    "    \n",
    "def g():\n",
    "    h()\n",
    "    #csinálok IJKL dologkat\n",
    "    pass"
   ]
  },
  {
   "cell_type": "code",
   "execution_count": null,
   "metadata": {
    "slideshow": {
     "slide_type": "subslide"
    }
   },
   "outputs": [],
   "source": [
    "# vagy másik jó\n",
    "def qr_base(message, hibajav = False):\n",
    "    ...\n",
    "    ...\n",
    "    if hibajav:\n",
    "        ...\n",
    "def qr_error_correction(message):\n",
    "    # A megadott üzenet alapján elkészít egy qr kódot hibajavítással\n",
    "    return qr_base(message, hibajav = True) "
   ]
  },
  {
   "cell_type": "markdown",
   "metadata": {
    "slideshow": {
     "slide_type": "slide"
    }
   },
   "source": [
    "Kerüljük az ágyazott ciklusokat"
   ]
  },
  {
   "cell_type": "code",
   "execution_count": null,
   "metadata": {},
   "outputs": [],
   "source": [
    "bitlista=[0,1,2]\n",
    "for s1 in bitlista:\n",
    "        for s2 in bitlista:\n",
    "            for s3 in bitlista:\n",
    "                print(s1,s2,s3)"
   ]
  },
  {
   "cell_type": "code",
   "execution_count": null,
   "metadata": {},
   "outputs": [],
   "source": [
    "# jobb\n",
    "import itertools\n",
    "for s1,s2,s3 in itertools.product(bitlista,bitlista,bitlista):\n",
    "    print(s1,s2,s3)"
   ]
  },
  {
   "cell_type": "markdown",
   "metadata": {
    "slideshow": {
     "slide_type": "slide"
    }
   },
   "source": [
    "Mátrix másolása egy másik mátrix részmátrixává\n",
    "Használjuk a beépített megoldásokat!"
   ]
  },
  {
   "cell_type": "code",
   "execution_count": null,
   "metadata": {},
   "outputs": [],
   "source": [
    "\n",
    "def mtxintegrator(A, B, k, l):\n",
    "    res = A.copy()\n",
    "    if (k + B.shape[0] > A.shape[0] or l + B.shape[1] > A.shape[1]):\n",
    "        raise IndexError(\"The second matrix does not fit in the first.\")\n",
    "    else:\n",
    "        for i in range(B.shape[0]):\n",
    "            for j in range(B.shape[1]):\n",
    "                res[k+i,j+l] = B[i,j]\n",
    "    return res"
   ]
  },
  {
   "cell_type": "code",
   "execution_count": null,
   "metadata": {},
   "outputs": [],
   "source": [
    "# jobb\n",
    ">>> import numpy as np\n",
    ">>> a = np.arange(9)\n",
    ">>> a = a.reshape((3, 3))\n",
    ">>> b = np.zeros((5, 5))\n",
    ">>> print(b)\n",
    ">>> b[1:4, 1:4] = a\n",
    ">>> print(b)\n",
    "\n",
    "\n"
   ]
  },
  {
   "cell_type": "markdown",
   "metadata": {
    "slideshow": {
     "slide_type": "slide"
    }
   },
   "source": [
    "Ennek lehet értelme, de sokszor fölös bonyolítani"
   ]
  },
  {
   "cell_type": "code",
   "execution_count": null,
   "metadata": {},
   "outputs": [],
   "source": [
    "def opposite(bit):\n",
    "    if bit == 0:\n",
    "        return 1\n",
    "    else:\n",
    "        return 0\n",
    "    "
   ]
  },
  {
   "cell_type": "code",
   "execution_count": null,
   "metadata": {},
   "outputs": [],
   "source": [
    "# másik megoldás ugyanerre\n",
    "bit=0\n",
    "1-bit"
   ]
  },
  {
   "cell_type": "markdown",
   "metadata": {
    "slideshow": {
     "slide_type": "slide"
    }
   },
   "source": [
    " darabolás"
   ]
  },
  {
   "cell_type": "code",
   "execution_count": null,
   "metadata": {},
   "outputs": [],
   "source": [
    "def darabolas(lista, k):\n",
    "    # Feldarabolom k-s darabokra az adott listát\n",
    "    darabolt = []\n",
    "    i = 0\n",
    "    while i < (len(lista) - 1):\n",
    "      darabolt.append(lista[i:i+k])\n",
    "      i = i + k\n",
    "    return darabolt\n"
   ]
  },
  {
   "cell_type": "code",
   "execution_count": null,
   "metadata": {},
   "outputs": [],
   "source": [
    "#jobb \n",
    "lista=[1,2,3,4,5,6,7,8,9,10,11,12]\n",
    "k=3\n",
    "\n",
    "[lista[i*k:i*k+k] for i in range(len(lista)//k)]"
   ]
  },
  {
   "cell_type": "markdown",
   "metadata": {
    "slideshow": {
     "slide_type": "slide"
    }
   },
   "source": [
    "használjunk list comprehensionokat!"
   ]
  },
  {
   "cell_type": "code",
   "execution_count": null,
   "metadata": {},
   "outputs": [],
   "source": [
    "kodolt_betu=['0','1']\n",
    "betu_lista=[]\n",
    "for bit in kodolt_betu:\n",
    "        betu_lista.append(int(bit))\n",
    "betu_lista\n"
   ]
  },
  {
   "cell_type": "code",
   "execution_count": null,
   "metadata": {},
   "outputs": [],
   "source": [
    "#jobb\n",
    "[int(c) for c in kodolt_betu]\n"
   ]
  },
  {
   "cell_type": "markdown",
   "metadata": {
    "slideshow": {
     "slide_type": "slide"
    }
   },
   "source": [
    "Használjuk a `with`-et és json csomagot!"
   ]
  },
  {
   "cell_type": "code",
   "execution_count": null,
   "metadata": {},
   "outputs": [],
   "source": [
    "# elmegy\n",
    "f = open('3feladat.json', 'w')\n",
    "f.write(json.dumps(qr_error_correction(valasztott_szoveg).tolist()))\n",
    "f.close()"
   ]
  },
  {
   "cell_type": "code",
   "execution_count": null,
   "metadata": {},
   "outputs": [],
   "source": [
    "# fölös munka\n",
    "with open(\"3feladat.json\",mode=\"w\") as fk:#fájlba írása a valasztott_szoveg-nek, sorba beleírom a fájlba vesszőkkel és szögletes zárójelekkel. sokkal gyorsabb lett volna ha nem számolom ki mindig a qr_error_correction(valasztott_szoveg)-et \n",
    "    print(\"[\",end='', file=fk)\n",
    "    for omega in range(len(qr_error_correction(valasztott_szoveg)[0])):\n",
    "        print(\"[\", end='', file=fk)\n",
    "        for theta in range (len(qr_error_correction(valasztott_szoveg)[0])):\n",
    "            if theta==len(qr_error_correction(valasztott_szoveg)[0])-1:\n",
    "                print(str(int(qr_error_correction(valasztott_szoveg)[omega][theta])), end='', file=fk)\n",
    "            else:\n",
    "                print(str(int(qr_error_correction(valasztott_szoveg)[omega][theta]))+\", \", end='', file=fk)\n",
    "        if omega==len(qr_error_correction(valasztott_szoveg)[0])-1:\n",
    "            print(\"]\", end='', file=fk)\n",
    "        else:\n",
    "            print(\"], \", end='', file=fk)\n",
    "    print(\"]\", end='', file=fk)"
   ]
  },
  {
   "cell_type": "code",
   "execution_count": null,
   "metadata": {},
   "outputs": [],
   "source": [
    "#jobb \n",
    "text = json.dumps(qr_code.tolist())\n",
    "with open(file_name, \"w\") as f:\n",
    "    f.write(text)"
   ]
  },
  {
   "cell_type": "code",
   "execution_count": null,
   "metadata": {},
   "outputs": [],
   "source": [
    "#itt a 201=9+8*3-ból jön ki"
   ]
  },
  {
   "cell_type": "markdown",
   "metadata": {
    "slideshow": {
     "slide_type": "slide"
    }
   },
   "source": [
    "használjunk értelmes változóneveket és kommenteljünk"
   ]
  },
  {
   "cell_type": "code",
   "execution_count": null,
   "metadata": {},
   "outputs": [],
   "source": [
    " #rossz\n",
    "    for i in range(n):\n",
    "        if i < 8:\n",
    "            for j in range(8,n-8):\n",
    "                z[i][j] = l[p]\n",
    "                p += 1\n",
    "        elif i >= 8 and i < n-8:\n",
    "            for j in range(n):\n",
    "                z[i][j] = l[p]\n",
    "                p += 1\n",
    "        else:\n",
    "            for j in range(8,n):\n",
    "                if p < len(l):\n",
    "                    z[i][j] = l[p]\n",
    "                    p += 1\n",
    "\n",
    "                    "
   ]
  },
  {
   "cell_type": "code",
   "execution_count": null,
   "metadata": {},
   "outputs": [],
   "source": [
    "# jó\n",
    "\n",
    "#lefordítom kódra az üzenetet és eltárolom\n",
    "    coded_message = []\n",
    "    for char in message:\n",
    "        for bit in mdict[char]:\n",
    "            coded_message.append(bit)"
   ]
  }
 ],
 "metadata": {
  "celltoolbar": "Slideshow",
  "kernelspec": {
   "display_name": "Python 3",
   "language": "python",
   "name": "python3"
  },
  "language_info": {
   "codemirror_mode": {
    "name": "ipython",
    "version": 3
   },
   "file_extension": ".py",
   "mimetype": "text/x-python",
   "name": "python",
   "nbconvert_exporter": "python",
   "pygments_lexer": "ipython3",
   "version": "3.7.4"
  }
 },
 "nbformat": 4,
 "nbformat_minor": 5
}
