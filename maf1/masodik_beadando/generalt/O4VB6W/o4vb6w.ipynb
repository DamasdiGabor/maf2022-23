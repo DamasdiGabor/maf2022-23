{
 "cells": [
  {
   "cell_type": "markdown",
   "metadata": {},
   "source": [
    "# Második beadandó\n",
    "\n",
    "Három feladat van, mindegyik két pontot ér. A jegy a pontok száma, de legfeljebb 5. Megoldásként ezt a fájlt kell visszaküldeni kitöltve. A programoknak úgy kell működniük, hogy a Restart & Run All parancsra hiba nélkül végigfusson a notebook.\n",
    "\n",
    "A megoldásodat röviden (kb 10 perc) be kell mutatnod az egyik vizsgaidőpontban. Ekkor legyél képben mindennel, és legyél képes apróbb változtatások végrehajtására élőben. Ilyen típusú kérdésekre számíthatsz: melyik részt és hogyan kellene átírni, hogy a programod még azt is tudja, hogy xy. \n",
    "\n",
    "A vizsgán való részvétel feltétele, hogy legalább 3 nappal korábban elküldöd a beadandót, hogy legyen időm megnézni. \n",
    "\n",
    "### Ha valamivel nagyon elakadsz, írj egy emailt és segítek.\n",
    "\n"
   ]
  },
  {
   "cell_type": "markdown",
   "metadata": {},
   "source": [
    "## 1. Algoritmikus feladat\n",
    "Implementáld az alábbi két algoritmus közül VALAMELYIKET! \n",
    "- A részleteket rád bízom, például, ha több hasonló verziója is van az algoritmusnak, válassz egyet. \n",
    "- **Teszteld meggyőző módon, mutasd be példákon az algoritmusod!**\n",
    "- Egy gráf reprezentálásához vagy használj egy könyvtárat (pl. networkx) vagy pedig hozz létre egy gráf osztályt objektum orientáltan.\n",
    "- Az algoritmust ,,kézzel'' rakd össze, azaz nem használhatsz kész megoldásokat. \n",
    "- A bemutatás során használhatsz kézi példákat, vagy pedig a networkx, vagy egyéb könyvtárak beépített algoritmusait, hogy összehasonlítsd azzal, amit te implementáltál.\n"
   ]
  },
  {
   "cell_type": "markdown",
   "metadata": {},
   "source": [
    "### Gale-Shapely \n",
    "Implementáld a Gale-Shapely algoritmust [link](https://en.wikipedia.org/wiki/Gale%E2%80%93Shapley_algorithm) a legnagyobb stabil párosítás [link](https://en.wikipedia.org/wiki/Stable_marriage_problem) meghatározására.\n"
   ]
  },
  {
   "cell_type": "markdown",
   "metadata": {},
   "source": [
    "### 2-összefüggő komponensek\n",
    "Implementáld a mélységi keresésen alapuló módszert egy gráf elvágó pontjainak, és 2-összefüggő komponenseinek meghatározására.[link](https://en.wikipedia.org/wiki/Biconnected_component)\n"
   ]
  },
  {
   "cell_type": "code",
   "execution_count": null,
   "metadata": {},
   "outputs": [],
   "source": [
    "#algoritmus"
   ]
  },
  {
   "cell_type": "code",
   "execution_count": null,
   "metadata": {},
   "outputs": [],
   "source": [
    "#bemutatás példán"
   ]
  },
  {
   "cell_type": "markdown",
   "metadata": {},
   "source": [
    "## 2. Vizualizációs feladat\n",
    "- Az alábbi feladatot  a Matplotlib (és/vagy Pandas) csomag segítségével oldd meg!\n",
    "- A grafikonokon (amikor van értelme) legyen tengely, tengelyfelirat, tengelybeosztás, jelmagyarázat stb.\n",
    "- A grafikon színét mindig változtasd meg, ne az automatikus szín legyen. \n",
    "- A feladathoz szükséges fájlokat a megtalálod https://damasdigabor.web.elte.hu/vizu/ mappában, ezek értelmezése is a te feladatod. (Általában a fájl első sora segít). \n",
    "\n",
    "\n",
    "(A .csv fájlok beolvasására használhatod az órán tanult módszerek egyikét.) "
   ]
  },
  {
   "cell_type": "markdown",
   "metadata": {},
   "source": [
    "### Star Wars\n",
    "Készíts egy elemzést a  Star Wars episode IV, V és VI,-ban elhangzott mondatokról. Az adatokat a `SW_episodeIV.txt,SW_episodeV.txt,SW_episodeVI.txt` fájlokban találod. \n",
    "\n",
    "a) Készíts egy oszlopdiagrammot, ami a 10 leggyakrabban beszélő karaktert mutatja, és hogy hányszor szólaltak meg. \n",
    "\n",
    "b) Készíts egy kördiagrammot, ami azt mutatja, hogy hányszor szólal meg Vader és hányszor Luke a különböző részekben. (Tehát 6 cikkelye van) "
   ]
  },
  {
   "cell_type": "code",
   "execution_count": null,
   "metadata": {},
   "outputs": [],
   "source": [
    "#két ábra és az őket generáló kód"
   ]
  },
  {
   "cell_type": "markdown",
   "metadata": {},
   "source": [
    "## 3. Puzzle feladat\n",
    "Ebben a feladatban neked kell algoritmust kitalálnod egy feladatra. \n",
    "- Írj egy rövid leírást (feladat, algoritmus, miért jó az algoritmus) és példákon mutasd be a működését.\n",
    "- Ahol van értelme, ott törekedj az objektumorientáltságra. \n",
    "- Törekedj rá, hogy a programod gyors legyen, pár másodpercnél ne tartson tovább a futás. (A vizsgán rákérdezhetek, hogy milyen gyors matematikai értelemben, lehet-e gyorsítani, stb)\n",
    "- Ha nem tudsz olyan megoldást kitalálni, ami minden esetben működik/lefut, írj olyat, ami minél több esetben jó, és részpontokat kaphatsz. \n",
    "\n",
    "\n"
   ]
  },
  {
   "cell_type": "markdown",
   "metadata": {},
   "source": [
    "### Piramis\n",
    "Egy piramis feladvány a következő: adott egy piramis, amiben adott néhány szám (bárhol lehetnek, nem csak az alján). Úgy kell kitölteni a piramis minden mezőjét egy-egy számmal, hogy a második sortól felfele minden szám az alatta lévő kettő összege legyen. Itt láthatsz pár feladványt: [link](https://www.doingmaths.co.uk/addition-and-subtraction.html).  \n",
    "\n",
    "A feladatod, hogy írj egy algoritmust, ami tetszőleges méretű piramis esetén megoldja a feladványt, vagy pedig kiírja, hogy nincs megoldás.\n"
   ]
  },
  {
   "cell_type": "markdown",
   "metadata": {},
   "source": [
    "### Rövid leírás:"
   ]
  },
  {
   "cell_type": "code",
   "execution_count": null,
   "metadata": {},
   "outputs": [],
   "source": [
    "#algoritmus"
   ]
  },
  {
   "cell_type": "code",
   "execution_count": null,
   "metadata": {},
   "outputs": [],
   "source": [
    "#példa"
   ]
  }
 ],
 "metadata": {
  "kernelspec": {
   "display_name": "Python 3",
   "language": "python",
   "name": "python3"
  },
  "language_info": {
   "codemirror_mode": {
    "name": "ipython",
    "version": 3
   },
   "file_extension": ".py",
   "mimetype": "text/x-python",
   "name": "python",
   "nbconvert_exporter": "python",
   "pygments_lexer": "ipython3",
   "version": "3.7.4"
  }
 },
 "nbformat": 4,
 "nbformat_minor": 2
}
