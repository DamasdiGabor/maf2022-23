{
 "cells": [
  {
   "cell_type": "markdown",
   "metadata": {},
   "source": [
    "# Második beadandó\n",
    "\n",
    "Három feladat van, mindegyik két pontot ér. A jegy a pontok száma, de legfeljebb 5. Megoldásként ezt a fájlt kell visszaküldeni kitöltve. A programoknak úgy kell működniük, hogy a Restart & Run All parancsra hiba nélkül végigfusson a notebook.\n",
    "\n",
    "A megoldásodat röviden (kb 10 perc) be kell mutatnod az egyik vizsgaidőpontban. Ekkor legyél képben mindennel, és legyél képes apróbb változtatások végrehajtására élőben. Ilyen típusú kérdésekre számíthatsz: melyik részt és hogyan kellene átírni, hogy a programod még azt is tudja, hogy xy. \n",
    "\n",
    "A vizsgán való részvétel feltétele, hogy legalább 3 nappal korábban elküldöd a beadandót, hogy legyen időm megnézni. \n",
    "\n",
    "### Ha valamivel nagyon elakadsz, írj egy emailt és segítek.\n",
    "\n"
   ]
  },
  {
   "cell_type": "markdown",
   "metadata": {},
   "source": [
    "## 1. Algoritmikus feladat\n",
    "Implementáld az alábbi két algoritmus közül VALAMELYIKET! \n",
    "- A részleteket rád bízom, például, ha több hasonló verziója is van az algoritmusnak, válassz egyet. \n",
    "- **Teszteld meggyőző módon, mutasd be példákon az algoritmusod!**\n",
    "- Egy gráf reprezentálásához vagy használj egy könyvtárat (pl. networkx) vagy pedig hozz létre egy gráf osztályt objektum orientáltan.\n",
    "- Az algoritmust ,,kézzel'' rakd össze, azaz nem használhatsz kész megoldásokat. \n",
    "- A bemutatás során használhatsz kézi példákat, vagy pedig a networkx, vagy egyéb könyvtárak beépített algoritmusait, hogy összehasonlítsd azzal, amit te implementáltál.\n"
   ]
  },
  {
   "cell_type": "markdown",
   "metadata": {},
   "source": [
    "### Gale-Shapely \n",
    "Implementáld a Gale-Shapely algoritmust [link](https://en.wikipedia.org/wiki/Gale%E2%80%93Shapley_algorithm) a legnagyobb stabil párosítás [link](https://en.wikipedia.org/wiki/Stable_marriage_problem) meghatározására.\n"
   ]
  },
  {
   "cell_type": "markdown",
   "metadata": {},
   "source": [
    "### Miller Rabin\n",
    "Implementáld a Miller-Rabin valószínűségi prímtesztet. [link](https://en.wikipedia.org/wiki/Miller%E2%80%93Rabin_primality_test)\n",
    "\n",
    "A bemenet egy file legyen, aminek első sora egy tetszőleges hosszú tízes számrendszerbeli n számot tartalmaz, erre kell a tesztet elvégezni. A kipróbálandó tanúk száma legyen paraméter, aminek alapértelmezett értéke legyen 10*log(n). "
   ]
  },
  {
   "cell_type": "code",
   "execution_count": null,
   "metadata": {},
   "outputs": [],
   "source": [
    "#algoritmus"
   ]
  },
  {
   "cell_type": "code",
   "execution_count": null,
   "metadata": {},
   "outputs": [],
   "source": [
    "#bemutatás példán"
   ]
  },
  {
   "cell_type": "markdown",
   "metadata": {},
   "source": [
    "## 2. Vizualizációs feladat\n",
    "- Az alábbi feladatot  a Matplotlib (és/vagy Pandas) csomag segítségével oldd meg!\n",
    "- A grafikonokon (amikor van értelme) legyen tengely, tengelyfelirat, tengelybeosztás, jelmagyarázat stb.\n",
    "- A grafikon színét mindig változtasd meg, ne az automatikus szín legyen. \n",
    "- A feladathoz szükséges fájlokat a megtalálod https://damasdigabor.web.elte.hu/vizu/ mappában, ezek értelmezése is a te feladatod. (Általában a fájl első sora segít). \n",
    "\n",
    "\n",
    "(A .csv fájlok beolvasására használhatod az órán tanult módszerek egyikét.) "
   ]
  },
  {
   "cell_type": "markdown",
   "metadata": {},
   "source": [
    "### Google trends. \n",
    "\n",
    "a) Készíts egy ehhez hasonló grafikont: https://xkcd.com/2302/\n",
    "\n",
    " Itt tölthetsz le adatokat: https://trends.google.com/trends/  Találj ki legalább öt érdekes keresőszót! Ha rákeresel egy szóra, letölthetővé válik egy cvs fájl az adatokkal, hogy az adott kifejezés mikor mennyire volt népszerű a google keresőben a  beállított időszakban. A 100 érték jelöli a maximumot, a többi ahhoz képest van arányosan beállítva. A 0 érték azt jelenti, hogy nem volt elég adat az adott időszakban. Ábrázold egy közös grafikonon, hogy mikor mennyire volt népszerű az adott szó. \n",
    "\n",
    "\n",
    "b) Az előbb felhasznált keresőszavak alapján csinálj egy kördiagrammot, ami azt mutatja, hogy ha most rákeresünk a szavakra, melyikre hány találatot kapunk. "
   ]
  },
  {
   "cell_type": "code",
   "execution_count": null,
   "metadata": {},
   "outputs": [],
   "source": [
    "#két ábra és az őket generáló kód"
   ]
  },
  {
   "cell_type": "markdown",
   "metadata": {},
   "source": [
    "## 3. Puzzle feladat\n",
    "Ebben a feladatban neked kell algoritmust kitalálnod egy feladatra. \n",
    "- Írj egy rövid leírást (feladat, algoritmus, miért jó az algoritmus) és példákon mutasd be a működését.\n",
    "- Ahol van értelme, ott törekedj az objektumorientáltságra. \n",
    "- Törekedj rá, hogy a programod gyors legyen, pár másodpercnél ne tartson tovább a futás. (A vizsgán rákérdezhetek, hogy milyen gyors matematikai értelemben, lehet-e gyorsítani, stb)\n",
    "- Ha nem tudsz olyan megoldást kitalálni, ami minden esetben működik/lefut, írj olyat, ami minél több esetben jó, és részpontokat kaphatsz. \n",
    "\n",
    "\n"
   ]
  },
  {
   "cell_type": "markdown",
   "metadata": {},
   "source": [
    "### 15-ös tologatós\n",
    "\n",
    "Írj egy programot, ami tetszőleges állásból megoldja a 15-ös tologatós játékot, vagy pedig kiírja, hogy nincs megoldás. A játék leírását megtalálod itt: [link](https://en.wikipedia.org/wiki/15_puzzle), vagy ki is próbálhatod itt: [link](https://lorecioni.github.io/fifteen-puzzle-game/). A lépések menetét vizualizáld is. \n",
    "\n",
    "Egy kis segítség a megoldáshoz: A feladat túl komplex ahhoz, hogy egyszerű végigpróbálgatással meg lehessen oldani. Ezért érdemes vagy kitalálni egy jó stratégiát az egész megoldására, vagy legalább a számok egy részét helyre rakni és aztán végigpróbálgatásra váltani. \n"
   ]
  },
  {
   "cell_type": "markdown",
   "metadata": {},
   "source": [
    "### Rövid leírás:"
   ]
  },
  {
   "cell_type": "code",
   "execution_count": null,
   "metadata": {},
   "outputs": [],
   "source": [
    "#algoritmus"
   ]
  },
  {
   "cell_type": "code",
   "execution_count": null,
   "metadata": {},
   "outputs": [],
   "source": [
    "#példa"
   ]
  }
 ],
 "metadata": {},
 "nbformat": 4,
 "nbformat_minor": 2
}
