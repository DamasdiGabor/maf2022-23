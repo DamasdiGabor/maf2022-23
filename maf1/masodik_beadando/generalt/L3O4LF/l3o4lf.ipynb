{
 "cells": [
  {
   "cell_type": "markdown",
   "metadata": {},
   "source": [
    "# Második beadandó\n",
    "\n",
    "Három feladat van, mindegyik két pontot ér. A jegy a pontok száma, de legfeljebb 5. Megoldásként ezt a fájlt kell visszaküldeni kitöltve. A programoknak úgy kell működniük, hogy a Restart & Run All parancsra hiba nélkül végigfusson a notebook.\n",
    "\n",
    "A megoldásodat röviden (kb 10 perc) be kell mutatnod az egyik vizsgaidőpontban. Ekkor legyél képben mindennel, és legyél képes apróbb változtatások végrehajtására élőben. Ilyen típusú kérdésekre számíthatsz: melyik részt és hogyan kellene átírni, hogy a programod még azt is tudja, hogy xy. \n",
    "\n",
    "A vizsgán való részvétel feltétele, hogy legalább 3 nappal korábban elküldöd a beadandót, hogy legyen időm megnézni. \n",
    "\n",
    "### Ha valamivel nagyon elakadsz, írj egy emailt és segítek.\n",
    "\n"
   ]
  },
  {
   "cell_type": "markdown",
   "metadata": {},
   "source": [
    "## 1. Algoritmikus feladat\n",
    "Implementáld az alábbi két algoritmus közül VALAMELYIKET! \n",
    "- A részleteket rád bízom, például, ha több hasonló verziója is van az algoritmusnak, válassz egyet. \n",
    "- **Teszteld meggyőző módon, mutasd be példákon az algoritmusod!**\n",
    "- Egy gráf reprezentálásához vagy használj egy könyvtárat (pl. networkx) vagy pedig hozz létre egy gráf osztályt objektum orientáltan.\n",
    "- Az algoritmust ,,kézzel'' rakd össze, azaz nem használhatsz kész megoldásokat. \n",
    "- A bemutatás során használhatsz kézi példákat, vagy pedig a networkx, vagy egyéb könyvtárak beépített algoritmusait, hogy összehasonlítsd azzal, amit te implementáltál.\n"
   ]
  },
  {
   "cell_type": "markdown",
   "metadata": {},
   "source": [
    "### BEST algoritmus\n",
    "Implementáld a BEST algoritmust Euler-körséta generálására irányított gráfban. \n",
    "\n",
    "BEST algoritmusa a következő: Keressünk a gráfban egy feszítő fenyőt, ami a gyökér felé van irányítva. Ezután kiindulunk  a gyökérből és az éleket követve lépkedünk egyedül arra figyelve, hogy amíg lehet elkerüljük a kijelölt feszítő fenyő éleit. Tehát, amikor egy csúcsnál járunk, mindig választunk egy kiinduló élt, amit még nem használtunk korábbán, és azon tovább haladunk, és csak akkor választjuk a fenyőhöz tartozó élt, ha muszáj. \n",
    "\n"
   ]
  },
  {
   "cell_type": "markdown",
   "metadata": {},
   "source": [
    "### Lempel–Ziv–Welch\n",
    "\n",
    "Implementáld a Lempel–Ziv–Welch tömörítési eljárást. [link](https://en.wikipedia.org/wiki/Lempel%E2%80%93Ziv%E2%80%93Welch)"
   ]
  },
  {
   "cell_type": "code",
   "execution_count": null,
   "metadata": {},
   "outputs": [],
   "source": [
    "#algoritmus"
   ]
  },
  {
   "cell_type": "code",
   "execution_count": null,
   "metadata": {},
   "outputs": [],
   "source": [
    "#bemutatás példán"
   ]
  },
  {
   "cell_type": "markdown",
   "metadata": {},
   "source": [
    "## 2. Vizualizációs feladat\n",
    "- Az alábbi feladatot  a Matplotlib (és/vagy Pandas) csomag segítségével oldd meg!\n",
    "- A grafikonokon (amikor van értelme) legyen tengely, tengelyfelirat, tengelybeosztás, jelmagyarázat stb.\n",
    "- A grafikon színét mindig változtasd meg, ne az automatikus szín legyen. \n",
    "- A feladathoz szükséges fájlokat a megtalálod https://damasdigabor.web.elte.hu/vizu/ mappában, ezek értelmezése is a te feladatod. (Általában a fájl első sora segít). \n",
    "\n",
    "\n",
    "(A .csv fájlok beolvasására használhatod az órán tanult módszerek egyikét.) "
   ]
  },
  {
   "cell_type": "markdown",
   "metadata": {},
   "source": [
    "### Titanic\n",
    "Készíts egy elemzést a Titanic utasairól. Az adatokat a `titanic.csv` fájlban találod. Vigyázz! Az adathalmazban vannak hiányosságok, mert nem mindent lehetett utólag kideríteni. \n",
    "\n",
    "a) Oszd fel az utasokat korosztály szerint (0-9,10-19, stb). Készíts egy körgrafikont, amely bemutatja, hogy melyik korosztályból hányan élték túl a katasztrófát. \n",
    "\n",
    "\n",
    "b) Készíts egy ehez hasonló diagrammot [link](https://docs.inductiveautomation.com/download/thumbnails/8227131/barChartInitial.PNG?version=1&modificationDate=1503724564000&api=v2), amely bemutatja, hogy a három osztályra lebontva hány nő és hány férfi volt a hajón. "
   ]
  },
  {
   "cell_type": "code",
   "execution_count": null,
   "metadata": {},
   "outputs": [],
   "source": [
    "#két ábra és az őket generáló kód"
   ]
  },
  {
   "cell_type": "markdown",
   "metadata": {},
   "source": [
    "## 3. Puzzle feladat\n",
    "Ebben a feladatban neked kell algoritmust kitalálnod egy feladatra. \n",
    "- Írj egy rövid leírást (feladat, algoritmus, miért jó az algoritmus) és példákon mutasd be a működését.\n",
    "- Ahol van értelme, ott törekedj az objektumorientáltságra. \n",
    "- Törekedj rá, hogy a programod gyors legyen, pár másodpercnél ne tartson tovább a futás. (A vizsgán rákérdezhetek, hogy milyen gyors matematikai értelemben, lehet-e gyorsítani, stb)\n",
    "- Ha nem tudsz olyan megoldást kitalálni, ami minden esetben működik/lefut, írj olyat, ami minél több esetben jó, és részpontokat kaphatsz. \n",
    "\n",
    "\n"
   ]
  },
  {
   "cell_type": "markdown",
   "metadata": {},
   "source": [
    "### Ugráló békák\n",
    "Írj egy programot, amely tetszőleg, akár különböző számú piros és kék béka esetén megoldja az ugráló békák feladványt. A feladvány leírását megtalálod itt: [link](http://www.primefactorisation.com/frogpuzzle/).  A lépések menetét vizualizáld is. \n"
   ]
  },
  {
   "cell_type": "markdown",
   "metadata": {},
   "source": [
    "### Rövid leírás:"
   ]
  },
  {
   "cell_type": "code",
   "execution_count": null,
   "metadata": {},
   "outputs": [],
   "source": [
    "#algoritmus"
   ]
  },
  {
   "cell_type": "code",
   "execution_count": null,
   "metadata": {},
   "outputs": [],
   "source": [
    "#példa"
   ]
  }
 ],
 "metadata": {},
 "nbformat": 4,
 "nbformat_minor": 2
}
