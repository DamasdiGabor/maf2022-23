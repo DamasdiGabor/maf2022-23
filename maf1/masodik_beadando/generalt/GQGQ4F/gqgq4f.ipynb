{
 "cells": [
  {
   "cell_type": "markdown",
   "metadata": {},
   "source": [
    "# Második beadandó\n",
    "\n",
    "Három feladat van, mindegyik két pontot ér. A jegy a pontok száma, de legfeljebb 5. Megoldásként ezt a fájlt kell visszaküldeni kitöltve. A programoknak úgy kell működniük, hogy a Restart & Run All parancsra hiba nélkül végigfusson a notebook.\n",
    "\n",
    "A megoldásodat röviden (kb 10 perc) be kell mutatnod az egyik vizsgaidőpontban. Ekkor legyél képben mindennel, és legyél képes apróbb változtatások végrehajtására élőben. Ilyen típusú kérdésekre számíthatsz: melyik részt és hogyan kellene átírni, hogy a programod még azt is tudja, hogy xy. \n",
    "\n",
    "A vizsgán való részvétel feltétele, hogy legalább 3 nappal korábban elküldöd a beadandót, hogy legyen időm megnézni. \n",
    "\n",
    "### Ha valamivel nagyon elakadsz, írj egy emailt és segítek.\n",
    "\n"
   ]
  },
  {
   "cell_type": "markdown",
   "metadata": {},
   "source": [
    "## 1. Algoritmikus feladat\n",
    "Implementáld az alábbi két algoritmus közül VALAMELYIKET! \n",
    "- A részleteket rád bízom, például, ha több hasonló verziója is van az algoritmusnak, válassz egyet. \n",
    "- **Teszteld meggyőző módon, mutasd be példákon az algoritmusod!**\n",
    "- Egy gráf reprezentálásához vagy használj egy könyvtárat (pl. networkx) vagy pedig hozz létre egy gráf osztályt objektum orientáltan.\n",
    "- Az algoritmust ,,kézzel'' rakd össze, azaz nem használhatsz kész megoldásokat. \n",
    "- A bemutatás során használhatsz kézi példákat, vagy pedig a networkx, vagy egyéb könyvtárak beépített algoritmusait, hogy összehasonlítsd azzal, amit te implementáltál.\n"
   ]
  },
  {
   "cell_type": "markdown",
   "metadata": {},
   "source": [
    "### Gale-Shapely \n",
    "Implementáld a Gale-Shapely algoritmust [link](https://en.wikipedia.org/wiki/Gale%E2%80%93Shapley_algorithm) a legnagyobb stabil párosítás [link](https://en.wikipedia.org/wiki/Stable_marriage_problem) meghatározására.\n"
   ]
  },
  {
   "cell_type": "markdown",
   "metadata": {},
   "source": [
    "### 2-összefüggő komponensek\n",
    "Implementáld a mélységi keresésen alapuló módszert egy gráf elvágó pontjainak, és 2-összefüggő komponenseinek meghatározására.[link](https://en.wikipedia.org/wiki/Biconnected_component)\n"
   ]
  },
  {
   "cell_type": "code",
   "execution_count": null,
   "metadata": {},
   "outputs": [],
   "source": [
    "#algoritmus"
   ]
  },
  {
   "cell_type": "code",
   "execution_count": null,
   "metadata": {},
   "outputs": [],
   "source": [
    "#bemutatás példán"
   ]
  },
  {
   "cell_type": "markdown",
   "metadata": {},
   "source": [
    "## 2. Vizualizációs feladat\n",
    "- Az alábbi feladatot  a Matplotlib (és/vagy Pandas) csomag segítségével oldd meg!\n",
    "- A grafikonokon (amikor van értelme) legyen tengely, tengelyfelirat, tengelybeosztás, jelmagyarázat stb.\n",
    "- A grafikon színét mindig változtasd meg, ne az automatikus szín legyen. \n",
    "- A feladathoz szükséges fájlokat a megtalálod https://damasdigabor.web.elte.hu/vizu/ mappában, ezek értelmezése is a te feladatod. (Általában a fájl első sora segít). \n",
    "\n",
    "\n",
    "(A .csv fájlok beolvasására használhatod az órán tanult módszerek egyikét.) "
   ]
  },
  {
   "cell_type": "markdown",
   "metadata": {},
   "source": [
    "### Google trends. \n",
    "\n",
    "a) Készíts egy ehhez hasonló grafikont: https://xkcd.com/2302/\n",
    "\n",
    " Itt tölthetsz le adatokat: https://trends.google.com/trends/  Találj ki legalább öt érdekes keresőszót! Ha rákeresel egy szóra, letölthetővé válik egy cvs fájl az adatokkal, hogy az adott kifejezés mikor mennyire volt népszerű a google keresőben a  beállított időszakban. A 100 érték jelöli a maximumot, a többi ahhoz képest van arányosan beállítva. A 0 érték azt jelenti, hogy nem volt elég adat az adott időszakban. Ábrázold egy közös grafikonon, hogy mikor mennyire volt népszerű az adott szó. \n",
    "\n",
    "\n",
    "b) Az előbb felhasznált keresőszavak alapján csinálj egy kördiagrammot, ami azt mutatja, hogy ha most rákeresünk a szavakra, melyikre hány találatot kapunk. "
   ]
  },
  {
   "cell_type": "code",
   "execution_count": null,
   "metadata": {},
   "outputs": [],
   "source": [
    "#két ábra és az őket generáló kód"
   ]
  },
  {
   "cell_type": "markdown",
   "metadata": {},
   "source": [
    "## 3. Puzzle feladat\n",
    "Ebben a feladatban neked kell algoritmust kitalálnod egy feladatra. \n",
    "- Írj egy rövid leírást (feladat, algoritmus, miért jó az algoritmus) és példákon mutasd be a működését.\n",
    "- Ahol van értelme, ott törekedj az objektumorientáltságra. \n",
    "- Törekedj rá, hogy a programod gyors legyen, pár másodpercnél ne tartson tovább a futás. (A vizsgán rákérdezhetek, hogy milyen gyors matematikai értelemben, lehet-e gyorsítani, stb)\n",
    "- Ha nem tudsz olyan megoldást kitalálni, ami minden esetben működik/lefut, írj olyat, ami minél több esetben jó, és részpontokat kaphatsz. \n",
    "\n",
    "\n"
   ]
  },
  {
   "cell_type": "markdown",
   "metadata": {},
   "source": [
    "### Domborzat\n",
    "\n",
    "Egy területről domborzati méréseket végeztek úgy, hogy egy négyzetrács mentén lemérték a magasságokat és az eredményeket egy táblázatba foglalták össze. Azt szeretnénk kiszámolni, hogy ezen a területen mi a leghosszabb emelkedő útvonal, azaz a leghosszabb olyan sorozatot keressük a táblázat mezőiből, ahol mindig oldalszomszédos mezőre lépünk, és a mezőkben lévő számok szigorúan növekednek. Például, ha a táblázat:\n",
    "\n",
    "| 1 | 3 | 1 | 2 |\n",
    "|---|---|---|---|\n",
    "| 4 | 8 | 5 | 4 |\n",
    "| 5 | 1 | 1 | 8 |\n",
    "| 1 | 4 | 10 | 9 |\n",
    "\n",
    "Akkor a megoldás : 1 2 4 8 9 10\n",
    "\n",
    "Írj egy programot, mely a táblázat függvényében megoldja ezt a feladatot. A megoldás működjön $20\\times20$-as táblázatokra is!"
   ]
  },
  {
   "cell_type": "markdown",
   "metadata": {},
   "source": [
    "### Rövid leírás:"
   ]
  },
  {
   "cell_type": "code",
   "execution_count": null,
   "metadata": {},
   "outputs": [],
   "source": [
    "#algoritmus"
   ]
  },
  {
   "cell_type": "code",
   "execution_count": null,
   "metadata": {},
   "outputs": [],
   "source": [
    "#példa"
   ]
  }
 ],
 "metadata": {},
 "nbformat": 4,
 "nbformat_minor": 2
}
